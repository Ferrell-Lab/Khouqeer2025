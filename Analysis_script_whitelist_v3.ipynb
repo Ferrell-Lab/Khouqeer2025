{
 "cells": [
  {
   "cell_type": "code",
   "execution_count": 1,
   "metadata": {},
   "outputs": [],
   "source": [
    "# Make virtual envrironment "
   ]
  },
  {
   "cell_type": "code",
   "execution_count": 3,
   "metadata": {
    "scrolled": false
   },
   "outputs": [
    {
     "name": "stdout",
     "output_type": "stream",
     "text": [
      "Requirement already satisfied: jinja2 in ./Juypterenv/lib/python3.10/site-packages (3.1.4)\n",
      "Requirement already satisfied: MarkupSafe in ./Juypterenv/lib/python3.10/site-packages (3.0.2)\n",
      "Requirement already satisfied: umi_tools in ./Juypterenv/lib/python3.10/site-packages (1.1.6)\n",
      "Requirement already satisfied: networkx in ./Juypterenv/lib/python3.10/site-packages (3.4.2)\n",
      "Requirement already satisfied: pandas in /cvmfs/oasis.opensciencegrid.org/accre/mirror/optimized/haswell/easybuild/software/MPI/GCC/11.3.0/OpenMPI/4.1.4/SciPy-bundle/2022.05/lib/python3.10/site-packages (1.4.2)\n",
      "Requirement already satisfied: numpy in /cvmfs/oasis.opensciencegrid.org/accre/mirror/optimized/haswell/easybuild/software/MPI/GCC/11.3.0/OpenMPI/4.1.4/SciPy-bundle/2022.05/lib/python3.10/site-packages (1.22.3)\n",
      "Requirement already satisfied: matplotlib in /cvmfs/oasis.opensciencegrid.org/accre/mirror/optimized/haswell/easybuild/software/MPI/GCC/11.3.0/OpenMPI/4.1.4/matplotlib/3.5.2/lib/python3.10/site-packages (3.5.2)\n",
      "Requirement already satisfied: setuptools>=1.1 in ./Juypterenv/lib/python3.10/site-packages (from umi_tools) (75.3.0)\n",
      "Requirement already satisfied: future in ./Juypterenv/lib/python3.10/site-packages (from umi_tools) (1.0.0)\n",
      "Requirement already satisfied: regex in ./Juypterenv/lib/python3.10/site-packages (from umi_tools) (2024.11.6)\n",
      "Requirement already satisfied: scipy in /cvmfs/oasis.opensciencegrid.org/accre/mirror/optimized/haswell/easybuild/software/MPI/GCC/11.3.0/OpenMPI/4.1.4/SciPy-bundle/2022.05/lib/python3.10/site-packages (from umi_tools) (1.8.1)\n",
      "Requirement already satisfied: pybktree in ./Juypterenv/lib/python3.10/site-packages (from umi_tools) (1.1)\n",
      "Requirement already satisfied: pysam in ./Juypterenv/lib/python3.10/site-packages (from umi_tools) (0.22.1)\n",
      "Requirement already satisfied: python-dateutil>=2.8.1 in ./Juypterenv/lib/python3.10/site-packages (from pandas) (2.9.0.post0)\n",
      "Requirement already satisfied: pytz>=2020.1 in ./Juypterenv/lib/python3.10/site-packages (from pandas) (2024.2)\n",
      "Requirement already satisfied: cycler>=0.10 in /cvmfs/oasis.opensciencegrid.org/accre/mirror/optimized/haswell/easybuild/software/MPI/GCC/11.3.0/OpenMPI/4.1.4/matplotlib/3.5.2/lib/python3.10/site-packages (from matplotlib) (0.11.0)\n",
      "Requirement already satisfied: fonttools>=4.22.0 in /cvmfs/oasis.opensciencegrid.org/accre/mirror/optimized/haswell/easybuild/software/MPI/GCC/11.3.0/OpenMPI/4.1.4/matplotlib/3.5.2/lib/python3.10/site-packages (from matplotlib) (4.34.0)\n",
      "Requirement already satisfied: kiwisolver>=1.0.1 in /cvmfs/oasis.opensciencegrid.org/accre/mirror/optimized/haswell/easybuild/software/MPI/GCC/11.3.0/OpenMPI/4.1.4/matplotlib/3.5.2/lib/python3.10/site-packages (from matplotlib) (1.4.3)\n",
      "Requirement already satisfied: packaging>=20.0 in ./Juypterenv/lib/python3.10/site-packages (from matplotlib) (24.2)\n",
      "Requirement already satisfied: pillow>=6.2.0 in /cvmfs/oasis.opensciencegrid.org/accre/mirror/optimized/haswell/easybuild/software/Compiler/GCCcore/11.3.0/Pillow/9.1.1/lib/python3.10/site-packages (from matplotlib) (9.1.1)\n",
      "Requirement already satisfied: pyparsing>=2.2.1 in ./Juypterenv/lib/python3.10/site-packages (from matplotlib) (3.2.0)\n",
      "Requirement already satisfied: six>=1.5 in ./Juypterenv/lib/python3.10/site-packages (from python-dateutil>=2.8.1->pandas) (1.16.0)\n",
      "Requirement already satisfied: ipykernel in /cvmfs/oasis.opensciencegrid.org/accre/mirror/optimized/haswell/easybuild/software/Compiler/GCCcore/11.3.0/IPython/8.5.0/lib/python3.10/site-packages (6.13.0)\n",
      "Requirement already satisfied: debugpy>=1.0 in /cvmfs/oasis.opensciencegrid.org/accre/mirror/optimized/haswell/easybuild/software/Compiler/GCCcore/11.3.0/IPython/8.5.0/lib/python3.10/site-packages (from ipykernel) (1.4.1)\n",
      "Requirement already satisfied: ipython>=7.23.1 in /cvmfs/oasis.opensciencegrid.org/accre/mirror/optimized/haswell/easybuild/software/Compiler/GCCcore/11.3.0/IPython/8.5.0/lib/python3.10/site-packages (from ipykernel) (8.5.0)\n",
      "Requirement already satisfied: traitlets>=5.1.0 in /cvmfs/oasis.opensciencegrid.org/accre/mirror/optimized/haswell/easybuild/software/Compiler/GCCcore/11.3.0/IPython/8.5.0/lib/python3.10/site-packages (from ipykernel) (5.2.1.post0)\n",
      "Requirement already satisfied: jupyter-client>=6.1.12 in /cvmfs/oasis.opensciencegrid.org/accre/mirror/optimized/haswell/easybuild/software/Compiler/GCCcore/11.3.0/IPython/8.5.0/lib/python3.10/site-packages (from ipykernel) (7.3.1)\n",
      "Requirement already satisfied: tornado>=6.1 in /cvmfs/oasis.opensciencegrid.org/accre/mirror/optimized/haswell/easybuild/software/Compiler/GCCcore/11.3.0/IPython/8.5.0/lib/python3.10/site-packages (from ipykernel) (6.2)\n",
      "Requirement already satisfied: matplotlib-inline>=0.1 in /cvmfs/oasis.opensciencegrid.org/accre/mirror/optimized/haswell/easybuild/software/Compiler/GCCcore/11.3.0/IPython/8.5.0/lib/python3.10/site-packages (from ipykernel) (0.1.2)\n",
      "Requirement already satisfied: psutil in ./Juypterenv/lib/python3.10/site-packages (from ipykernel) (6.1.0)\n",
      "Requirement already satisfied: nest-asyncio in /cvmfs/oasis.opensciencegrid.org/accre/mirror/optimized/haswell/easybuild/software/Compiler/GCCcore/11.3.0/IPython/8.5.0/lib/python3.10/site-packages (from ipykernel) (1.5.5)\n",
      "Requirement already satisfied: packaging in ./Juypterenv/lib/python3.10/site-packages (from ipykernel) (24.2)\n",
      "Requirement already satisfied: backcall in /cvmfs/oasis.opensciencegrid.org/accre/mirror/optimized/haswell/easybuild/software/Compiler/GCCcore/11.3.0/IPython/8.5.0/lib/python3.10/site-packages (from ipython>=7.23.1->ipykernel) (0.2.0)\n",
      "Requirement already satisfied: decorator in ./Juypterenv/lib/python3.10/site-packages (from ipython>=7.23.1->ipykernel) (5.1.1)\n",
      "Requirement already satisfied: jedi>=0.16 in /cvmfs/oasis.opensciencegrid.org/accre/mirror/optimized/haswell/easybuild/software/Compiler/GCCcore/11.3.0/IPython/8.5.0/lib/python3.10/site-packages (from ipython>=7.23.1->ipykernel) (0.18.1)\n",
      "Requirement already satisfied: pickleshare in /cvmfs/oasis.opensciencegrid.org/accre/mirror/optimized/haswell/easybuild/software/Compiler/GCCcore/11.3.0/IPython/8.5.0/lib/python3.10/site-packages (from ipython>=7.23.1->ipykernel) (0.7.5)\n",
      "Requirement already satisfied: prompt-toolkit<3.1.0,>3.0.1 in /cvmfs/oasis.opensciencegrid.org/accre/mirror/optimized/haswell/easybuild/software/Compiler/GCCcore/11.3.0/IPython/8.5.0/lib/python3.10/site-packages (from ipython>=7.23.1->ipykernel) (3.0.31)\n",
      "Requirement already satisfied: pygments>=2.4.0 in ./Juypterenv/lib/python3.10/site-packages (from ipython>=7.23.1->ipykernel) (2.18.0)\n",
      "Requirement already satisfied: stack-data in /cvmfs/oasis.opensciencegrid.org/accre/mirror/optimized/haswell/easybuild/software/Compiler/GCCcore/11.3.0/IPython/8.5.0/lib/python3.10/site-packages (from ipython>=7.23.1->ipykernel) (0.5.0)\n",
      "Requirement already satisfied: pexpect>4.3 in ./Juypterenv/lib/python3.10/site-packages (from ipython>=7.23.1->ipykernel) (4.9.0)\n",
      "Requirement already satisfied: entrypoints in /cvmfs/oasis.opensciencegrid.org/accre/mirror/optimized/haswell/easybuild/software/Compiler/GCCcore/11.3.0/IPython/8.5.0/lib/python3.10/site-packages (from jupyter-client>=6.1.12->ipykernel) (0.4)\n",
      "Requirement already satisfied: jupyter-core>=4.9.2 in /cvmfs/oasis.opensciencegrid.org/accre/mirror/optimized/haswell/easybuild/software/Compiler/GCCcore/11.3.0/IPython/8.5.0/lib/python3.10/site-packages (from jupyter-client>=6.1.12->ipykernel) (4.10.0)\n",
      "Requirement already satisfied: python-dateutil>=2.8.2 in ./Juypterenv/lib/python3.10/site-packages (from jupyter-client>=6.1.12->ipykernel) (2.9.0.post0)\n",
      "Requirement already satisfied: pyzmq>=22.3 in /cvmfs/oasis.opensciencegrid.org/accre/mirror/optimized/haswell/easybuild/software/Compiler/GCCcore/11.3.0/IPython/8.5.0/lib/python3.10/site-packages (from jupyter-client>=6.1.12->ipykernel) (23.2.1)\n",
      "Requirement already satisfied: parso<0.9.0,>=0.8.0 in /cvmfs/oasis.opensciencegrid.org/accre/mirror/optimized/haswell/easybuild/software/Compiler/GCCcore/11.3.0/IPython/8.5.0/lib/python3.10/site-packages (from jedi>=0.16->ipython>=7.23.1->ipykernel) (0.8.3)\n",
      "Requirement already satisfied: ptyprocess>=0.5 in ./Juypterenv/lib/python3.10/site-packages (from pexpect>4.3->ipython>=7.23.1->ipykernel) (0.7.0)\n"
     ]
    },
    {
     "name": "stdout",
     "output_type": "stream",
     "text": [
      "Requirement already satisfied: wcwidth in ./Juypterenv/lib/python3.10/site-packages (from prompt-toolkit<3.1.0,>3.0.1->ipython>=7.23.1->ipykernel) (0.2.13)\n",
      "Requirement already satisfied: six>=1.5 in ./Juypterenv/lib/python3.10/site-packages (from python-dateutil>=2.8.2->jupyter-client>=6.1.12->ipykernel) (1.16.0)\n",
      "Requirement already satisfied: executing in /cvmfs/oasis.opensciencegrid.org/accre/mirror/optimized/haswell/easybuild/software/Compiler/GCCcore/11.3.0/IPython/8.5.0/lib/python3.10/site-packages (from stack-data->ipython>=7.23.1->ipykernel) (1.0.0)\n",
      "Requirement already satisfied: asttokens in /cvmfs/oasis.opensciencegrid.org/accre/mirror/optimized/haswell/easybuild/software/Compiler/GCCcore/11.3.0/IPython/8.5.0/lib/python3.10/site-packages (from stack-data->ipython>=7.23.1->ipykernel) (2.0.8)\n",
      "Requirement already satisfied: pure-eval in /cvmfs/oasis.opensciencegrid.org/accre/mirror/optimized/haswell/easybuild/software/Compiler/GCCcore/11.3.0/IPython/8.5.0/lib/python3.10/site-packages (from stack-data->ipython>=7.23.1->ipykernel) (0.2.2)\n",
      "Installed kernelspec Juypterenv in /panfs/accrepfs.vampire/home/khouqea/.local/share/jupyter/kernels/juypterenv\n"
     ]
    }
   ],
   "source": [
    "%%bash\n",
    "python3 -m venv Juypterenv\n",
    "source Juypterenv/bin/activate\n",
    "pip install jinja2 MarkupSafe\n",
    "pip install umi_tools networkx pandas numpy matplotlib\n",
    "pip install ipykernel\n",
    "python -m ipykernel install --user --name=Juypterenv --display-name \"Python (Juypterenv)\""
   ]
  },
  {
   "cell_type": "code",
   "execution_count": 1,
   "metadata": {},
   "outputs": [],
   "source": [
    "# import libs\n",
    "from umi_tools import network as nk\n",
    "import umi_tools as umi\n",
    "import sys\n",
    "import pandas as pd\n",
    "import numpy as np, matplotlib.pyplot as plt, networkx as nx, pickle, json, gzip\n",
    "import subprocess\n",
    "import os\n",
    "import csv\n",
    "from collections import Counter\n",
    "import re\n",
    "import gzip, shutil"
   ]
  },
  {
   "cell_type": "code",
   "execution_count": 3,
   "metadata": {},
   "outputs": [],
   "source": [
    "# Extract all gzip fastq files\n",
    "dir_name = '/nobackup/l3_ferrell_lab/ABE/PRA_larry/fastq_files'\n",
    "\n",
    "def gz_extract(directory):\n",
    "    extension = '.gz'\n",
    "    os.chdir(directory)\n",
    "    for item in os.listdir(directory): # loop through items in dir\n",
    "      if item.endswith(extension): # check for '.gz' extension\n",
    "          gz_name = os.path.abspath(item) # get full path of files\n",
    "          file_name = (os.path.basename(gz_name)).rsplit('.',1)[0] #get file name for file within\n",
    "          with gzip.open(gz_name,'rb') as f_in, open(file_name,'wb') as f_out:\n",
    "              shutil.copyfileobj(f_in, f_out)\n",
    "          os.remove(gz_name) # delete zipped file\n",
    "        \n",
    "gz_extract(dir_name)"
   ]
  },
  {
   "cell_type": "code",
   "execution_count": 4,
   "metadata": {},
   "outputs": [
    {
     "data": {
      "text/plain": [
       "'/panfs/accrepfs.vampire/nobackup/l3_ferrell_lab/ABE/PRA_larry/fastq_files'"
      ]
     },
     "execution_count": 4,
     "metadata": {},
     "output_type": "execute_result"
    }
   ],
   "source": [
    "os.getcwd()"
   ]
  },
  {
   "cell_type": "code",
   "execution_count": 6,
   "metadata": {},
   "outputs": [
    {
     "name": "stdout",
     "output_type": "stream",
     "text": [
      "null\n",
      "null\n",
      "null\n",
      "null\n",
      "null\n",
      "null\n",
      "null\n",
      "null\n",
      "null\n",
      "null\n",
      "null\n",
      "null\n",
      "null\n",
      "null\n",
      "null\n",
      "null\n",
      "null\n",
      "null\n",
      "null\n",
      "null\n",
      "null\n",
      "null\n",
      "null\n",
      "null\n",
      "null\n",
      "null\n",
      "null\n",
      "null\n",
      "null\n",
      "null\n",
      "null\n",
      "null\n",
      "null\n",
      "null\n",
      "null\n",
      "null\n",
      "null\n",
      "null\n",
      "null\n",
      "null\n",
      "null\n",
      "null\n",
      "null\n",
      "null\n",
      "null\n",
      "null\n",
      "null\n",
      "null\n",
      "null\n",
      "null\n",
      "null\n",
      "null\n",
      "null\n",
      "null\n",
      "null\n"
     ]
    },
    {
     "name": "stderr",
     "output_type": "stream",
     "text": [
      "Started analysis of 12428-AK-0002_01_S1_L005_R1_001.fastq\n"
     ]
    },
    {
     "name": "stdout",
     "output_type": "stream",
     "text": [
      "null\n",
      "null\n",
      "null\n",
      "null\n",
      "null\n"
     ]
    },
    {
     "name": "stderr",
     "output_type": "stream",
     "text": [
      "Approx 5% complete for 12428-AK-0002_01_S1_L005_R1_001.fastq\n",
      "Approx 10% complete for 12428-AK-0002_01_S1_L005_R1_001.fastq\n",
      "Approx 15% complete for 12428-AK-0002_01_S1_L005_R1_001.fastq\n",
      "Approx 20% complete for 12428-AK-0002_01_S1_L005_R1_001.fastq\n",
      "Approx 25% complete for 12428-AK-0002_01_S1_L005_R1_001.fastq\n",
      "Approx 30% complete for 12428-AK-0002_01_S1_L005_R1_001.fastq\n",
      "Approx 35% complete for 12428-AK-0002_01_S1_L005_R1_001.fastq\n",
      "Approx 40% complete for 12428-AK-0002_01_S1_L005_R1_001.fastq\n",
      "Approx 45% complete for 12428-AK-0002_01_S1_L005_R1_001.fastq\n",
      "Approx 50% complete for 12428-AK-0002_01_S1_L005_R1_001.fastq\n",
      "Approx 55% complete for 12428-AK-0002_01_S1_L005_R1_001.fastq\n",
      "Approx 60% complete for 12428-AK-0002_01_S1_L005_R1_001.fastq\n",
      "Approx 65% complete for 12428-AK-0002_01_S1_L005_R1_001.fastq\n",
      "Approx 70% complete for 12428-AK-0002_01_S1_L005_R1_001.fastq\n",
      "Approx 75% complete for 12428-AK-0002_01_S1_L005_R1_001.fastq\n",
      "Approx 80% complete for 12428-AK-0002_01_S1_L005_R1_001.fastq\n",
      "Approx 85% complete for 12428-AK-0002_01_S1_L005_R1_001.fastq\n",
      "Approx 90% complete for 12428-AK-0002_01_S1_L005_R1_001.fastq\n",
      "Approx 95% complete for 12428-AK-0002_01_S1_L005_R1_001.fastq\n"
     ]
    },
    {
     "name": "stdout",
     "output_type": "stream",
     "text": [
      "Analysis complete for 12428-AK-0002_01_S1_L005_R1_001.fastq\n"
     ]
    },
    {
     "name": "stderr",
     "output_type": "stream",
     "text": [
      "Started analysis of 12428-AK-0002_01_S1_L005_R2_001.fastq\n",
      "Approx 5% complete for 12428-AK-0002_01_S1_L005_R2_001.fastq\n",
      "Approx 10% complete for 12428-AK-0002_01_S1_L005_R2_001.fastq\n",
      "Approx 15% complete for 12428-AK-0002_01_S1_L005_R2_001.fastq\n",
      "Approx 20% complete for 12428-AK-0002_01_S1_L005_R2_001.fastq\n",
      "Approx 25% complete for 12428-AK-0002_01_S1_L005_R2_001.fastq\n",
      "Approx 30% complete for 12428-AK-0002_01_S1_L005_R2_001.fastq\n",
      "Approx 35% complete for 12428-AK-0002_01_S1_L005_R2_001.fastq\n",
      "Approx 40% complete for 12428-AK-0002_01_S1_L005_R2_001.fastq\n",
      "Approx 45% complete for 12428-AK-0002_01_S1_L005_R2_001.fastq\n",
      "Approx 50% complete for 12428-AK-0002_01_S1_L005_R2_001.fastq\n",
      "Approx 55% complete for 12428-AK-0002_01_S1_L005_R2_001.fastq\n",
      "Approx 60% complete for 12428-AK-0002_01_S1_L005_R2_001.fastq\n",
      "Approx 65% complete for 12428-AK-0002_01_S1_L005_R2_001.fastq\n",
      "Approx 70% complete for 12428-AK-0002_01_S1_L005_R2_001.fastq\n",
      "Approx 75% complete for 12428-AK-0002_01_S1_L005_R2_001.fastq\n",
      "Approx 80% complete for 12428-AK-0002_01_S1_L005_R2_001.fastq\n",
      "Approx 85% complete for 12428-AK-0002_01_S1_L005_R2_001.fastq\n",
      "Approx 90% complete for 12428-AK-0002_01_S1_L005_R2_001.fastq\n",
      "Approx 95% complete for 12428-AK-0002_01_S1_L005_R2_001.fastq\n"
     ]
    },
    {
     "name": "stdout",
     "output_type": "stream",
     "text": [
      "Analysis complete for 12428-AK-0002_01_S1_L005_R2_001.fastq\n"
     ]
    },
    {
     "name": "stderr",
     "output_type": "stream",
     "text": [
      "Started analysis of 12428-AK-0002_02_S1_L005_R1_001.fastq\n",
      "Approx 5% complete for 12428-AK-0002_02_S1_L005_R1_001.fastq\n",
      "Approx 10% complete for 12428-AK-0002_02_S1_L005_R1_001.fastq\n",
      "Approx 15% complete for 12428-AK-0002_02_S1_L005_R1_001.fastq\n",
      "Approx 20% complete for 12428-AK-0002_02_S1_L005_R1_001.fastq\n",
      "Approx 25% complete for 12428-AK-0002_02_S1_L005_R1_001.fastq\n",
      "Approx 30% complete for 12428-AK-0002_02_S1_L005_R1_001.fastq\n",
      "Approx 35% complete for 12428-AK-0002_02_S1_L005_R1_001.fastq\n",
      "Approx 40% complete for 12428-AK-0002_02_S1_L005_R1_001.fastq\n",
      "Approx 45% complete for 12428-AK-0002_02_S1_L005_R1_001.fastq\n",
      "Approx 50% complete for 12428-AK-0002_02_S1_L005_R1_001.fastq\n",
      "Approx 55% complete for 12428-AK-0002_02_S1_L005_R1_001.fastq\n",
      "Approx 60% complete for 12428-AK-0002_02_S1_L005_R1_001.fastq\n",
      "Approx 65% complete for 12428-AK-0002_02_S1_L005_R1_001.fastq\n",
      "Approx 70% complete for 12428-AK-0002_02_S1_L005_R1_001.fastq\n",
      "Approx 75% complete for 12428-AK-0002_02_S1_L005_R1_001.fastq\n",
      "Approx 80% complete for 12428-AK-0002_02_S1_L005_R1_001.fastq\n",
      "Approx 85% complete for 12428-AK-0002_02_S1_L005_R1_001.fastq\n",
      "Approx 90% complete for 12428-AK-0002_02_S1_L005_R1_001.fastq\n",
      "Approx 95% complete for 12428-AK-0002_02_S1_L005_R1_001.fastq\n"
     ]
    },
    {
     "name": "stdout",
     "output_type": "stream",
     "text": [
      "Analysis complete for 12428-AK-0002_02_S1_L005_R1_001.fastq\n"
     ]
    },
    {
     "name": "stderr",
     "output_type": "stream",
     "text": [
      "Started analysis of 12428-AK-0002_02_S1_L005_R2_001.fastq\n",
      "Approx 5% complete for 12428-AK-0002_02_S1_L005_R2_001.fastq\n",
      "Approx 10% complete for 12428-AK-0002_02_S1_L005_R2_001.fastq\n",
      "Approx 15% complete for 12428-AK-0002_02_S1_L005_R2_001.fastq\n",
      "Approx 20% complete for 12428-AK-0002_02_S1_L005_R2_001.fastq\n",
      "Approx 25% complete for 12428-AK-0002_02_S1_L005_R2_001.fastq\n",
      "Approx 30% complete for 12428-AK-0002_02_S1_L005_R2_001.fastq\n",
      "Approx 35% complete for 12428-AK-0002_02_S1_L005_R2_001.fastq\n",
      "Approx 40% complete for 12428-AK-0002_02_S1_L005_R2_001.fastq\n",
      "Approx 45% complete for 12428-AK-0002_02_S1_L005_R2_001.fastq\n",
      "Approx 50% complete for 12428-AK-0002_02_S1_L005_R2_001.fastq\n",
      "Approx 55% complete for 12428-AK-0002_02_S1_L005_R2_001.fastq\n",
      "Approx 60% complete for 12428-AK-0002_02_S1_L005_R2_001.fastq\n",
      "Approx 65% complete for 12428-AK-0002_02_S1_L005_R2_001.fastq\n",
      "Approx 70% complete for 12428-AK-0002_02_S1_L005_R2_001.fastq\n",
      "Approx 75% complete for 12428-AK-0002_02_S1_L005_R2_001.fastq\n",
      "Approx 80% complete for 12428-AK-0002_02_S1_L005_R2_001.fastq\n",
      "Approx 85% complete for 12428-AK-0002_02_S1_L005_R2_001.fastq\n",
      "Approx 90% complete for 12428-AK-0002_02_S1_L005_R2_001.fastq\n",
      "Approx 95% complete for 12428-AK-0002_02_S1_L005_R2_001.fastq\n"
     ]
    },
    {
     "name": "stdout",
     "output_type": "stream",
     "text": [
      "Analysis complete for 12428-AK-0002_02_S1_L005_R2_001.fastq\n"
     ]
    },
    {
     "name": "stderr",
     "output_type": "stream",
     "text": [
      "Started analysis of 12428-AK-0002_03_S1_L005_R1_001.fastq\n",
      "Approx 5% complete for 12428-AK-0002_03_S1_L005_R1_001.fastq\n",
      "Approx 10% complete for 12428-AK-0002_03_S1_L005_R1_001.fastq\n",
      "Approx 15% complete for 12428-AK-0002_03_S1_L005_R1_001.fastq\n",
      "Approx 20% complete for 12428-AK-0002_03_S1_L005_R1_001.fastq\n",
      "Approx 25% complete for 12428-AK-0002_03_S1_L005_R1_001.fastq\n",
      "Approx 30% complete for 12428-AK-0002_03_S1_L005_R1_001.fastq\n",
      "Approx 35% complete for 12428-AK-0002_03_S1_L005_R1_001.fastq\n",
      "Approx 40% complete for 12428-AK-0002_03_S1_L005_R1_001.fastq\n",
      "Approx 45% complete for 12428-AK-0002_03_S1_L005_R1_001.fastq\n",
      "Approx 50% complete for 12428-AK-0002_03_S1_L005_R1_001.fastq\n",
      "Approx 55% complete for 12428-AK-0002_03_S1_L005_R1_001.fastq\n",
      "Approx 60% complete for 12428-AK-0002_03_S1_L005_R1_001.fastq\n",
      "Approx 65% complete for 12428-AK-0002_03_S1_L005_R1_001.fastq\n",
      "Approx 70% complete for 12428-AK-0002_03_S1_L005_R1_001.fastq\n",
      "Approx 75% complete for 12428-AK-0002_03_S1_L005_R1_001.fastq\n",
      "Approx 80% complete for 12428-AK-0002_03_S1_L005_R1_001.fastq\n",
      "Approx 85% complete for 12428-AK-0002_03_S1_L005_R1_001.fastq\n",
      "Approx 90% complete for 12428-AK-0002_03_S1_L005_R1_001.fastq\n",
      "Approx 95% complete for 12428-AK-0002_03_S1_L005_R1_001.fastq\n"
     ]
    },
    {
     "name": "stdout",
     "output_type": "stream",
     "text": [
      "Analysis complete for 12428-AK-0002_03_S1_L005_R1_001.fastq\n"
     ]
    },
    {
     "name": "stderr",
     "output_type": "stream",
     "text": [
      "Started analysis of 12428-AK-0002_03_S1_L005_R2_001.fastq\n",
      "Approx 5% complete for 12428-AK-0002_03_S1_L005_R2_001.fastq\n",
      "Approx 10% complete for 12428-AK-0002_03_S1_L005_R2_001.fastq\n",
      "Approx 15% complete for 12428-AK-0002_03_S1_L005_R2_001.fastq\n",
      "Approx 20% complete for 12428-AK-0002_03_S1_L005_R2_001.fastq\n",
      "Approx 25% complete for 12428-AK-0002_03_S1_L005_R2_001.fastq\n",
      "Approx 30% complete for 12428-AK-0002_03_S1_L005_R2_001.fastq\n",
      "Approx 35% complete for 12428-AK-0002_03_S1_L005_R2_001.fastq\n",
      "Approx 40% complete for 12428-AK-0002_03_S1_L005_R2_001.fastq\n",
      "Approx 45% complete for 12428-AK-0002_03_S1_L005_R2_001.fastq\n",
      "Approx 50% complete for 12428-AK-0002_03_S1_L005_R2_001.fastq\n",
      "Approx 55% complete for 12428-AK-0002_03_S1_L005_R2_001.fastq\n",
      "Approx 60% complete for 12428-AK-0002_03_S1_L005_R2_001.fastq\n",
      "Approx 65% complete for 12428-AK-0002_03_S1_L005_R2_001.fastq\n",
      "Approx 70% complete for 12428-AK-0002_03_S1_L005_R2_001.fastq\n",
      "Approx 75% complete for 12428-AK-0002_03_S1_L005_R2_001.fastq\n",
      "Approx 80% complete for 12428-AK-0002_03_S1_L005_R2_001.fastq\n",
      "Approx 85% complete for 12428-AK-0002_03_S1_L005_R2_001.fastq\n",
      "Approx 90% complete for 12428-AK-0002_03_S1_L005_R2_001.fastq\n",
      "Approx 95% complete for 12428-AK-0002_03_S1_L005_R2_001.fastq\n"
     ]
    },
    {
     "name": "stdout",
     "output_type": "stream",
     "text": [
      "Analysis complete for 12428-AK-0002_03_S1_L005_R2_001.fastq\n"
     ]
    },
    {
     "name": "stderr",
     "output_type": "stream",
     "text": [
      "Started analysis of 12428-AK-0002_04_S1_L005_R1_001.fastq\n",
      "Approx 5% complete for 12428-AK-0002_04_S1_L005_R1_001.fastq\n",
      "Approx 10% complete for 12428-AK-0002_04_S1_L005_R1_001.fastq\n",
      "Approx 15% complete for 12428-AK-0002_04_S1_L005_R1_001.fastq\n",
      "Approx 20% complete for 12428-AK-0002_04_S1_L005_R1_001.fastq\n",
      "Approx 25% complete for 12428-AK-0002_04_S1_L005_R1_001.fastq\n",
      "Approx 30% complete for 12428-AK-0002_04_S1_L005_R1_001.fastq\n",
      "Approx 35% complete for 12428-AK-0002_04_S1_L005_R1_001.fastq\n",
      "Approx 40% complete for 12428-AK-0002_04_S1_L005_R1_001.fastq\n",
      "Approx 45% complete for 12428-AK-0002_04_S1_L005_R1_001.fastq\n",
      "Approx 50% complete for 12428-AK-0002_04_S1_L005_R1_001.fastq\n",
      "Approx 55% complete for 12428-AK-0002_04_S1_L005_R1_001.fastq\n",
      "Approx 60% complete for 12428-AK-0002_04_S1_L005_R1_001.fastq\n",
      "Approx 65% complete for 12428-AK-0002_04_S1_L005_R1_001.fastq\n",
      "Approx 70% complete for 12428-AK-0002_04_S1_L005_R1_001.fastq\n",
      "Approx 75% complete for 12428-AK-0002_04_S1_L005_R1_001.fastq\n",
      "Approx 80% complete for 12428-AK-0002_04_S1_L005_R1_001.fastq\n",
      "Approx 85% complete for 12428-AK-0002_04_S1_L005_R1_001.fastq\n",
      "Approx 90% complete for 12428-AK-0002_04_S1_L005_R1_001.fastq\n",
      "Approx 95% complete for 12428-AK-0002_04_S1_L005_R1_001.fastq\n"
     ]
    },
    {
     "name": "stdout",
     "output_type": "stream",
     "text": [
      "Analysis complete for 12428-AK-0002_04_S1_L005_R1_001.fastq\n"
     ]
    },
    {
     "name": "stderr",
     "output_type": "stream",
     "text": [
      "Started analysis of 12428-AK-0002_04_S1_L005_R2_001.fastq\n",
      "Approx 5% complete for 12428-AK-0002_04_S1_L005_R2_001.fastq\n",
      "Approx 10% complete for 12428-AK-0002_04_S1_L005_R2_001.fastq\n",
      "Approx 15% complete for 12428-AK-0002_04_S1_L005_R2_001.fastq\n",
      "Approx 20% complete for 12428-AK-0002_04_S1_L005_R2_001.fastq\n",
      "Approx 25% complete for 12428-AK-0002_04_S1_L005_R2_001.fastq\n",
      "Approx 30% complete for 12428-AK-0002_04_S1_L005_R2_001.fastq\n",
      "Approx 35% complete for 12428-AK-0002_04_S1_L005_R2_001.fastq\n",
      "Approx 40% complete for 12428-AK-0002_04_S1_L005_R2_001.fastq\n",
      "Approx 45% complete for 12428-AK-0002_04_S1_L005_R2_001.fastq\n",
      "Approx 50% complete for 12428-AK-0002_04_S1_L005_R2_001.fastq\n",
      "Approx 55% complete for 12428-AK-0002_04_S1_L005_R2_001.fastq\n",
      "Approx 60% complete for 12428-AK-0002_04_S1_L005_R2_001.fastq\n",
      "Approx 65% complete for 12428-AK-0002_04_S1_L005_R2_001.fastq\n",
      "Approx 70% complete for 12428-AK-0002_04_S1_L005_R2_001.fastq\n",
      "Approx 75% complete for 12428-AK-0002_04_S1_L005_R2_001.fastq\n",
      "Approx 80% complete for 12428-AK-0002_04_S1_L005_R2_001.fastq\n",
      "Approx 85% complete for 12428-AK-0002_04_S1_L005_R2_001.fastq\n",
      "Approx 90% complete for 12428-AK-0002_04_S1_L005_R2_001.fastq\n",
      "Approx 95% complete for 12428-AK-0002_04_S1_L005_R2_001.fastq\n"
     ]
    },
    {
     "name": "stdout",
     "output_type": "stream",
     "text": [
      "Analysis complete for 12428-AK-0002_04_S1_L005_R2_001.fastq\n"
     ]
    },
    {
     "name": "stderr",
     "output_type": "stream",
     "text": [
      "Started analysis of 12428-AK-0002_05_S1_L005_R1_001.fastq\n",
      "Approx 5% complete for 12428-AK-0002_05_S1_L005_R1_001.fastq\n",
      "Approx 10% complete for 12428-AK-0002_05_S1_L005_R1_001.fastq\n",
      "Approx 15% complete for 12428-AK-0002_05_S1_L005_R1_001.fastq\n",
      "Approx 20% complete for 12428-AK-0002_05_S1_L005_R1_001.fastq\n",
      "Approx 25% complete for 12428-AK-0002_05_S1_L005_R1_001.fastq\n",
      "Approx 30% complete for 12428-AK-0002_05_S1_L005_R1_001.fastq\n",
      "Approx 35% complete for 12428-AK-0002_05_S1_L005_R1_001.fastq\n",
      "Approx 40% complete for 12428-AK-0002_05_S1_L005_R1_001.fastq\n",
      "Approx 45% complete for 12428-AK-0002_05_S1_L005_R1_001.fastq\n",
      "Approx 50% complete for 12428-AK-0002_05_S1_L005_R1_001.fastq\n",
      "Approx 55% complete for 12428-AK-0002_05_S1_L005_R1_001.fastq\n",
      "Approx 60% complete for 12428-AK-0002_05_S1_L005_R1_001.fastq\n",
      "Approx 65% complete for 12428-AK-0002_05_S1_L005_R1_001.fastq\n",
      "Approx 70% complete for 12428-AK-0002_05_S1_L005_R1_001.fastq\n",
      "Approx 75% complete for 12428-AK-0002_05_S1_L005_R1_001.fastq\n",
      "Approx 80% complete for 12428-AK-0002_05_S1_L005_R1_001.fastq\n",
      "Approx 85% complete for 12428-AK-0002_05_S1_L005_R1_001.fastq\n",
      "Approx 90% complete for 12428-AK-0002_05_S1_L005_R1_001.fastq\n",
      "Approx 95% complete for 12428-AK-0002_05_S1_L005_R1_001.fastq\n"
     ]
    },
    {
     "name": "stdout",
     "output_type": "stream",
     "text": [
      "Analysis complete for 12428-AK-0002_05_S1_L005_R1_001.fastq\n"
     ]
    },
    {
     "name": "stderr",
     "output_type": "stream",
     "text": [
      "Started analysis of 12428-AK-0002_05_S1_L005_R2_001.fastq\n",
      "Approx 5% complete for 12428-AK-0002_05_S1_L005_R2_001.fastq\n",
      "Approx 10% complete for 12428-AK-0002_05_S1_L005_R2_001.fastq\n",
      "Approx 15% complete for 12428-AK-0002_05_S1_L005_R2_001.fastq\n",
      "Approx 20% complete for 12428-AK-0002_05_S1_L005_R2_001.fastq\n",
      "Approx 25% complete for 12428-AK-0002_05_S1_L005_R2_001.fastq\n",
      "Approx 30% complete for 12428-AK-0002_05_S1_L005_R2_001.fastq\n",
      "Approx 35% complete for 12428-AK-0002_05_S1_L005_R2_001.fastq\n",
      "Approx 40% complete for 12428-AK-0002_05_S1_L005_R2_001.fastq\n",
      "Approx 45% complete for 12428-AK-0002_05_S1_L005_R2_001.fastq\n",
      "Approx 50% complete for 12428-AK-0002_05_S1_L005_R2_001.fastq\n",
      "Approx 55% complete for 12428-AK-0002_05_S1_L005_R2_001.fastq\n",
      "Approx 60% complete for 12428-AK-0002_05_S1_L005_R2_001.fastq\n",
      "Approx 65% complete for 12428-AK-0002_05_S1_L005_R2_001.fastq\n",
      "Approx 70% complete for 12428-AK-0002_05_S1_L005_R2_001.fastq\n",
      "Approx 75% complete for 12428-AK-0002_05_S1_L005_R2_001.fastq\n",
      "Approx 80% complete for 12428-AK-0002_05_S1_L005_R2_001.fastq\n",
      "Approx 85% complete for 12428-AK-0002_05_S1_L005_R2_001.fastq\n",
      "Approx 90% complete for 12428-AK-0002_05_S1_L005_R2_001.fastq\n",
      "Approx 95% complete for 12428-AK-0002_05_S1_L005_R2_001.fastq\n"
     ]
    },
    {
     "name": "stdout",
     "output_type": "stream",
     "text": [
      "Analysis complete for 12428-AK-0002_05_S1_L005_R2_001.fastq\n"
     ]
    },
    {
     "name": "stderr",
     "output_type": "stream",
     "text": [
      "Started analysis of 12428-AK-0002_06_S1_L005_R1_001.fastq\n",
      "Approx 5% complete for 12428-AK-0002_06_S1_L005_R1_001.fastq\n",
      "Approx 10% complete for 12428-AK-0002_06_S1_L005_R1_001.fastq\n",
      "Approx 15% complete for 12428-AK-0002_06_S1_L005_R1_001.fastq\n",
      "Approx 20% complete for 12428-AK-0002_06_S1_L005_R1_001.fastq\n",
      "Approx 25% complete for 12428-AK-0002_06_S1_L005_R1_001.fastq\n",
      "Approx 30% complete for 12428-AK-0002_06_S1_L005_R1_001.fastq\n",
      "Approx 35% complete for 12428-AK-0002_06_S1_L005_R1_001.fastq\n",
      "Approx 40% complete for 12428-AK-0002_06_S1_L005_R1_001.fastq\n",
      "Approx 45% complete for 12428-AK-0002_06_S1_L005_R1_001.fastq\n",
      "Approx 50% complete for 12428-AK-0002_06_S1_L005_R1_001.fastq\n",
      "Approx 55% complete for 12428-AK-0002_06_S1_L005_R1_001.fastq\n",
      "Approx 60% complete for 12428-AK-0002_06_S1_L005_R1_001.fastq\n",
      "Approx 65% complete for 12428-AK-0002_06_S1_L005_R1_001.fastq\n",
      "Approx 70% complete for 12428-AK-0002_06_S1_L005_R1_001.fastq\n",
      "Approx 75% complete for 12428-AK-0002_06_S1_L005_R1_001.fastq\n",
      "Approx 80% complete for 12428-AK-0002_06_S1_L005_R1_001.fastq\n",
      "Approx 85% complete for 12428-AK-0002_06_S1_L005_R1_001.fastq\n",
      "Approx 90% complete for 12428-AK-0002_06_S1_L005_R1_001.fastq\n",
      "Approx 95% complete for 12428-AK-0002_06_S1_L005_R1_001.fastq\n"
     ]
    },
    {
     "name": "stdout",
     "output_type": "stream",
     "text": [
      "Analysis complete for 12428-AK-0002_06_S1_L005_R1_001.fastq\n"
     ]
    },
    {
     "name": "stderr",
     "output_type": "stream",
     "text": [
      "Started analysis of 12428-AK-0002_06_S1_L005_R2_001.fastq\n",
      "Approx 5% complete for 12428-AK-0002_06_S1_L005_R2_001.fastq\n",
      "Approx 10% complete for 12428-AK-0002_06_S1_L005_R2_001.fastq\n",
      "Approx 15% complete for 12428-AK-0002_06_S1_L005_R2_001.fastq\n",
      "Approx 20% complete for 12428-AK-0002_06_S1_L005_R2_001.fastq\n",
      "Approx 25% complete for 12428-AK-0002_06_S1_L005_R2_001.fastq\n",
      "Approx 30% complete for 12428-AK-0002_06_S1_L005_R2_001.fastq\n",
      "Approx 35% complete for 12428-AK-0002_06_S1_L005_R2_001.fastq\n",
      "Approx 40% complete for 12428-AK-0002_06_S1_L005_R2_001.fastq\n",
      "Approx 45% complete for 12428-AK-0002_06_S1_L005_R2_001.fastq\n",
      "Approx 50% complete for 12428-AK-0002_06_S1_L005_R2_001.fastq\n",
      "Approx 55% complete for 12428-AK-0002_06_S1_L005_R2_001.fastq\n",
      "Approx 60% complete for 12428-AK-0002_06_S1_L005_R2_001.fastq\n",
      "Approx 65% complete for 12428-AK-0002_06_S1_L005_R2_001.fastq\n",
      "Approx 70% complete for 12428-AK-0002_06_S1_L005_R2_001.fastq\n",
      "Approx 75% complete for 12428-AK-0002_06_S1_L005_R2_001.fastq\n",
      "Approx 80% complete for 12428-AK-0002_06_S1_L005_R2_001.fastq\n",
      "Approx 85% complete for 12428-AK-0002_06_S1_L005_R2_001.fastq\n",
      "Approx 90% complete for 12428-AK-0002_06_S1_L005_R2_001.fastq\n",
      "Approx 95% complete for 12428-AK-0002_06_S1_L005_R2_001.fastq\n"
     ]
    },
    {
     "name": "stdout",
     "output_type": "stream",
     "text": [
      "Analysis complete for 12428-AK-0002_06_S1_L005_R2_001.fastq\n"
     ]
    },
    {
     "name": "stderr",
     "output_type": "stream",
     "text": [
      "Started analysis of 12428-AK-0002_07_S1_L005_R1_001.fastq\n",
      "Approx 5% complete for 12428-AK-0002_07_S1_L005_R1_001.fastq\n",
      "Approx 10% complete for 12428-AK-0002_07_S1_L005_R1_001.fastq\n",
      "Approx 15% complete for 12428-AK-0002_07_S1_L005_R1_001.fastq\n",
      "Approx 20% complete for 12428-AK-0002_07_S1_L005_R1_001.fastq\n",
      "Approx 25% complete for 12428-AK-0002_07_S1_L005_R1_001.fastq\n",
      "Approx 30% complete for 12428-AK-0002_07_S1_L005_R1_001.fastq\n",
      "Approx 35% complete for 12428-AK-0002_07_S1_L005_R1_001.fastq\n",
      "Approx 40% complete for 12428-AK-0002_07_S1_L005_R1_001.fastq\n",
      "Approx 45% complete for 12428-AK-0002_07_S1_L005_R1_001.fastq\n",
      "Approx 50% complete for 12428-AK-0002_07_S1_L005_R1_001.fastq\n",
      "Approx 55% complete for 12428-AK-0002_07_S1_L005_R1_001.fastq\n",
      "Approx 60% complete for 12428-AK-0002_07_S1_L005_R1_001.fastq\n",
      "Approx 65% complete for 12428-AK-0002_07_S1_L005_R1_001.fastq\n",
      "Approx 70% complete for 12428-AK-0002_07_S1_L005_R1_001.fastq\n",
      "Approx 75% complete for 12428-AK-0002_07_S1_L005_R1_001.fastq\n",
      "Approx 80% complete for 12428-AK-0002_07_S1_L005_R1_001.fastq\n",
      "Approx 85% complete for 12428-AK-0002_07_S1_L005_R1_001.fastq\n",
      "Approx 90% complete for 12428-AK-0002_07_S1_L005_R1_001.fastq\n",
      "Approx 95% complete for 12428-AK-0002_07_S1_L005_R1_001.fastq\n"
     ]
    },
    {
     "name": "stdout",
     "output_type": "stream",
     "text": [
      "Analysis complete for 12428-AK-0002_07_S1_L005_R1_001.fastq\n"
     ]
    },
    {
     "name": "stderr",
     "output_type": "stream",
     "text": [
      "Started analysis of 12428-AK-0002_07_S1_L005_R2_001.fastq\n",
      "Approx 5% complete for 12428-AK-0002_07_S1_L005_R2_001.fastq\n",
      "Approx 10% complete for 12428-AK-0002_07_S1_L005_R2_001.fastq\n",
      "Approx 15% complete for 12428-AK-0002_07_S1_L005_R2_001.fastq\n",
      "Approx 20% complete for 12428-AK-0002_07_S1_L005_R2_001.fastq\n",
      "Approx 25% complete for 12428-AK-0002_07_S1_L005_R2_001.fastq\n",
      "Approx 30% complete for 12428-AK-0002_07_S1_L005_R2_001.fastq\n",
      "Approx 35% complete for 12428-AK-0002_07_S1_L005_R2_001.fastq\n",
      "Approx 40% complete for 12428-AK-0002_07_S1_L005_R2_001.fastq\n",
      "Approx 45% complete for 12428-AK-0002_07_S1_L005_R2_001.fastq\n",
      "Approx 50% complete for 12428-AK-0002_07_S1_L005_R2_001.fastq\n",
      "Approx 55% complete for 12428-AK-0002_07_S1_L005_R2_001.fastq\n",
      "Approx 60% complete for 12428-AK-0002_07_S1_L005_R2_001.fastq\n",
      "Approx 65% complete for 12428-AK-0002_07_S1_L005_R2_001.fastq\n",
      "Approx 70% complete for 12428-AK-0002_07_S1_L005_R2_001.fastq\n",
      "Approx 75% complete for 12428-AK-0002_07_S1_L005_R2_001.fastq\n",
      "Approx 80% complete for 12428-AK-0002_07_S1_L005_R2_001.fastq\n",
      "Approx 85% complete for 12428-AK-0002_07_S1_L005_R2_001.fastq\n",
      "Approx 90% complete for 12428-AK-0002_07_S1_L005_R2_001.fastq\n",
      "Approx 95% complete for 12428-AK-0002_07_S1_L005_R2_001.fastq\n"
     ]
    },
    {
     "name": "stdout",
     "output_type": "stream",
     "text": [
      "Analysis complete for 12428-AK-0002_07_S1_L005_R2_001.fastq\n"
     ]
    },
    {
     "name": "stderr",
     "output_type": "stream",
     "text": [
      "Started analysis of 12428-AK-0002_08_S1_L005_R1_001.fastq\n",
      "Approx 5% complete for 12428-AK-0002_08_S1_L005_R1_001.fastq\n",
      "Approx 10% complete for 12428-AK-0002_08_S1_L005_R1_001.fastq\n",
      "Approx 15% complete for 12428-AK-0002_08_S1_L005_R1_001.fastq\n",
      "Approx 20% complete for 12428-AK-0002_08_S1_L005_R1_001.fastq\n",
      "Approx 25% complete for 12428-AK-0002_08_S1_L005_R1_001.fastq\n",
      "Approx 30% complete for 12428-AK-0002_08_S1_L005_R1_001.fastq\n",
      "Approx 35% complete for 12428-AK-0002_08_S1_L005_R1_001.fastq\n",
      "Approx 40% complete for 12428-AK-0002_08_S1_L005_R1_001.fastq\n",
      "Approx 45% complete for 12428-AK-0002_08_S1_L005_R1_001.fastq\n",
      "Approx 50% complete for 12428-AK-0002_08_S1_L005_R1_001.fastq\n",
      "Approx 55% complete for 12428-AK-0002_08_S1_L005_R1_001.fastq\n",
      "Approx 60% complete for 12428-AK-0002_08_S1_L005_R1_001.fastq\n",
      "Approx 65% complete for 12428-AK-0002_08_S1_L005_R1_001.fastq\n",
      "Approx 70% complete for 12428-AK-0002_08_S1_L005_R1_001.fastq\n",
      "Approx 75% complete for 12428-AK-0002_08_S1_L005_R1_001.fastq\n",
      "Approx 80% complete for 12428-AK-0002_08_S1_L005_R1_001.fastq\n",
      "Approx 85% complete for 12428-AK-0002_08_S1_L005_R1_001.fastq\n",
      "Approx 90% complete for 12428-AK-0002_08_S1_L005_R1_001.fastq\n",
      "Approx 95% complete for 12428-AK-0002_08_S1_L005_R1_001.fastq\n"
     ]
    },
    {
     "name": "stdout",
     "output_type": "stream",
     "text": [
      "Analysis complete for 12428-AK-0002_08_S1_L005_R1_001.fastq\n"
     ]
    },
    {
     "name": "stderr",
     "output_type": "stream",
     "text": [
      "Started analysis of 12428-AK-0002_08_S1_L005_R2_001.fastq\n",
      "Approx 5% complete for 12428-AK-0002_08_S1_L005_R2_001.fastq\n",
      "Approx 10% complete for 12428-AK-0002_08_S1_L005_R2_001.fastq\n",
      "Approx 15% complete for 12428-AK-0002_08_S1_L005_R2_001.fastq\n",
      "Approx 20% complete for 12428-AK-0002_08_S1_L005_R2_001.fastq\n",
      "Approx 25% complete for 12428-AK-0002_08_S1_L005_R2_001.fastq\n",
      "Approx 30% complete for 12428-AK-0002_08_S1_L005_R2_001.fastq\n",
      "Approx 35% complete for 12428-AK-0002_08_S1_L005_R2_001.fastq\n",
      "Approx 40% complete for 12428-AK-0002_08_S1_L005_R2_001.fastq\n",
      "Approx 45% complete for 12428-AK-0002_08_S1_L005_R2_001.fastq\n",
      "Approx 50% complete for 12428-AK-0002_08_S1_L005_R2_001.fastq\n",
      "Approx 55% complete for 12428-AK-0002_08_S1_L005_R2_001.fastq\n",
      "Approx 60% complete for 12428-AK-0002_08_S1_L005_R2_001.fastq\n",
      "Approx 65% complete for 12428-AK-0002_08_S1_L005_R2_001.fastq\n",
      "Approx 70% complete for 12428-AK-0002_08_S1_L005_R2_001.fastq\n",
      "Approx 75% complete for 12428-AK-0002_08_S1_L005_R2_001.fastq\n",
      "Approx 80% complete for 12428-AK-0002_08_S1_L005_R2_001.fastq\n",
      "Approx 85% complete for 12428-AK-0002_08_S1_L005_R2_001.fastq\n",
      "Approx 90% complete for 12428-AK-0002_08_S1_L005_R2_001.fastq\n",
      "Approx 95% complete for 12428-AK-0002_08_S1_L005_R2_001.fastq\n"
     ]
    },
    {
     "name": "stdout",
     "output_type": "stream",
     "text": [
      "Analysis complete for 12428-AK-0002_08_S1_L005_R2_001.fastq\n"
     ]
    },
    {
     "name": "stderr",
     "output_type": "stream",
     "text": [
      "Started analysis of 12428-AK-0002_09_S1_L005_R1_001.fastq\n",
      "Approx 5% complete for 12428-AK-0002_09_S1_L005_R1_001.fastq\n",
      "Approx 10% complete for 12428-AK-0002_09_S1_L005_R1_001.fastq\n",
      "Approx 15% complete for 12428-AK-0002_09_S1_L005_R1_001.fastq\n",
      "Approx 20% complete for 12428-AK-0002_09_S1_L005_R1_001.fastq\n",
      "Approx 25% complete for 12428-AK-0002_09_S1_L005_R1_001.fastq\n",
      "Approx 30% complete for 12428-AK-0002_09_S1_L005_R1_001.fastq\n",
      "Approx 35% complete for 12428-AK-0002_09_S1_L005_R1_001.fastq\n",
      "Approx 40% complete for 12428-AK-0002_09_S1_L005_R1_001.fastq\n",
      "Approx 45% complete for 12428-AK-0002_09_S1_L005_R1_001.fastq\n",
      "Approx 50% complete for 12428-AK-0002_09_S1_L005_R1_001.fastq\n",
      "Approx 55% complete for 12428-AK-0002_09_S1_L005_R1_001.fastq\n",
      "Approx 60% complete for 12428-AK-0002_09_S1_L005_R1_001.fastq\n",
      "Approx 65% complete for 12428-AK-0002_09_S1_L005_R1_001.fastq\n",
      "Approx 70% complete for 12428-AK-0002_09_S1_L005_R1_001.fastq\n",
      "Approx 75% complete for 12428-AK-0002_09_S1_L005_R1_001.fastq\n",
      "Approx 80% complete for 12428-AK-0002_09_S1_L005_R1_001.fastq\n",
      "Approx 85% complete for 12428-AK-0002_09_S1_L005_R1_001.fastq\n",
      "Approx 90% complete for 12428-AK-0002_09_S1_L005_R1_001.fastq\n",
      "Approx 95% complete for 12428-AK-0002_09_S1_L005_R1_001.fastq\n"
     ]
    },
    {
     "name": "stdout",
     "output_type": "stream",
     "text": [
      "Analysis complete for 12428-AK-0002_09_S1_L005_R1_001.fastq\n"
     ]
    },
    {
     "name": "stderr",
     "output_type": "stream",
     "text": [
      "Started analysis of 12428-AK-0002_09_S1_L005_R2_001.fastq\n",
      "Approx 5% complete for 12428-AK-0002_09_S1_L005_R2_001.fastq\n",
      "Approx 10% complete for 12428-AK-0002_09_S1_L005_R2_001.fastq\n",
      "Approx 15% complete for 12428-AK-0002_09_S1_L005_R2_001.fastq\n",
      "Approx 20% complete for 12428-AK-0002_09_S1_L005_R2_001.fastq\n",
      "Approx 25% complete for 12428-AK-0002_09_S1_L005_R2_001.fastq\n",
      "Approx 30% complete for 12428-AK-0002_09_S1_L005_R2_001.fastq\n",
      "Approx 35% complete for 12428-AK-0002_09_S1_L005_R2_001.fastq\n",
      "Approx 40% complete for 12428-AK-0002_09_S1_L005_R2_001.fastq\n",
      "Approx 45% complete for 12428-AK-0002_09_S1_L005_R2_001.fastq\n",
      "Approx 50% complete for 12428-AK-0002_09_S1_L005_R2_001.fastq\n",
      "Approx 55% complete for 12428-AK-0002_09_S1_L005_R2_001.fastq\n",
      "Approx 60% complete for 12428-AK-0002_09_S1_L005_R2_001.fastq\n",
      "Approx 65% complete for 12428-AK-0002_09_S1_L005_R2_001.fastq\n",
      "Approx 70% complete for 12428-AK-0002_09_S1_L005_R2_001.fastq\n",
      "Approx 75% complete for 12428-AK-0002_09_S1_L005_R2_001.fastq\n",
      "Approx 80% complete for 12428-AK-0002_09_S1_L005_R2_001.fastq\n",
      "Approx 85% complete for 12428-AK-0002_09_S1_L005_R2_001.fastq\n",
      "Approx 90% complete for 12428-AK-0002_09_S1_L005_R2_001.fastq\n",
      "Approx 95% complete for 12428-AK-0002_09_S1_L005_R2_001.fastq\n"
     ]
    },
    {
     "name": "stdout",
     "output_type": "stream",
     "text": [
      "Analysis complete for 12428-AK-0002_09_S1_L005_R2_001.fastq\n"
     ]
    },
    {
     "name": "stderr",
     "output_type": "stream",
     "text": [
      "Started analysis of 12428-AK-0002_10_S1_L005_R1_001.fastq\n",
      "Approx 5% complete for 12428-AK-0002_10_S1_L005_R1_001.fastq\n",
      "Approx 10% complete for 12428-AK-0002_10_S1_L005_R1_001.fastq\n",
      "Approx 15% complete for 12428-AK-0002_10_S1_L005_R1_001.fastq\n",
      "Approx 20% complete for 12428-AK-0002_10_S1_L005_R1_001.fastq\n",
      "Approx 25% complete for 12428-AK-0002_10_S1_L005_R1_001.fastq\n",
      "Approx 30% complete for 12428-AK-0002_10_S1_L005_R1_001.fastq\n",
      "Approx 35% complete for 12428-AK-0002_10_S1_L005_R1_001.fastq\n",
      "Approx 40% complete for 12428-AK-0002_10_S1_L005_R1_001.fastq\n",
      "Approx 45% complete for 12428-AK-0002_10_S1_L005_R1_001.fastq\n",
      "Approx 50% complete for 12428-AK-0002_10_S1_L005_R1_001.fastq\n",
      "Approx 55% complete for 12428-AK-0002_10_S1_L005_R1_001.fastq\n",
      "Approx 60% complete for 12428-AK-0002_10_S1_L005_R1_001.fastq\n",
      "Approx 65% complete for 12428-AK-0002_10_S1_L005_R1_001.fastq\n",
      "Approx 70% complete for 12428-AK-0002_10_S1_L005_R1_001.fastq\n",
      "Approx 75% complete for 12428-AK-0002_10_S1_L005_R1_001.fastq\n",
      "Approx 80% complete for 12428-AK-0002_10_S1_L005_R1_001.fastq\n",
      "Approx 85% complete for 12428-AK-0002_10_S1_L005_R1_001.fastq\n",
      "Approx 90% complete for 12428-AK-0002_10_S1_L005_R1_001.fastq\n",
      "Approx 95% complete for 12428-AK-0002_10_S1_L005_R1_001.fastq\n"
     ]
    },
    {
     "name": "stdout",
     "output_type": "stream",
     "text": [
      "Analysis complete for 12428-AK-0002_10_S1_L005_R1_001.fastq\n"
     ]
    },
    {
     "name": "stderr",
     "output_type": "stream",
     "text": [
      "Started analysis of 12428-AK-0002_10_S1_L005_R2_001.fastq\n",
      "Approx 5% complete for 12428-AK-0002_10_S1_L005_R2_001.fastq\n",
      "Approx 10% complete for 12428-AK-0002_10_S1_L005_R2_001.fastq\n",
      "Approx 15% complete for 12428-AK-0002_10_S1_L005_R2_001.fastq\n",
      "Approx 20% complete for 12428-AK-0002_10_S1_L005_R2_001.fastq\n",
      "Approx 25% complete for 12428-AK-0002_10_S1_L005_R2_001.fastq\n",
      "Approx 30% complete for 12428-AK-0002_10_S1_L005_R2_001.fastq\n",
      "Approx 35% complete for 12428-AK-0002_10_S1_L005_R2_001.fastq\n",
      "Approx 40% complete for 12428-AK-0002_10_S1_L005_R2_001.fastq\n",
      "Approx 45% complete for 12428-AK-0002_10_S1_L005_R2_001.fastq\n",
      "Approx 50% complete for 12428-AK-0002_10_S1_L005_R2_001.fastq\n",
      "Approx 55% complete for 12428-AK-0002_10_S1_L005_R2_001.fastq\n",
      "Approx 60% complete for 12428-AK-0002_10_S1_L005_R2_001.fastq\n",
      "Approx 65% complete for 12428-AK-0002_10_S1_L005_R2_001.fastq\n",
      "Approx 70% complete for 12428-AK-0002_10_S1_L005_R2_001.fastq\n",
      "Approx 75% complete for 12428-AK-0002_10_S1_L005_R2_001.fastq\n",
      "Approx 80% complete for 12428-AK-0002_10_S1_L005_R2_001.fastq\n",
      "Approx 85% complete for 12428-AK-0002_10_S1_L005_R2_001.fastq\n",
      "Approx 90% complete for 12428-AK-0002_10_S1_L005_R2_001.fastq\n",
      "Approx 95% complete for 12428-AK-0002_10_S1_L005_R2_001.fastq\n"
     ]
    },
    {
     "name": "stdout",
     "output_type": "stream",
     "text": [
      "Analysis complete for 12428-AK-0002_10_S1_L005_R2_001.fastq\n"
     ]
    },
    {
     "name": "stderr",
     "output_type": "stream",
     "text": [
      "Started analysis of 12428-AK-0002_11_S1_L005_R1_001.fastq\n",
      "Approx 5% complete for 12428-AK-0002_11_S1_L005_R1_001.fastq\n",
      "Approx 10% complete for 12428-AK-0002_11_S1_L005_R1_001.fastq\n",
      "Approx 15% complete for 12428-AK-0002_11_S1_L005_R1_001.fastq\n",
      "Approx 20% complete for 12428-AK-0002_11_S1_L005_R1_001.fastq\n",
      "Approx 25% complete for 12428-AK-0002_11_S1_L005_R1_001.fastq\n",
      "Approx 30% complete for 12428-AK-0002_11_S1_L005_R1_001.fastq\n",
      "Approx 35% complete for 12428-AK-0002_11_S1_L005_R1_001.fastq\n",
      "Approx 40% complete for 12428-AK-0002_11_S1_L005_R1_001.fastq\n",
      "Approx 45% complete for 12428-AK-0002_11_S1_L005_R1_001.fastq\n",
      "Approx 50% complete for 12428-AK-0002_11_S1_L005_R1_001.fastq\n",
      "Approx 55% complete for 12428-AK-0002_11_S1_L005_R1_001.fastq\n",
      "Approx 60% complete for 12428-AK-0002_11_S1_L005_R1_001.fastq\n",
      "Approx 65% complete for 12428-AK-0002_11_S1_L005_R1_001.fastq\n",
      "Approx 70% complete for 12428-AK-0002_11_S1_L005_R1_001.fastq\n",
      "Approx 75% complete for 12428-AK-0002_11_S1_L005_R1_001.fastq\n",
      "Approx 80% complete for 12428-AK-0002_11_S1_L005_R1_001.fastq\n",
      "Approx 85% complete for 12428-AK-0002_11_S1_L005_R1_001.fastq\n",
      "Approx 90% complete for 12428-AK-0002_11_S1_L005_R1_001.fastq\n",
      "Approx 95% complete for 12428-AK-0002_11_S1_L005_R1_001.fastq\n"
     ]
    },
    {
     "name": "stdout",
     "output_type": "stream",
     "text": [
      "Analysis complete for 12428-AK-0002_11_S1_L005_R1_001.fastq\n"
     ]
    },
    {
     "name": "stderr",
     "output_type": "stream",
     "text": [
      "Started analysis of 12428-AK-0002_11_S1_L005_R2_001.fastq\n",
      "Approx 5% complete for 12428-AK-0002_11_S1_L005_R2_001.fastq\n",
      "Approx 10% complete for 12428-AK-0002_11_S1_L005_R2_001.fastq\n",
      "Approx 15% complete for 12428-AK-0002_11_S1_L005_R2_001.fastq\n",
      "Approx 20% complete for 12428-AK-0002_11_S1_L005_R2_001.fastq\n",
      "Approx 25% complete for 12428-AK-0002_11_S1_L005_R2_001.fastq\n",
      "Approx 30% complete for 12428-AK-0002_11_S1_L005_R2_001.fastq\n",
      "Approx 35% complete for 12428-AK-0002_11_S1_L005_R2_001.fastq\n",
      "Approx 40% complete for 12428-AK-0002_11_S1_L005_R2_001.fastq\n",
      "Approx 45% complete for 12428-AK-0002_11_S1_L005_R2_001.fastq\n",
      "Approx 50% complete for 12428-AK-0002_11_S1_L005_R2_001.fastq\n",
      "Approx 55% complete for 12428-AK-0002_11_S1_L005_R2_001.fastq\n",
      "Approx 60% complete for 12428-AK-0002_11_S1_L005_R2_001.fastq\n",
      "Approx 65% complete for 12428-AK-0002_11_S1_L005_R2_001.fastq\n",
      "Approx 70% complete for 12428-AK-0002_11_S1_L005_R2_001.fastq\n",
      "Approx 75% complete for 12428-AK-0002_11_S1_L005_R2_001.fastq\n",
      "Approx 80% complete for 12428-AK-0002_11_S1_L005_R2_001.fastq\n",
      "Approx 85% complete for 12428-AK-0002_11_S1_L005_R2_001.fastq\n",
      "Approx 90% complete for 12428-AK-0002_11_S1_L005_R2_001.fastq\n",
      "Approx 95% complete for 12428-AK-0002_11_S1_L005_R2_001.fastq\n"
     ]
    },
    {
     "name": "stdout",
     "output_type": "stream",
     "text": [
      "Analysis complete for 12428-AK-0002_11_S1_L005_R2_001.fastq\n"
     ]
    },
    {
     "name": "stderr",
     "output_type": "stream",
     "text": [
      "Started analysis of 12428-AK-0002_12_S1_L005_R1_001.fastq\n",
      "Approx 5% complete for 12428-AK-0002_12_S1_L005_R1_001.fastq\n",
      "Approx 10% complete for 12428-AK-0002_12_S1_L005_R1_001.fastq\n",
      "Approx 15% complete for 12428-AK-0002_12_S1_L005_R1_001.fastq\n",
      "Approx 20% complete for 12428-AK-0002_12_S1_L005_R1_001.fastq\n",
      "Approx 25% complete for 12428-AK-0002_12_S1_L005_R1_001.fastq\n",
      "Approx 30% complete for 12428-AK-0002_12_S1_L005_R1_001.fastq\n",
      "Approx 35% complete for 12428-AK-0002_12_S1_L005_R1_001.fastq\n",
      "Approx 40% complete for 12428-AK-0002_12_S1_L005_R1_001.fastq\n",
      "Approx 45% complete for 12428-AK-0002_12_S1_L005_R1_001.fastq\n",
      "Approx 50% complete for 12428-AK-0002_12_S1_L005_R1_001.fastq\n",
      "Approx 55% complete for 12428-AK-0002_12_S1_L005_R1_001.fastq\n",
      "Approx 60% complete for 12428-AK-0002_12_S1_L005_R1_001.fastq\n",
      "Approx 65% complete for 12428-AK-0002_12_S1_L005_R1_001.fastq\n",
      "Approx 70% complete for 12428-AK-0002_12_S1_L005_R1_001.fastq\n",
      "Approx 75% complete for 12428-AK-0002_12_S1_L005_R1_001.fastq\n",
      "Approx 80% complete for 12428-AK-0002_12_S1_L005_R1_001.fastq\n",
      "Approx 85% complete for 12428-AK-0002_12_S1_L005_R1_001.fastq\n",
      "Approx 90% complete for 12428-AK-0002_12_S1_L005_R1_001.fastq\n",
      "Approx 95% complete for 12428-AK-0002_12_S1_L005_R1_001.fastq\n"
     ]
    },
    {
     "name": "stdout",
     "output_type": "stream",
     "text": [
      "Analysis complete for 12428-AK-0002_12_S1_L005_R1_001.fastq\n"
     ]
    },
    {
     "name": "stderr",
     "output_type": "stream",
     "text": [
      "Started analysis of 12428-AK-0002_12_S1_L005_R2_001.fastq\n",
      "Approx 5% complete for 12428-AK-0002_12_S1_L005_R2_001.fastq\n",
      "Approx 10% complete for 12428-AK-0002_12_S1_L005_R2_001.fastq\n",
      "Approx 15% complete for 12428-AK-0002_12_S1_L005_R2_001.fastq\n",
      "Approx 20% complete for 12428-AK-0002_12_S1_L005_R2_001.fastq\n",
      "Approx 25% complete for 12428-AK-0002_12_S1_L005_R2_001.fastq\n",
      "Approx 30% complete for 12428-AK-0002_12_S1_L005_R2_001.fastq\n",
      "Approx 35% complete for 12428-AK-0002_12_S1_L005_R2_001.fastq\n",
      "Approx 40% complete for 12428-AK-0002_12_S1_L005_R2_001.fastq\n",
      "Approx 45% complete for 12428-AK-0002_12_S1_L005_R2_001.fastq\n",
      "Approx 50% complete for 12428-AK-0002_12_S1_L005_R2_001.fastq\n",
      "Approx 55% complete for 12428-AK-0002_12_S1_L005_R2_001.fastq\n",
      "Approx 60% complete for 12428-AK-0002_12_S1_L005_R2_001.fastq\n",
      "Approx 65% complete for 12428-AK-0002_12_S1_L005_R2_001.fastq\n",
      "Approx 70% complete for 12428-AK-0002_12_S1_L005_R2_001.fastq\n",
      "Approx 75% complete for 12428-AK-0002_12_S1_L005_R2_001.fastq\n",
      "Approx 80% complete for 12428-AK-0002_12_S1_L005_R2_001.fastq\n",
      "Approx 85% complete for 12428-AK-0002_12_S1_L005_R2_001.fastq\n",
      "Approx 90% complete for 12428-AK-0002_12_S1_L005_R2_001.fastq\n",
      "Approx 95% complete for 12428-AK-0002_12_S1_L005_R2_001.fastq\n"
     ]
    },
    {
     "name": "stdout",
     "output_type": "stream",
     "text": [
      "Analysis complete for 12428-AK-0002_12_S1_L005_R2_001.fastq\n"
     ]
    },
    {
     "name": "stderr",
     "output_type": "stream",
     "text": [
      "Started analysis of 12428-AK-0002_13_S1_L005_R1_001.fastq\n",
      "Approx 5% complete for 12428-AK-0002_13_S1_L005_R1_001.fastq\n",
      "Approx 10% complete for 12428-AK-0002_13_S1_L005_R1_001.fastq\n",
      "Approx 15% complete for 12428-AK-0002_13_S1_L005_R1_001.fastq\n",
      "Approx 20% complete for 12428-AK-0002_13_S1_L005_R1_001.fastq\n",
      "Approx 25% complete for 12428-AK-0002_13_S1_L005_R1_001.fastq\n",
      "Approx 30% complete for 12428-AK-0002_13_S1_L005_R1_001.fastq\n",
      "Approx 35% complete for 12428-AK-0002_13_S1_L005_R1_001.fastq\n",
      "Approx 40% complete for 12428-AK-0002_13_S1_L005_R1_001.fastq\n",
      "Approx 45% complete for 12428-AK-0002_13_S1_L005_R1_001.fastq\n",
      "Approx 50% complete for 12428-AK-0002_13_S1_L005_R1_001.fastq\n",
      "Approx 55% complete for 12428-AK-0002_13_S1_L005_R1_001.fastq\n",
      "Approx 60% complete for 12428-AK-0002_13_S1_L005_R1_001.fastq\n",
      "Approx 65% complete for 12428-AK-0002_13_S1_L005_R1_001.fastq\n",
      "Approx 70% complete for 12428-AK-0002_13_S1_L005_R1_001.fastq\n",
      "Approx 75% complete for 12428-AK-0002_13_S1_L005_R1_001.fastq\n",
      "Approx 80% complete for 12428-AK-0002_13_S1_L005_R1_001.fastq\n",
      "Approx 85% complete for 12428-AK-0002_13_S1_L005_R1_001.fastq\n",
      "Approx 90% complete for 12428-AK-0002_13_S1_L005_R1_001.fastq\n",
      "Approx 95% complete for 12428-AK-0002_13_S1_L005_R1_001.fastq\n"
     ]
    },
    {
     "name": "stdout",
     "output_type": "stream",
     "text": [
      "Analysis complete for 12428-AK-0002_13_S1_L005_R1_001.fastq\n"
     ]
    },
    {
     "name": "stderr",
     "output_type": "stream",
     "text": [
      "Started analysis of 12428-AK-0002_13_S1_L005_R2_001.fastq\n",
      "Approx 5% complete for 12428-AK-0002_13_S1_L005_R2_001.fastq\n",
      "Approx 10% complete for 12428-AK-0002_13_S1_L005_R2_001.fastq\n",
      "Approx 15% complete for 12428-AK-0002_13_S1_L005_R2_001.fastq\n",
      "Approx 20% complete for 12428-AK-0002_13_S1_L005_R2_001.fastq\n",
      "Approx 25% complete for 12428-AK-0002_13_S1_L005_R2_001.fastq\n",
      "Approx 30% complete for 12428-AK-0002_13_S1_L005_R2_001.fastq\n",
      "Approx 35% complete for 12428-AK-0002_13_S1_L005_R2_001.fastq\n",
      "Approx 40% complete for 12428-AK-0002_13_S1_L005_R2_001.fastq\n",
      "Approx 45% complete for 12428-AK-0002_13_S1_L005_R2_001.fastq\n",
      "Approx 50% complete for 12428-AK-0002_13_S1_L005_R2_001.fastq\n",
      "Approx 55% complete for 12428-AK-0002_13_S1_L005_R2_001.fastq\n",
      "Approx 60% complete for 12428-AK-0002_13_S1_L005_R2_001.fastq\n",
      "Approx 65% complete for 12428-AK-0002_13_S1_L005_R2_001.fastq\n",
      "Approx 70% complete for 12428-AK-0002_13_S1_L005_R2_001.fastq\n",
      "Approx 75% complete for 12428-AK-0002_13_S1_L005_R2_001.fastq\n",
      "Approx 80% complete for 12428-AK-0002_13_S1_L005_R2_001.fastq\n",
      "Approx 85% complete for 12428-AK-0002_13_S1_L005_R2_001.fastq\n",
      "Approx 90% complete for 12428-AK-0002_13_S1_L005_R2_001.fastq\n",
      "Approx 95% complete for 12428-AK-0002_13_S1_L005_R2_001.fastq\n"
     ]
    },
    {
     "name": "stdout",
     "output_type": "stream",
     "text": [
      "Analysis complete for 12428-AK-0002_13_S1_L005_R2_001.fastq\n"
     ]
    },
    {
     "name": "stderr",
     "output_type": "stream",
     "text": [
      "Started analysis of 12428-AK-0002_14_S1_L005_R1_001.fastq\n",
      "Approx 5% complete for 12428-AK-0002_14_S1_L005_R1_001.fastq\n",
      "Approx 10% complete for 12428-AK-0002_14_S1_L005_R1_001.fastq\n",
      "Approx 15% complete for 12428-AK-0002_14_S1_L005_R1_001.fastq\n",
      "Approx 20% complete for 12428-AK-0002_14_S1_L005_R1_001.fastq\n",
      "Approx 25% complete for 12428-AK-0002_14_S1_L005_R1_001.fastq\n",
      "Approx 30% complete for 12428-AK-0002_14_S1_L005_R1_001.fastq\n",
      "Approx 35% complete for 12428-AK-0002_14_S1_L005_R1_001.fastq\n",
      "Approx 40% complete for 12428-AK-0002_14_S1_L005_R1_001.fastq\n",
      "Approx 45% complete for 12428-AK-0002_14_S1_L005_R1_001.fastq\n",
      "Approx 50% complete for 12428-AK-0002_14_S1_L005_R1_001.fastq\n",
      "Approx 55% complete for 12428-AK-0002_14_S1_L005_R1_001.fastq\n",
      "Approx 60% complete for 12428-AK-0002_14_S1_L005_R1_001.fastq\n",
      "Approx 65% complete for 12428-AK-0002_14_S1_L005_R1_001.fastq\n",
      "Approx 70% complete for 12428-AK-0002_14_S1_L005_R1_001.fastq\n",
      "Approx 75% complete for 12428-AK-0002_14_S1_L005_R1_001.fastq\n",
      "Approx 80% complete for 12428-AK-0002_14_S1_L005_R1_001.fastq\n",
      "Approx 85% complete for 12428-AK-0002_14_S1_L005_R1_001.fastq\n",
      "Approx 90% complete for 12428-AK-0002_14_S1_L005_R1_001.fastq\n",
      "Approx 95% complete for 12428-AK-0002_14_S1_L005_R1_001.fastq\n"
     ]
    },
    {
     "name": "stdout",
     "output_type": "stream",
     "text": [
      "Analysis complete for 12428-AK-0002_14_S1_L005_R1_001.fastq\n"
     ]
    },
    {
     "name": "stderr",
     "output_type": "stream",
     "text": [
      "Started analysis of 12428-AK-0002_14_S1_L005_R2_001.fastq\n",
      "Approx 5% complete for 12428-AK-0002_14_S1_L005_R2_001.fastq\n",
      "Approx 10% complete for 12428-AK-0002_14_S1_L005_R2_001.fastq\n",
      "Approx 10% complete for 12428-AK-0002_15_S1_L005_R2_001.fastq\n",
      "Approx 15% complete for 12428-AK-0002_15_S1_L005_R2_001.fastq\n",
      "Approx 20% complete for 12428-AK-0002_15_S1_L005_R2_001.fastq\n",
      "Approx 25% complete for 12428-AK-0002_15_S1_L005_R2_001.fastq\n",
      "Approx 30% complete for 12428-AK-0002_15_S1_L005_R2_001.fastq\n",
      "Approx 35% complete for 12428-AK-0002_15_S1_L005_R2_001.fastq\n",
      "Approx 40% complete for 12428-AK-0002_15_S1_L005_R2_001.fastq\n",
      "Approx 45% complete for 12428-AK-0002_15_S1_L005_R2_001.fastq\n",
      "Approx 50% complete for 12428-AK-0002_15_S1_L005_R2_001.fastq\n",
      "Approx 55% complete for 12428-AK-0002_15_S1_L005_R2_001.fastq\n",
      "Approx 60% complete for 12428-AK-0002_15_S1_L005_R2_001.fastq\n",
      "Approx 65% complete for 12428-AK-0002_15_S1_L005_R2_001.fastq\n",
      "Approx 70% complete for 12428-AK-0002_15_S1_L005_R2_001.fastq\n",
      "Approx 75% complete for 12428-AK-0002_15_S1_L005_R2_001.fastq\n",
      "Approx 80% complete for 12428-AK-0002_15_S1_L005_R2_001.fastq\n",
      "Approx 85% complete for 12428-AK-0002_15_S1_L005_R2_001.fastq\n",
      "Approx 90% complete for 12428-AK-0002_15_S1_L005_R2_001.fastq\n",
      "Approx 95% complete for 12428-AK-0002_15_S1_L005_R2_001.fastq\n"
     ]
    },
    {
     "name": "stdout",
     "output_type": "stream",
     "text": [
      "Analysis complete for 12428-AK-0002_15_S1_L005_R2_001.fastq\n"
     ]
    },
    {
     "name": "stderr",
     "output_type": "stream",
     "text": [
      "Started analysis of 12428-AK-0002_16_S1_L005_R1_001.fastq\n",
      "Approx 5% complete for 12428-AK-0002_16_S1_L005_R1_001.fastq\n",
      "Approx 10% complete for 12428-AK-0002_16_S1_L005_R1_001.fastq\n",
      "Approx 15% complete for 12428-AK-0002_16_S1_L005_R1_001.fastq\n",
      "Approx 20% complete for 12428-AK-0002_16_S1_L005_R1_001.fastq\n",
      "Approx 25% complete for 12428-AK-0002_16_S1_L005_R1_001.fastq\n",
      "Approx 30% complete for 12428-AK-0002_16_S1_L005_R1_001.fastq\n",
      "Approx 35% complete for 12428-AK-0002_16_S1_L005_R1_001.fastq\n",
      "Approx 40% complete for 12428-AK-0002_16_S1_L005_R1_001.fastq\n",
      "Approx 45% complete for 12428-AK-0002_16_S1_L005_R1_001.fastq\n",
      "Approx 50% complete for 12428-AK-0002_16_S1_L005_R1_001.fastq\n",
      "Approx 55% complete for 12428-AK-0002_16_S1_L005_R1_001.fastq\n",
      "Approx 60% complete for 12428-AK-0002_16_S1_L005_R1_001.fastq\n",
      "Approx 65% complete for 12428-AK-0002_16_S1_L005_R1_001.fastq\n",
      "Approx 70% complete for 12428-AK-0002_16_S1_L005_R1_001.fastq\n",
      "Approx 75% complete for 12428-AK-0002_16_S1_L005_R1_001.fastq\n",
      "Approx 80% complete for 12428-AK-0002_16_S1_L005_R1_001.fastq\n",
      "Approx 85% complete for 12428-AK-0002_16_S1_L005_R1_001.fastq\n",
      "Approx 90% complete for 12428-AK-0002_16_S1_L005_R1_001.fastq\n",
      "Approx 95% complete for 12428-AK-0002_16_S1_L005_R1_001.fastq\n"
     ]
    },
    {
     "name": "stdout",
     "output_type": "stream",
     "text": [
      "Analysis complete for 12428-AK-0002_16_S1_L005_R1_001.fastq\n"
     ]
    },
    {
     "name": "stderr",
     "output_type": "stream",
     "text": [
      "Started analysis of 12428-AK-0002_16_S1_L005_R2_001.fastq\n",
      "Approx 5% complete for 12428-AK-0002_16_S1_L005_R2_001.fastq\n",
      "Approx 10% complete for 12428-AK-0002_16_S1_L005_R2_001.fastq\n",
      "Approx 15% complete for 12428-AK-0002_16_S1_L005_R2_001.fastq\n",
      "Approx 20% complete for 12428-AK-0002_16_S1_L005_R2_001.fastq\n",
      "Approx 25% complete for 12428-AK-0002_16_S1_L005_R2_001.fastq\n",
      "Approx 30% complete for 12428-AK-0002_16_S1_L005_R2_001.fastq\n",
      "Approx 35% complete for 12428-AK-0002_16_S1_L005_R2_001.fastq\n",
      "Approx 40% complete for 12428-AK-0002_16_S1_L005_R2_001.fastq\n",
      "Approx 45% complete for 12428-AK-0002_16_S1_L005_R2_001.fastq\n",
      "Approx 50% complete for 12428-AK-0002_16_S1_L005_R2_001.fastq\n",
      "Approx 55% complete for 12428-AK-0002_16_S1_L005_R2_001.fastq\n",
      "Approx 60% complete for 12428-AK-0002_16_S1_L005_R2_001.fastq\n",
      "Approx 65% complete for 12428-AK-0002_16_S1_L005_R2_001.fastq\n",
      "Approx 70% complete for 12428-AK-0002_16_S1_L005_R2_001.fastq\n",
      "Approx 75% complete for 12428-AK-0002_16_S1_L005_R2_001.fastq\n",
      "Approx 80% complete for 12428-AK-0002_16_S1_L005_R2_001.fastq\n",
      "Approx 85% complete for 12428-AK-0002_16_S1_L005_R2_001.fastq\n",
      "Approx 90% complete for 12428-AK-0002_16_S1_L005_R2_001.fastq\n",
      "Approx 95% complete for 12428-AK-0002_16_S1_L005_R2_001.fastq\n"
     ]
    },
    {
     "name": "stdout",
     "output_type": "stream",
     "text": [
      "Analysis complete for 12428-AK-0002_16_S1_L005_R2_001.fastq\n"
     ]
    },
    {
     "name": "stderr",
     "output_type": "stream",
     "text": [
      "Started analysis of 12428-AK-0002_17_S1_L005_R1_001.fastq\n",
      "Approx 5% complete for 12428-AK-0002_17_S1_L005_R1_001.fastq\n",
      "Approx 10% complete for 12428-AK-0002_17_S1_L005_R1_001.fastq\n",
      "Approx 15% complete for 12428-AK-0002_17_S1_L005_R1_001.fastq\n",
      "Approx 20% complete for 12428-AK-0002_17_S1_L005_R1_001.fastq\n",
      "Approx 25% complete for 12428-AK-0002_17_S1_L005_R1_001.fastq\n",
      "Approx 30% complete for 12428-AK-0002_17_S1_L005_R1_001.fastq\n",
      "Approx 35% complete for 12428-AK-0002_17_S1_L005_R1_001.fastq\n",
      "Approx 40% complete for 12428-AK-0002_17_S1_L005_R1_001.fastq\n",
      "Approx 45% complete for 12428-AK-0002_17_S1_L005_R1_001.fastq\n",
      "Approx 50% complete for 12428-AK-0002_17_S1_L005_R1_001.fastq\n",
      "Approx 55% complete for 12428-AK-0002_17_S1_L005_R1_001.fastq\n",
      "Approx 60% complete for 12428-AK-0002_17_S1_L005_R1_001.fastq\n",
      "Approx 65% complete for 12428-AK-0002_17_S1_L005_R1_001.fastq\n",
      "Approx 70% complete for 12428-AK-0002_17_S1_L005_R1_001.fastq\n",
      "Approx 75% complete for 12428-AK-0002_17_S1_L005_R1_001.fastq\n",
      "Approx 80% complete for 12428-AK-0002_17_S1_L005_R1_001.fastq\n",
      "Approx 85% complete for 12428-AK-0002_17_S1_L005_R1_001.fastq\n",
      "Approx 90% complete for 12428-AK-0002_17_S1_L005_R1_001.fastq\n",
      "Approx 95% complete for 12428-AK-0002_17_S1_L005_R1_001.fastq\n"
     ]
    },
    {
     "name": "stdout",
     "output_type": "stream",
     "text": [
      "Analysis complete for 12428-AK-0002_17_S1_L005_R1_001.fastq\n"
     ]
    },
    {
     "name": "stderr",
     "output_type": "stream",
     "text": [
      "Started analysis of 12428-AK-0002_17_S1_L005_R2_001.fastq\n",
      "Approx 5% complete for 12428-AK-0002_17_S1_L005_R2_001.fastq\n",
      "Approx 10% complete for 12428-AK-0002_17_S1_L005_R2_001.fastq\n",
      "Approx 15% complete for 12428-AK-0002_17_S1_L005_R2_001.fastq\n",
      "Approx 20% complete for 12428-AK-0002_17_S1_L005_R2_001.fastq\n",
      "Approx 25% complete for 12428-AK-0002_17_S1_L005_R2_001.fastq\n",
      "Approx 30% complete for 12428-AK-0002_17_S1_L005_R2_001.fastq\n",
      "Approx 35% complete for 12428-AK-0002_17_S1_L005_R2_001.fastq\n",
      "Approx 40% complete for 12428-AK-0002_17_S1_L005_R2_001.fastq\n",
      "Approx 45% complete for 12428-AK-0002_17_S1_L005_R2_001.fastq\n",
      "Approx 50% complete for 12428-AK-0002_17_S1_L005_R2_001.fastq\n",
      "Approx 55% complete for 12428-AK-0002_17_S1_L005_R2_001.fastq\n",
      "Approx 60% complete for 12428-AK-0002_17_S1_L005_R2_001.fastq\n",
      "Approx 65% complete for 12428-AK-0002_17_S1_L005_R2_001.fastq\n",
      "Approx 70% complete for 12428-AK-0002_17_S1_L005_R2_001.fastq\n",
      "Approx 75% complete for 12428-AK-0002_17_S1_L005_R2_001.fastq\n",
      "Approx 80% complete for 12428-AK-0002_17_S1_L005_R2_001.fastq\n",
      "Approx 85% complete for 12428-AK-0002_17_S1_L005_R2_001.fastq\n",
      "Approx 90% complete for 12428-AK-0002_17_S1_L005_R2_001.fastq\n",
      "Approx 95% complete for 12428-AK-0002_17_S1_L005_R2_001.fastq\n"
     ]
    },
    {
     "name": "stdout",
     "output_type": "stream",
     "text": [
      "Analysis complete for 12428-AK-0002_17_S1_L005_R2_001.fastq\n"
     ]
    },
    {
     "name": "stderr",
     "output_type": "stream",
     "text": [
      "Started analysis of 12428-AK-0002_18_S1_L005_R1_001.fastq\n",
      "Approx 5% complete for 12428-AK-0002_18_S1_L005_R1_001.fastq\n",
      "Approx 10% complete for 12428-AK-0002_18_S1_L005_R1_001.fastq\n",
      "Approx 15% complete for 12428-AK-0002_18_S1_L005_R1_001.fastq\n",
      "Approx 20% complete for 12428-AK-0002_18_S1_L005_R1_001.fastq\n",
      "Approx 25% complete for 12428-AK-0002_18_S1_L005_R1_001.fastq\n",
      "Approx 30% complete for 12428-AK-0002_18_S1_L005_R1_001.fastq\n",
      "Approx 35% complete for 12428-AK-0002_18_S1_L005_R1_001.fastq\n",
      "Approx 40% complete for 12428-AK-0002_18_S1_L005_R1_001.fastq\n",
      "Approx 45% complete for 12428-AK-0002_18_S1_L005_R1_001.fastq\n",
      "Approx 50% complete for 12428-AK-0002_18_S1_L005_R1_001.fastq\n",
      "Approx 55% complete for 12428-AK-0002_18_S1_L005_R1_001.fastq\n",
      "Approx 60% complete for 12428-AK-0002_18_S1_L005_R1_001.fastq\n",
      "Approx 65% complete for 12428-AK-0002_18_S1_L005_R1_001.fastq\n",
      "Approx 70% complete for 12428-AK-0002_18_S1_L005_R1_001.fastq\n",
      "Approx 75% complete for 12428-AK-0002_18_S1_L005_R1_001.fastq\n",
      "Approx 80% complete for 12428-AK-0002_18_S1_L005_R1_001.fastq\n",
      "Approx 85% complete for 12428-AK-0002_18_S1_L005_R1_001.fastq\n",
      "Approx 90% complete for 12428-AK-0002_18_S1_L005_R1_001.fastq\n",
      "Approx 95% complete for 12428-AK-0002_18_S1_L005_R1_001.fastq\n"
     ]
    },
    {
     "name": "stdout",
     "output_type": "stream",
     "text": [
      "Analysis complete for 12428-AK-0002_18_S1_L005_R1_001.fastq\n"
     ]
    },
    {
     "name": "stderr",
     "output_type": "stream",
     "text": [
      "Started analysis of 12428-AK-0002_18_S1_L005_R2_001.fastq\n",
      "Approx 5% complete for 12428-AK-0002_18_S1_L005_R2_001.fastq\n",
      "Approx 10% complete for 12428-AK-0002_18_S1_L005_R2_001.fastq\n",
      "Approx 15% complete for 12428-AK-0002_18_S1_L005_R2_001.fastq\n",
      "Approx 20% complete for 12428-AK-0002_18_S1_L005_R2_001.fastq\n",
      "Approx 25% complete for 12428-AK-0002_18_S1_L005_R2_001.fastq\n",
      "Approx 30% complete for 12428-AK-0002_18_S1_L005_R2_001.fastq\n",
      "Approx 35% complete for 12428-AK-0002_18_S1_L005_R2_001.fastq\n",
      "Approx 40% complete for 12428-AK-0002_18_S1_L005_R2_001.fastq\n",
      "Approx 45% complete for 12428-AK-0002_18_S1_L005_R2_001.fastq\n",
      "Approx 50% complete for 12428-AK-0002_18_S1_L005_R2_001.fastq\n",
      "Approx 55% complete for 12428-AK-0002_18_S1_L005_R2_001.fastq\n",
      "Approx 60% complete for 12428-AK-0002_18_S1_L005_R2_001.fastq\n",
      "Approx 65% complete for 12428-AK-0002_18_S1_L005_R2_001.fastq\n",
      "Approx 70% complete for 12428-AK-0002_18_S1_L005_R2_001.fastq\n",
      "Approx 75% complete for 12428-AK-0002_18_S1_L005_R2_001.fastq\n",
      "Approx 80% complete for 12428-AK-0002_18_S1_L005_R2_001.fastq\n",
      "Approx 85% complete for 12428-AK-0002_18_S1_L005_R2_001.fastq\n",
      "Approx 90% complete for 12428-AK-0002_18_S1_L005_R2_001.fastq\n",
      "Approx 95% complete for 12428-AK-0002_18_S1_L005_R2_001.fastq\n"
     ]
    },
    {
     "name": "stdout",
     "output_type": "stream",
     "text": [
      "Analysis complete for 12428-AK-0002_18_S1_L005_R2_001.fastq\n"
     ]
    },
    {
     "name": "stderr",
     "output_type": "stream",
     "text": [
      "Started analysis of 12428-AK-0002_19_S1_L005_R1_001.fastq\n",
      "Approx 5% complete for 12428-AK-0002_19_S1_L005_R1_001.fastq\n",
      "Approx 10% complete for 12428-AK-0002_19_S1_L005_R1_001.fastq\n",
      "Approx 15% complete for 12428-AK-0002_19_S1_L005_R1_001.fastq\n",
      "Approx 20% complete for 12428-AK-0002_19_S1_L005_R1_001.fastq\n",
      "Approx 25% complete for 12428-AK-0002_19_S1_L005_R1_001.fastq\n",
      "Approx 30% complete for 12428-AK-0002_19_S1_L005_R1_001.fastq\n",
      "Approx 35% complete for 12428-AK-0002_19_S1_L005_R1_001.fastq\n",
      "Approx 40% complete for 12428-AK-0002_19_S1_L005_R1_001.fastq\n",
      "Approx 45% complete for 12428-AK-0002_19_S1_L005_R1_001.fastq\n",
      "Approx 50% complete for 12428-AK-0002_19_S1_L005_R1_001.fastq\n",
      "Approx 55% complete for 12428-AK-0002_19_S1_L005_R1_001.fastq\n",
      "Approx 60% complete for 12428-AK-0002_19_S1_L005_R1_001.fastq\n",
      "Approx 65% complete for 12428-AK-0002_19_S1_L005_R1_001.fastq\n",
      "Approx 70% complete for 12428-AK-0002_19_S1_L005_R1_001.fastq\n",
      "Approx 75% complete for 12428-AK-0002_19_S1_L005_R1_001.fastq\n",
      "Approx 80% complete for 12428-AK-0002_19_S1_L005_R1_001.fastq\n",
      "Approx 85% complete for 12428-AK-0002_19_S1_L005_R1_001.fastq\n",
      "Approx 90% complete for 12428-AK-0002_19_S1_L005_R1_001.fastq\n",
      "Approx 95% complete for 12428-AK-0002_19_S1_L005_R1_001.fastq\n"
     ]
    },
    {
     "name": "stdout",
     "output_type": "stream",
     "text": [
      "Analysis complete for 12428-AK-0002_19_S1_L005_R1_001.fastq\n"
     ]
    },
    {
     "name": "stderr",
     "output_type": "stream",
     "text": [
      "Started analysis of 12428-AK-0002_19_S1_L005_R2_001.fastq\n",
      "Approx 5% complete for 12428-AK-0002_19_S1_L005_R2_001.fastq\n",
      "Approx 10% complete for 12428-AK-0002_19_S1_L005_R2_001.fastq\n",
      "Approx 15% complete for 12428-AK-0002_19_S1_L005_R2_001.fastq\n",
      "Approx 20% complete for 12428-AK-0002_19_S1_L005_R2_001.fastq\n",
      "Approx 25% complete for 12428-AK-0002_19_S1_L005_R2_001.fastq\n",
      "Approx 30% complete for 12428-AK-0002_19_S1_L005_R2_001.fastq\n",
      "Approx 35% complete for 12428-AK-0002_19_S1_L005_R2_001.fastq\n",
      "Approx 40% complete for 12428-AK-0002_19_S1_L005_R2_001.fastq\n",
      "Approx 45% complete for 12428-AK-0002_19_S1_L005_R2_001.fastq\n",
      "Approx 50% complete for 12428-AK-0002_19_S1_L005_R2_001.fastq\n",
      "Approx 55% complete for 12428-AK-0002_19_S1_L005_R2_001.fastq\n",
      "Approx 60% complete for 12428-AK-0002_19_S1_L005_R2_001.fastq\n",
      "Approx 65% complete for 12428-AK-0002_19_S1_L005_R2_001.fastq\n",
      "Approx 70% complete for 12428-AK-0002_19_S1_L005_R2_001.fastq\n",
      "Approx 75% complete for 12428-AK-0002_19_S1_L005_R2_001.fastq\n",
      "Approx 80% complete for 12428-AK-0002_19_S1_L005_R2_001.fastq\n",
      "Approx 85% complete for 12428-AK-0002_19_S1_L005_R2_001.fastq\n",
      "Approx 90% complete for 12428-AK-0002_19_S1_L005_R2_001.fastq\n",
      "Approx 95% complete for 12428-AK-0002_19_S1_L005_R2_001.fastq\n"
     ]
    },
    {
     "name": "stdout",
     "output_type": "stream",
     "text": [
      "Analysis complete for 12428-AK-0002_19_S1_L005_R2_001.fastq\n"
     ]
    },
    {
     "name": "stderr",
     "output_type": "stream",
     "text": [
      "Started analysis of 12428-AK-0002_20_S1_L005_R1_001.fastq\n",
      "Approx 5% complete for 12428-AK-0002_20_S1_L005_R1_001.fastq\n",
      "Approx 10% complete for 12428-AK-0002_20_S1_L005_R1_001.fastq\n",
      "Approx 15% complete for 12428-AK-0002_20_S1_L005_R1_001.fastq\n",
      "Approx 20% complete for 12428-AK-0002_20_S1_L005_R1_001.fastq\n",
      "Approx 25% complete for 12428-AK-0002_20_S1_L005_R1_001.fastq\n",
      "Approx 30% complete for 12428-AK-0002_20_S1_L005_R1_001.fastq\n",
      "Approx 35% complete for 12428-AK-0002_20_S1_L005_R1_001.fastq\n",
      "Approx 40% complete for 12428-AK-0002_20_S1_L005_R1_001.fastq\n",
      "Approx 45% complete for 12428-AK-0002_20_S1_L005_R1_001.fastq\n",
      "Approx 50% complete for 12428-AK-0002_20_S1_L005_R1_001.fastq\n",
      "Approx 55% complete for 12428-AK-0002_20_S1_L005_R1_001.fastq\n",
      "Approx 60% complete for 12428-AK-0002_20_S1_L005_R1_001.fastq\n",
      "Approx 65% complete for 12428-AK-0002_20_S1_L005_R1_001.fastq\n",
      "Approx 70% complete for 12428-AK-0002_20_S1_L005_R1_001.fastq\n",
      "Approx 75% complete for 12428-AK-0002_20_S1_L005_R1_001.fastq\n",
      "Approx 80% complete for 12428-AK-0002_20_S1_L005_R1_001.fastq\n",
      "Approx 85% complete for 12428-AK-0002_20_S1_L005_R1_001.fastq\n",
      "Approx 90% complete for 12428-AK-0002_20_S1_L005_R1_001.fastq\n",
      "Approx 95% complete for 12428-AK-0002_20_S1_L005_R1_001.fastq\n"
     ]
    },
    {
     "name": "stdout",
     "output_type": "stream",
     "text": [
      "Analysis complete for 12428-AK-0002_20_S1_L005_R1_001.fastq\n"
     ]
    },
    {
     "name": "stderr",
     "output_type": "stream",
     "text": [
      "Started analysis of 12428-AK-0002_20_S1_L005_R2_001.fastq\n",
      "Approx 5% complete for 12428-AK-0002_20_S1_L005_R2_001.fastq\n",
      "Approx 10% complete for 12428-AK-0002_20_S1_L005_R2_001.fastq\n",
      "Approx 15% complete for 12428-AK-0002_20_S1_L005_R2_001.fastq\n",
      "Approx 20% complete for 12428-AK-0002_20_S1_L005_R2_001.fastq\n",
      "Approx 25% complete for 12428-AK-0002_20_S1_L005_R2_001.fastq\n",
      "Approx 30% complete for 12428-AK-0002_20_S1_L005_R2_001.fastq\n",
      "Approx 35% complete for 12428-AK-0002_20_S1_L005_R2_001.fastq\n",
      "Approx 40% complete for 12428-AK-0002_20_S1_L005_R2_001.fastq\n",
      "Approx 45% complete for 12428-AK-0002_20_S1_L005_R2_001.fastq\n",
      "Approx 50% complete for 12428-AK-0002_20_S1_L005_R2_001.fastq\n",
      "Approx 55% complete for 12428-AK-0002_20_S1_L005_R2_001.fastq\n",
      "Approx 60% complete for 12428-AK-0002_20_S1_L005_R2_001.fastq\n",
      "Approx 65% complete for 12428-AK-0002_20_S1_L005_R2_001.fastq\n",
      "Approx 70% complete for 12428-AK-0002_20_S1_L005_R2_001.fastq\n",
      "Approx 75% complete for 12428-AK-0002_20_S1_L005_R2_001.fastq\n",
      "Approx 80% complete for 12428-AK-0002_20_S1_L005_R2_001.fastq\n",
      "Approx 85% complete for 12428-AK-0002_20_S1_L005_R2_001.fastq\n",
      "Approx 90% complete for 12428-AK-0002_20_S1_L005_R2_001.fastq\n",
      "Approx 95% complete for 12428-AK-0002_20_S1_L005_R2_001.fastq\n"
     ]
    },
    {
     "name": "stdout",
     "output_type": "stream",
     "text": [
      "Analysis complete for 12428-AK-0002_20_S1_L005_R2_001.fastq\n"
     ]
    },
    {
     "name": "stderr",
     "output_type": "stream",
     "text": [
      "Started analysis of 12428-AK-0002_21_S1_L005_R1_001.fastq\n",
      "Approx 5% complete for 12428-AK-0002_21_S1_L005_R1_001.fastq\n",
      "Approx 10% complete for 12428-AK-0002_21_S1_L005_R1_001.fastq\n",
      "Approx 15% complete for 12428-AK-0002_21_S1_L005_R1_001.fastq\n",
      "Approx 20% complete for 12428-AK-0002_21_S1_L005_R1_001.fastq\n",
      "Approx 25% complete for 12428-AK-0002_21_S1_L005_R1_001.fastq\n",
      "Approx 30% complete for 12428-AK-0002_21_S1_L005_R1_001.fastq\n",
      "Approx 35% complete for 12428-AK-0002_21_S1_L005_R1_001.fastq\n",
      "Approx 40% complete for 12428-AK-0002_21_S1_L005_R1_001.fastq\n",
      "Approx 45% complete for 12428-AK-0002_21_S1_L005_R1_001.fastq\n",
      "Approx 50% complete for 12428-AK-0002_21_S1_L005_R1_001.fastq\n",
      "Approx 55% complete for 12428-AK-0002_21_S1_L005_R1_001.fastq\n",
      "Approx 60% complete for 12428-AK-0002_21_S1_L005_R1_001.fastq\n",
      "Approx 65% complete for 12428-AK-0002_21_S1_L005_R1_001.fastq\n",
      "Approx 70% complete for 12428-AK-0002_21_S1_L005_R1_001.fastq\n",
      "Approx 75% complete for 12428-AK-0002_21_S1_L005_R1_001.fastq\n",
      "Approx 80% complete for 12428-AK-0002_21_S1_L005_R1_001.fastq\n",
      "Approx 85% complete for 12428-AK-0002_21_S1_L005_R1_001.fastq\n",
      "Approx 90% complete for 12428-AK-0002_21_S1_L005_R1_001.fastq\n",
      "Approx 95% complete for 12428-AK-0002_21_S1_L005_R1_001.fastq\n"
     ]
    },
    {
     "name": "stdout",
     "output_type": "stream",
     "text": [
      "Analysis complete for 12428-AK-0002_21_S1_L005_R1_001.fastq\n"
     ]
    },
    {
     "name": "stderr",
     "output_type": "stream",
     "text": [
      "Started analysis of 12428-AK-0002_21_S1_L005_R2_001.fastq\n",
      "Approx 5% complete for 12428-AK-0002_21_S1_L005_R2_001.fastq\n",
      "Approx 10% complete for 12428-AK-0002_21_S1_L005_R2_001.fastq\n",
      "Approx 15% complete for 12428-AK-0002_21_S1_L005_R2_001.fastq\n",
      "Approx 20% complete for 12428-AK-0002_21_S1_L005_R2_001.fastq\n",
      "Approx 25% complete for 12428-AK-0002_21_S1_L005_R2_001.fastq\n",
      "Approx 30% complete for 12428-AK-0002_21_S1_L005_R2_001.fastq\n",
      "Approx 35% complete for 12428-AK-0002_21_S1_L005_R2_001.fastq\n",
      "Approx 40% complete for 12428-AK-0002_21_S1_L005_R2_001.fastq\n",
      "Approx 45% complete for 12428-AK-0002_21_S1_L005_R2_001.fastq\n",
      "Approx 50% complete for 12428-AK-0002_21_S1_L005_R2_001.fastq\n",
      "Approx 55% complete for 12428-AK-0002_21_S1_L005_R2_001.fastq\n",
      "Approx 60% complete for 12428-AK-0002_21_S1_L005_R2_001.fastq\n",
      "Approx 65% complete for 12428-AK-0002_21_S1_L005_R2_001.fastq\n",
      "Approx 70% complete for 12428-AK-0002_21_S1_L005_R2_001.fastq\n",
      "Approx 75% complete for 12428-AK-0002_21_S1_L005_R2_001.fastq\n",
      "Approx 80% complete for 12428-AK-0002_21_S1_L005_R2_001.fastq\n",
      "Approx 85% complete for 12428-AK-0002_21_S1_L005_R2_001.fastq\n",
      "Approx 90% complete for 12428-AK-0002_21_S1_L005_R2_001.fastq\n",
      "Approx 95% complete for 12428-AK-0002_21_S1_L005_R2_001.fastq\n"
     ]
    },
    {
     "name": "stdout",
     "output_type": "stream",
     "text": [
      "Analysis complete for 12428-AK-0002_21_S1_L005_R2_001.fastq\n"
     ]
    },
    {
     "name": "stderr",
     "output_type": "stream",
     "text": [
      "Started analysis of 12428-AK-0002_22_S1_L005_R1_001.fastq\n",
      "Approx 5% complete for 12428-AK-0002_22_S1_L005_R1_001.fastq\n",
      "Approx 10% complete for 12428-AK-0002_22_S1_L005_R1_001.fastq\n",
      "Approx 15% complete for 12428-AK-0002_22_S1_L005_R1_001.fastq\n",
      "Approx 20% complete for 12428-AK-0002_22_S1_L005_R1_001.fastq\n",
      "Approx 25% complete for 12428-AK-0002_22_S1_L005_R1_001.fastq\n",
      "Approx 30% complete for 12428-AK-0002_22_S1_L005_R1_001.fastq\n",
      "Approx 35% complete for 12428-AK-0002_22_S1_L005_R1_001.fastq\n",
      "Approx 40% complete for 12428-AK-0002_22_S1_L005_R1_001.fastq\n",
      "Approx 45% complete for 12428-AK-0002_22_S1_L005_R1_001.fastq\n",
      "Approx 50% complete for 12428-AK-0002_22_S1_L005_R1_001.fastq\n",
      "Approx 55% complete for 12428-AK-0002_22_S1_L005_R1_001.fastq\n",
      "Approx 60% complete for 12428-AK-0002_22_S1_L005_R1_001.fastq\n",
      "Approx 65% complete for 12428-AK-0002_22_S1_L005_R1_001.fastq\n",
      "Approx 70% complete for 12428-AK-0002_22_S1_L005_R1_001.fastq\n",
      "Approx 75% complete for 12428-AK-0002_22_S1_L005_R1_001.fastq\n",
      "Approx 80% complete for 12428-AK-0002_22_S1_L005_R1_001.fastq\n",
      "Approx 85% complete for 12428-AK-0002_22_S1_L005_R1_001.fastq\n",
      "Approx 90% complete for 12428-AK-0002_22_S1_L005_R1_001.fastq\n",
      "Approx 95% complete for 12428-AK-0002_22_S1_L005_R1_001.fastq\n"
     ]
    },
    {
     "name": "stdout",
     "output_type": "stream",
     "text": [
      "Analysis complete for 12428-AK-0002_22_S1_L005_R1_001.fastq\n"
     ]
    },
    {
     "name": "stderr",
     "output_type": "stream",
     "text": [
      "Started analysis of 12428-AK-0002_22_S1_L005_R2_001.fastq\n",
      "Approx 5% complete for 12428-AK-0002_22_S1_L005_R2_001.fastq\n",
      "Approx 10% complete for 12428-AK-0002_22_S1_L005_R2_001.fastq\n",
      "Approx 15% complete for 12428-AK-0002_22_S1_L005_R2_001.fastq\n",
      "Approx 20% complete for 12428-AK-0002_22_S1_L005_R2_001.fastq\n",
      "Approx 25% complete for 12428-AK-0002_22_S1_L005_R2_001.fastq\n",
      "Approx 30% complete for 12428-AK-0002_22_S1_L005_R2_001.fastq\n",
      "Approx 35% complete for 12428-AK-0002_22_S1_L005_R2_001.fastq\n",
      "Approx 40% complete for 12428-AK-0002_22_S1_L005_R2_001.fastq\n",
      "Approx 45% complete for 12428-AK-0002_22_S1_L005_R2_001.fastq\n",
      "Approx 50% complete for 12428-AK-0002_22_S1_L005_R2_001.fastq\n",
      "Approx 55% complete for 12428-AK-0002_22_S1_L005_R2_001.fastq\n",
      "Approx 60% complete for 12428-AK-0002_22_S1_L005_R2_001.fastq\n",
      "Approx 65% complete for 12428-AK-0002_22_S1_L005_R2_001.fastq\n",
      "Approx 70% complete for 12428-AK-0002_22_S1_L005_R2_001.fastq\n",
      "Approx 75% complete for 12428-AK-0002_22_S1_L005_R2_001.fastq\n",
      "Approx 80% complete for 12428-AK-0002_22_S1_L005_R2_001.fastq\n",
      "Approx 85% complete for 12428-AK-0002_22_S1_L005_R2_001.fastq\n",
      "Approx 90% complete for 12428-AK-0002_22_S1_L005_R2_001.fastq\n",
      "Approx 95% complete for 12428-AK-0002_22_S1_L005_R2_001.fastq\n"
     ]
    },
    {
     "name": "stdout",
     "output_type": "stream",
     "text": [
      "Analysis complete for 12428-AK-0002_22_S1_L005_R2_001.fastq\n"
     ]
    },
    {
     "name": "stderr",
     "output_type": "stream",
     "text": [
      "Started analysis of 12428-AK-0002_23_S1_L005_R1_001.fastq\n",
      "Approx 5% complete for 12428-AK-0002_23_S1_L005_R1_001.fastq\n",
      "Approx 10% complete for 12428-AK-0002_23_S1_L005_R1_001.fastq\n",
      "Approx 15% complete for 12428-AK-0002_23_S1_L005_R1_001.fastq\n",
      "Approx 20% complete for 12428-AK-0002_23_S1_L005_R1_001.fastq\n",
      "Approx 25% complete for 12428-AK-0002_23_S1_L005_R1_001.fastq\n",
      "Approx 30% complete for 12428-AK-0002_23_S1_L005_R1_001.fastq\n",
      "Approx 35% complete for 12428-AK-0002_23_S1_L005_R1_001.fastq\n",
      "Approx 40% complete for 12428-AK-0002_23_S1_L005_R1_001.fastq\n",
      "Approx 45% complete for 12428-AK-0002_23_S1_L005_R1_001.fastq\n",
      "Approx 50% complete for 12428-AK-0002_23_S1_L005_R1_001.fastq\n",
      "Approx 55% complete for 12428-AK-0002_23_S1_L005_R1_001.fastq\n",
      "Approx 60% complete for 12428-AK-0002_23_S1_L005_R1_001.fastq\n",
      "Approx 65% complete for 12428-AK-0002_23_S1_L005_R1_001.fastq\n",
      "Approx 70% complete for 12428-AK-0002_23_S1_L005_R1_001.fastq\n",
      "Approx 75% complete for 12428-AK-0002_23_S1_L005_R1_001.fastq\n",
      "Approx 80% complete for 12428-AK-0002_23_S1_L005_R1_001.fastq\n",
      "Approx 85% complete for 12428-AK-0002_23_S1_L005_R1_001.fastq\n",
      "Approx 90% complete for 12428-AK-0002_23_S1_L005_R1_001.fastq\n",
      "Approx 95% complete for 12428-AK-0002_23_S1_L005_R1_001.fastq\n"
     ]
    },
    {
     "name": "stdout",
     "output_type": "stream",
     "text": [
      "Analysis complete for 12428-AK-0002_23_S1_L005_R1_001.fastq\n"
     ]
    },
    {
     "name": "stderr",
     "output_type": "stream",
     "text": [
      "Started analysis of 12428-AK-0002_23_S1_L005_R2_001.fastq\n",
      "Approx 5% complete for 12428-AK-0002_23_S1_L005_R2_001.fastq\n",
      "Approx 10% complete for 12428-AK-0002_23_S1_L005_R2_001.fastq\n",
      "Approx 15% complete for 12428-AK-0002_23_S1_L005_R2_001.fastq\n",
      "Approx 20% complete for 12428-AK-0002_23_S1_L005_R2_001.fastq\n",
      "Approx 25% complete for 12428-AK-0002_23_S1_L005_R2_001.fastq\n",
      "Approx 30% complete for 12428-AK-0002_23_S1_L005_R2_001.fastq\n",
      "Approx 35% complete for 12428-AK-0002_23_S1_L005_R2_001.fastq\n",
      "Approx 40% complete for 12428-AK-0002_23_S1_L005_R2_001.fastq\n",
      "Approx 45% complete for 12428-AK-0002_23_S1_L005_R2_001.fastq\n",
      "Approx 50% complete for 12428-AK-0002_23_S1_L005_R2_001.fastq\n",
      "Approx 55% complete for 12428-AK-0002_23_S1_L005_R2_001.fastq\n",
      "Approx 60% complete for 12428-AK-0002_23_S1_L005_R2_001.fastq\n",
      "Approx 65% complete for 12428-AK-0002_23_S1_L005_R2_001.fastq\n",
      "Approx 70% complete for 12428-AK-0002_23_S1_L005_R2_001.fastq\n",
      "Approx 75% complete for 12428-AK-0002_23_S1_L005_R2_001.fastq\n",
      "Approx 80% complete for 12428-AK-0002_23_S1_L005_R2_001.fastq\n",
      "Approx 85% complete for 12428-AK-0002_23_S1_L005_R2_001.fastq\n",
      "Approx 90% complete for 12428-AK-0002_23_S1_L005_R2_001.fastq\n",
      "Approx 95% complete for 12428-AK-0002_23_S1_L005_R2_001.fastq\n"
     ]
    },
    {
     "name": "stdout",
     "output_type": "stream",
     "text": [
      "Analysis complete for 12428-AK-0002_23_S1_L005_R2_001.fastq\n"
     ]
    },
    {
     "name": "stderr",
     "output_type": "stream",
     "text": [
      "Started analysis of 12428-AK-0002_24_S1_L005_R1_001.fastq\n",
      "Approx 5% complete for 12428-AK-0002_24_S1_L005_R1_001.fastq\n",
      "Approx 10% complete for 12428-AK-0002_24_S1_L005_R1_001.fastq\n",
      "Approx 15% complete for 12428-AK-0002_24_S1_L005_R1_001.fastq\n",
      "Approx 20% complete for 12428-AK-0002_24_S1_L005_R1_001.fastq\n",
      "Approx 25% complete for 12428-AK-0002_24_S1_L005_R1_001.fastq\n",
      "Approx 30% complete for 12428-AK-0002_24_S1_L005_R1_001.fastq\n",
      "Approx 35% complete for 12428-AK-0002_24_S1_L005_R1_001.fastq\n",
      "Approx 40% complete for 12428-AK-0002_24_S1_L005_R1_001.fastq\n",
      "Approx 45% complete for 12428-AK-0002_24_S1_L005_R1_001.fastq\n",
      "Approx 50% complete for 12428-AK-0002_24_S1_L005_R1_001.fastq\n",
      "Approx 55% complete for 12428-AK-0002_24_S1_L005_R1_001.fastq\n",
      "Approx 60% complete for 12428-AK-0002_24_S1_L005_R1_001.fastq\n",
      "Approx 65% complete for 12428-AK-0002_24_S1_L005_R1_001.fastq\n",
      "Approx 70% complete for 12428-AK-0002_24_S1_L005_R1_001.fastq\n",
      "Approx 75% complete for 12428-AK-0002_24_S1_L005_R1_001.fastq\n",
      "Approx 80% complete for 12428-AK-0002_24_S1_L005_R1_001.fastq\n",
      "Approx 85% complete for 12428-AK-0002_24_S1_L005_R1_001.fastq\n",
      "Approx 90% complete for 12428-AK-0002_24_S1_L005_R1_001.fastq\n",
      "Approx 95% complete for 12428-AK-0002_24_S1_L005_R1_001.fastq\n"
     ]
    },
    {
     "name": "stdout",
     "output_type": "stream",
     "text": [
      "Analysis complete for 12428-AK-0002_24_S1_L005_R1_001.fastq\n"
     ]
    },
    {
     "name": "stderr",
     "output_type": "stream",
     "text": [
      "Started analysis of 12428-AK-0002_24_S1_L005_R2_001.fastq\n",
      "Approx 5% complete for 12428-AK-0002_24_S1_L005_R2_001.fastq\n",
      "Approx 10% complete for 12428-AK-0002_24_S1_L005_R2_001.fastq\n",
      "Approx 15% complete for 12428-AK-0002_24_S1_L005_R2_001.fastq\n",
      "Approx 20% complete for 12428-AK-0002_24_S1_L005_R2_001.fastq\n",
      "Approx 25% complete for 12428-AK-0002_24_S1_L005_R2_001.fastq\n",
      "Approx 30% complete for 12428-AK-0002_24_S1_L005_R2_001.fastq\n",
      "Approx 35% complete for 12428-AK-0002_24_S1_L005_R2_001.fastq\n",
      "Approx 40% complete for 12428-AK-0002_24_S1_L005_R2_001.fastq\n",
      "Approx 45% complete for 12428-AK-0002_24_S1_L005_R2_001.fastq\n",
      "Approx 50% complete for 12428-AK-0002_24_S1_L005_R2_001.fastq\n",
      "Approx 55% complete for 12428-AK-0002_24_S1_L005_R2_001.fastq\n",
      "Approx 60% complete for 12428-AK-0002_24_S1_L005_R2_001.fastq\n",
      "Approx 65% complete for 12428-AK-0002_24_S1_L005_R2_001.fastq\n",
      "Approx 70% complete for 12428-AK-0002_24_S1_L005_R2_001.fastq\n",
      "Approx 75% complete for 12428-AK-0002_24_S1_L005_R2_001.fastq\n",
      "Approx 80% complete for 12428-AK-0002_24_S1_L005_R2_001.fastq\n",
      "Approx 85% complete for 12428-AK-0002_24_S1_L005_R2_001.fastq\n",
      "Approx 90% complete for 12428-AK-0002_24_S1_L005_R2_001.fastq\n",
      "Approx 95% complete for 12428-AK-0002_24_S1_L005_R2_001.fastq\n"
     ]
    },
    {
     "name": "stdout",
     "output_type": "stream",
     "text": [
      "Analysis complete for 12428-AK-0002_24_S1_L005_R2_001.fastq\n"
     ]
    },
    {
     "name": "stderr",
     "output_type": "stream",
     "text": [
      "Started analysis of 12428-AK-0002_25_S1_L005_R1_001.fastq\n",
      "Approx 5% complete for 12428-AK-0002_25_S1_L005_R1_001.fastq\n",
      "Approx 10% complete for 12428-AK-0002_25_S1_L005_R1_001.fastq\n",
      "Approx 15% complete for 12428-AK-0002_25_S1_L005_R1_001.fastq\n",
      "Approx 20% complete for 12428-AK-0002_25_S1_L005_R1_001.fastq\n",
      "Approx 25% complete for 12428-AK-0002_25_S1_L005_R1_001.fastq\n",
      "Approx 30% complete for 12428-AK-0002_25_S1_L005_R1_001.fastq\n",
      "Approx 35% complete for 12428-AK-0002_25_S1_L005_R1_001.fastq\n",
      "Approx 40% complete for 12428-AK-0002_25_S1_L005_R1_001.fastq\n",
      "Approx 45% complete for 12428-AK-0002_25_S1_L005_R1_001.fastq\n",
      "Approx 50% complete for 12428-AK-0002_25_S1_L005_R1_001.fastq\n",
      "Approx 55% complete for 12428-AK-0002_25_S1_L005_R1_001.fastq\n",
      "Approx 60% complete for 12428-AK-0002_25_S1_L005_R1_001.fastq\n",
      "Approx 65% complete for 12428-AK-0002_25_S1_L005_R1_001.fastq\n",
      "Approx 70% complete for 12428-AK-0002_25_S1_L005_R1_001.fastq\n",
      "Approx 75% complete for 12428-AK-0002_25_S1_L005_R1_001.fastq\n",
      "Approx 80% complete for 12428-AK-0002_25_S1_L005_R1_001.fastq\n",
      "Approx 85% complete for 12428-AK-0002_25_S1_L005_R1_001.fastq\n",
      "Approx 90% complete for 12428-AK-0002_25_S1_L005_R1_001.fastq\n",
      "Approx 95% complete for 12428-AK-0002_25_S1_L005_R1_001.fastq\n"
     ]
    },
    {
     "name": "stdout",
     "output_type": "stream",
     "text": [
      "Analysis complete for 12428-AK-0002_25_S1_L005_R1_001.fastq\n"
     ]
    },
    {
     "name": "stderr",
     "output_type": "stream",
     "text": [
      "Started analysis of 12428-AK-0002_25_S1_L005_R2_001.fastq\n",
      "Approx 5% complete for 12428-AK-0002_25_S1_L005_R2_001.fastq\n",
      "Approx 10% complete for 12428-AK-0002_25_S1_L005_R2_001.fastq\n",
      "Approx 15% complete for 12428-AK-0002_25_S1_L005_R2_001.fastq\n",
      "Approx 20% complete for 12428-AK-0002_25_S1_L005_R2_001.fastq\n",
      "Approx 25% complete for 12428-AK-0002_25_S1_L005_R2_001.fastq\n",
      "Approx 30% complete for 12428-AK-0002_25_S1_L005_R2_001.fastq\n",
      "Approx 35% complete for 12428-AK-0002_25_S1_L005_R2_001.fastq\n",
      "Approx 40% complete for 12428-AK-0002_25_S1_L005_R2_001.fastq\n",
      "Approx 45% complete for 12428-AK-0002_25_S1_L005_R2_001.fastq\n",
      "Approx 50% complete for 12428-AK-0002_25_S1_L005_R2_001.fastq\n",
      "Approx 55% complete for 12428-AK-0002_25_S1_L005_R2_001.fastq\n",
      "Approx 60% complete for 12428-AK-0002_25_S1_L005_R2_001.fastq\n",
      "Approx 65% complete for 12428-AK-0002_25_S1_L005_R2_001.fastq\n",
      "Approx 70% complete for 12428-AK-0002_25_S1_L005_R2_001.fastq\n",
      "Approx 75% complete for 12428-AK-0002_25_S1_L005_R2_001.fastq\n",
      "Approx 80% complete for 12428-AK-0002_25_S1_L005_R2_001.fastq\n",
      "Approx 85% complete for 12428-AK-0002_25_S1_L005_R2_001.fastq\n",
      "Approx 90% complete for 12428-AK-0002_25_S1_L005_R2_001.fastq\n",
      "Approx 95% complete for 12428-AK-0002_25_S1_L005_R2_001.fastq\n"
     ]
    },
    {
     "name": "stdout",
     "output_type": "stream",
     "text": [
      "Analysis complete for 12428-AK-0002_25_S1_L005_R2_001.fastq\n"
     ]
    },
    {
     "name": "stderr",
     "output_type": "stream",
     "text": [
      "Started analysis of 12428-AK-0002_26_S1_L005_R1_001.fastq\n",
      "Approx 5% complete for 12428-AK-0002_26_S1_L005_R1_001.fastq\n",
      "Approx 10% complete for 12428-AK-0002_26_S1_L005_R1_001.fastq\n",
      "Approx 15% complete for 12428-AK-0002_26_S1_L005_R1_001.fastq\n",
      "Approx 20% complete for 12428-AK-0002_26_S1_L005_R1_001.fastq\n",
      "Approx 25% complete for 12428-AK-0002_26_S1_L005_R1_001.fastq\n",
      "Approx 30% complete for 12428-AK-0002_26_S1_L005_R1_001.fastq\n",
      "Approx 35% complete for 12428-AK-0002_26_S1_L005_R1_001.fastq\n",
      "Approx 40% complete for 12428-AK-0002_26_S1_L005_R1_001.fastq\n",
      "Approx 45% complete for 12428-AK-0002_26_S1_L005_R1_001.fastq\n",
      "Approx 50% complete for 12428-AK-0002_26_S1_L005_R1_001.fastq\n",
      "Approx 55% complete for 12428-AK-0002_26_S1_L005_R1_001.fastq\n",
      "Approx 60% complete for 12428-AK-0002_26_S1_L005_R1_001.fastq\n",
      "Approx 65% complete for 12428-AK-0002_26_S1_L005_R1_001.fastq\n",
      "Approx 70% complete for 12428-AK-0002_26_S1_L005_R1_001.fastq\n",
      "Approx 75% complete for 12428-AK-0002_26_S1_L005_R1_001.fastq\n",
      "Approx 80% complete for 12428-AK-0002_26_S1_L005_R1_001.fastq\n",
      "Approx 85% complete for 12428-AK-0002_26_S1_L005_R1_001.fastq\n",
      "Approx 90% complete for 12428-AK-0002_26_S1_L005_R1_001.fastq\n",
      "Approx 95% complete for 12428-AK-0002_26_S1_L005_R1_001.fastq\n"
     ]
    },
    {
     "name": "stdout",
     "output_type": "stream",
     "text": [
      "Analysis complete for 12428-AK-0002_26_S1_L005_R1_001.fastq\n"
     ]
    },
    {
     "name": "stderr",
     "output_type": "stream",
     "text": [
      "Started analysis of 12428-AK-0002_26_S1_L005_R2_001.fastq\n",
      "Approx 5% complete for 12428-AK-0002_26_S1_L005_R2_001.fastq\n",
      "Approx 10% complete for 12428-AK-0002_26_S1_L005_R2_001.fastq\n",
      "Approx 15% complete for 12428-AK-0002_26_S1_L005_R2_001.fastq\n",
      "Approx 20% complete for 12428-AK-0002_26_S1_L005_R2_001.fastq\n",
      "Approx 25% complete for 12428-AK-0002_26_S1_L005_R2_001.fastq\n",
      "Approx 30% complete for 12428-AK-0002_26_S1_L005_R2_001.fastq\n",
      "Approx 35% complete for 12428-AK-0002_26_S1_L005_R2_001.fastq\n",
      "Approx 40% complete for 12428-AK-0002_26_S1_L005_R2_001.fastq\n",
      "Approx 45% complete for 12428-AK-0002_26_S1_L005_R2_001.fastq\n",
      "Approx 50% complete for 12428-AK-0002_26_S1_L005_R2_001.fastq\n",
      "Approx 55% complete for 12428-AK-0002_26_S1_L005_R2_001.fastq\n",
      "Approx 60% complete for 12428-AK-0002_26_S1_L005_R2_001.fastq\n",
      "Approx 65% complete for 12428-AK-0002_26_S1_L005_R2_001.fastq\n",
      "Approx 70% complete for 12428-AK-0002_26_S1_L005_R2_001.fastq\n",
      "Approx 75% complete for 12428-AK-0002_26_S1_L005_R2_001.fastq\n",
      "Approx 80% complete for 12428-AK-0002_26_S1_L005_R2_001.fastq\n",
      "Approx 85% complete for 12428-AK-0002_26_S1_L005_R2_001.fastq\n",
      "Approx 90% complete for 12428-AK-0002_26_S1_L005_R2_001.fastq\n",
      "Approx 95% complete for 12428-AK-0002_26_S1_L005_R2_001.fastq\n"
     ]
    },
    {
     "name": "stdout",
     "output_type": "stream",
     "text": [
      "Analysis complete for 12428-AK-0002_26_S1_L005_R2_001.fastq\n"
     ]
    },
    {
     "name": "stderr",
     "output_type": "stream",
     "text": [
      "Started analysis of 12428-AK-0002_27_S1_L005_R1_001.fastq\n",
      "Approx 5% complete for 12428-AK-0002_27_S1_L005_R1_001.fastq\n",
      "Approx 10% complete for 12428-AK-0002_27_S1_L005_R1_001.fastq\n",
      "Approx 15% complete for 12428-AK-0002_27_S1_L005_R1_001.fastq\n",
      "Approx 20% complete for 12428-AK-0002_27_S1_L005_R1_001.fastq\n",
      "Approx 25% complete for 12428-AK-0002_27_S1_L005_R1_001.fastq\n",
      "Approx 30% complete for 12428-AK-0002_27_S1_L005_R1_001.fastq\n",
      "Approx 35% complete for 12428-AK-0002_27_S1_L005_R1_001.fastq\n",
      "Approx 40% complete for 12428-AK-0002_27_S1_L005_R1_001.fastq\n",
      "Approx 45% complete for 12428-AK-0002_27_S1_L005_R1_001.fastq\n",
      "Approx 50% complete for 12428-AK-0002_27_S1_L005_R1_001.fastq\n",
      "Approx 55% complete for 12428-AK-0002_27_S1_L005_R1_001.fastq\n",
      "Approx 60% complete for 12428-AK-0002_27_S1_L005_R1_001.fastq\n",
      "Approx 65% complete for 12428-AK-0002_27_S1_L005_R1_001.fastq\n",
      "Approx 70% complete for 12428-AK-0002_27_S1_L005_R1_001.fastq\n",
      "Approx 75% complete for 12428-AK-0002_27_S1_L005_R1_001.fastq\n",
      "Approx 80% complete for 12428-AK-0002_27_S1_L005_R1_001.fastq\n",
      "Approx 85% complete for 12428-AK-0002_27_S1_L005_R1_001.fastq\n",
      "Approx 90% complete for 12428-AK-0002_27_S1_L005_R1_001.fastq\n",
      "Approx 95% complete for 12428-AK-0002_27_S1_L005_R1_001.fastq\n"
     ]
    },
    {
     "name": "stdout",
     "output_type": "stream",
     "text": [
      "Analysis complete for 12428-AK-0002_27_S1_L005_R1_001.fastq\n"
     ]
    },
    {
     "name": "stderr",
     "output_type": "stream",
     "text": [
      "Started analysis of 12428-AK-0002_27_S1_L005_R2_001.fastq\n",
      "Approx 5% complete for 12428-AK-0002_27_S1_L005_R2_001.fastq\n",
      "Approx 10% complete for 12428-AK-0002_27_S1_L005_R2_001.fastq\n",
      "Approx 15% complete for 12428-AK-0002_27_S1_L005_R2_001.fastq\n",
      "Approx 20% complete for 12428-AK-0002_27_S1_L005_R2_001.fastq\n",
      "Approx 25% complete for 12428-AK-0002_27_S1_L005_R2_001.fastq\n",
      "Approx 30% complete for 12428-AK-0002_27_S1_L005_R2_001.fastq\n",
      "Approx 35% complete for 12428-AK-0002_27_S1_L005_R2_001.fastq\n",
      "Approx 40% complete for 12428-AK-0002_27_S1_L005_R2_001.fastq\n",
      "Approx 45% complete for 12428-AK-0002_27_S1_L005_R2_001.fastq\n",
      "Approx 50% complete for 12428-AK-0002_27_S1_L005_R2_001.fastq\n",
      "Approx 55% complete for 12428-AK-0002_27_S1_L005_R2_001.fastq\n",
      "Approx 60% complete for 12428-AK-0002_27_S1_L005_R2_001.fastq\n",
      "Approx 65% complete for 12428-AK-0002_27_S1_L005_R2_001.fastq\n",
      "Approx 70% complete for 12428-AK-0002_27_S1_L005_R2_001.fastq\n",
      "Approx 75% complete for 12428-AK-0002_27_S1_L005_R2_001.fastq\n",
      "Approx 80% complete for 12428-AK-0002_27_S1_L005_R2_001.fastq\n",
      "Approx 85% complete for 12428-AK-0002_27_S1_L005_R2_001.fastq\n",
      "Approx 90% complete for 12428-AK-0002_27_S1_L005_R2_001.fastq\n",
      "Approx 95% complete for 12428-AK-0002_27_S1_L005_R2_001.fastq\n"
     ]
    },
    {
     "name": "stdout",
     "output_type": "stream",
     "text": [
      "Analysis complete for 12428-AK-0002_27_S1_L005_R2_001.fastq\n"
     ]
    },
    {
     "name": "stderr",
     "output_type": "stream",
     "text": [
      "Started analysis of 12428-AK-0002_28_S1_L005_R1_001.fastq\n",
      "Approx 5% complete for 12428-AK-0002_28_S1_L005_R1_001.fastq\n",
      "Approx 10% complete for 12428-AK-0002_28_S1_L005_R1_001.fastq\n",
      "Approx 15% complete for 12428-AK-0002_28_S1_L005_R1_001.fastq\n",
      "Approx 20% complete for 12428-AK-0002_28_S1_L005_R1_001.fastq\n",
      "Approx 25% complete for 12428-AK-0002_28_S1_L005_R1_001.fastq\n",
      "Approx 30% complete for 12428-AK-0002_28_S1_L005_R1_001.fastq\n",
      "Approx 35% complete for 12428-AK-0002_28_S1_L005_R1_001.fastq\n",
      "Approx 40% complete for 12428-AK-0002_28_S1_L005_R1_001.fastq\n",
      "Approx 45% complete for 12428-AK-0002_28_S1_L005_R1_001.fastq\n",
      "Approx 50% complete for 12428-AK-0002_28_S1_L005_R1_001.fastq\n",
      "Approx 55% complete for 12428-AK-0002_28_S1_L005_R1_001.fastq\n",
      "Approx 60% complete for 12428-AK-0002_28_S1_L005_R1_001.fastq\n",
      "Approx 65% complete for 12428-AK-0002_28_S1_L005_R1_001.fastq\n",
      "Approx 70% complete for 12428-AK-0002_28_S1_L005_R1_001.fastq\n",
      "Approx 75% complete for 12428-AK-0002_28_S1_L005_R1_001.fastq\n",
      "Approx 80% complete for 12428-AK-0002_28_S1_L005_R1_001.fastq\n",
      "Approx 85% complete for 12428-AK-0002_28_S1_L005_R1_001.fastq\n",
      "Approx 90% complete for 12428-AK-0002_28_S1_L005_R1_001.fastq\n",
      "Approx 95% complete for 12428-AK-0002_28_S1_L005_R1_001.fastq\n"
     ]
    },
    {
     "name": "stdout",
     "output_type": "stream",
     "text": [
      "Analysis complete for 12428-AK-0002_28_S1_L005_R1_001.fastq\n"
     ]
    },
    {
     "name": "stderr",
     "output_type": "stream",
     "text": [
      "Started analysis of 12428-AK-0002_28_S1_L005_R2_001.fastq\n",
      "Approx 5% complete for 12428-AK-0002_28_S1_L005_R2_001.fastq\n",
      "Approx 10% complete for 12428-AK-0002_28_S1_L005_R2_001.fastq\n",
      "Approx 15% complete for 12428-AK-0002_28_S1_L005_R2_001.fastq\n",
      "Approx 20% complete for 12428-AK-0002_28_S1_L005_R2_001.fastq\n",
      "Approx 25% complete for 12428-AK-0002_28_S1_L005_R2_001.fastq\n",
      "Approx 30% complete for 12428-AK-0002_28_S1_L005_R2_001.fastq\n",
      "Approx 35% complete for 12428-AK-0002_28_S1_L005_R2_001.fastq\n",
      "Approx 40% complete for 12428-AK-0002_28_S1_L005_R2_001.fastq\n",
      "Approx 45% complete for 12428-AK-0002_28_S1_L005_R2_001.fastq\n",
      "Approx 50% complete for 12428-AK-0002_28_S1_L005_R2_001.fastq\n",
      "Approx 55% complete for 12428-AK-0002_28_S1_L005_R2_001.fastq\n",
      "Approx 60% complete for 12428-AK-0002_28_S1_L005_R2_001.fastq\n",
      "Approx 65% complete for 12428-AK-0002_28_S1_L005_R2_001.fastq\n",
      "Approx 70% complete for 12428-AK-0002_28_S1_L005_R2_001.fastq\n",
      "Approx 75% complete for 12428-AK-0002_28_S1_L005_R2_001.fastq\n",
      "Approx 80% complete for 12428-AK-0002_28_S1_L005_R2_001.fastq\n",
      "Approx 85% complete for 12428-AK-0002_28_S1_L005_R2_001.fastq\n",
      "Approx 90% complete for 12428-AK-0002_28_S1_L005_R2_001.fastq\n",
      "Approx 95% complete for 12428-AK-0002_28_S1_L005_R2_001.fastq\n"
     ]
    },
    {
     "name": "stdout",
     "output_type": "stream",
     "text": [
      "Analysis complete for 12428-AK-0002_28_S1_L005_R2_001.fastq\n"
     ]
    },
    {
     "name": "stderr",
     "output_type": "stream",
     "text": [
      "Started analysis of 12428-AK-0002_29_S1_L005_R1_001.fastq\n",
      "Approx 5% complete for 12428-AK-0002_29_S1_L005_R1_001.fastq\n",
      "Approx 10% complete for 12428-AK-0002_29_S1_L005_R1_001.fastq\n",
      "Approx 15% complete for 12428-AK-0002_29_S1_L005_R1_001.fastq\n",
      "Approx 20% complete for 12428-AK-0002_29_S1_L005_R1_001.fastq\n",
      "Approx 25% complete for 12428-AK-0002_29_S1_L005_R1_001.fastq\n",
      "Approx 30% complete for 12428-AK-0002_29_S1_L005_R1_001.fastq\n",
      "Approx 35% complete for 12428-AK-0002_29_S1_L005_R1_001.fastq\n",
      "Approx 40% complete for 12428-AK-0002_29_S1_L005_R1_001.fastq\n",
      "Approx 45% complete for 12428-AK-0002_29_S1_L005_R1_001.fastq\n",
      "Approx 50% complete for 12428-AK-0002_29_S1_L005_R1_001.fastq\n",
      "Approx 55% complete for 12428-AK-0002_29_S1_L005_R1_001.fastq\n",
      "Approx 60% complete for 12428-AK-0002_29_S1_L005_R1_001.fastq\n",
      "Approx 65% complete for 12428-AK-0002_29_S1_L005_R1_001.fastq\n",
      "Approx 70% complete for 12428-AK-0002_29_S1_L005_R1_001.fastq\n",
      "Approx 75% complete for 12428-AK-0002_29_S1_L005_R1_001.fastq\n",
      "Approx 80% complete for 12428-AK-0002_29_S1_L005_R1_001.fastq\n",
      "Approx 85% complete for 12428-AK-0002_29_S1_L005_R1_001.fastq\n",
      "Approx 90% complete for 12428-AK-0002_29_S1_L005_R1_001.fastq\n",
      "Approx 95% complete for 12428-AK-0002_29_S1_L005_R1_001.fastq\n"
     ]
    },
    {
     "name": "stdout",
     "output_type": "stream",
     "text": [
      "Analysis complete for 12428-AK-0002_29_S1_L005_R1_001.fastq\n"
     ]
    },
    {
     "name": "stderr",
     "output_type": "stream",
     "text": [
      "Started analysis of 12428-AK-0002_29_S1_L005_R2_001.fastq\n",
      "Approx 5% complete for 12428-AK-0002_29_S1_L005_R2_001.fastq\n",
      "Approx 10% complete for 12428-AK-0002_29_S1_L005_R2_001.fastq\n",
      "Approx 15% complete for 12428-AK-0002_29_S1_L005_R2_001.fastq\n",
      "Approx 20% complete for 12428-AK-0002_29_S1_L005_R2_001.fastq\n",
      "Approx 25% complete for 12428-AK-0002_29_S1_L005_R2_001.fastq\n",
      "Approx 30% complete for 12428-AK-0002_29_S1_L005_R2_001.fastq\n",
      "Approx 35% complete for 12428-AK-0002_29_S1_L005_R2_001.fastq\n",
      "Approx 40% complete for 12428-AK-0002_29_S1_L005_R2_001.fastq\n",
      "Approx 45% complete for 12428-AK-0002_29_S1_L005_R2_001.fastq\n",
      "Approx 50% complete for 12428-AK-0002_29_S1_L005_R2_001.fastq\n",
      "Approx 55% complete for 12428-AK-0002_29_S1_L005_R2_001.fastq\n",
      "Approx 60% complete for 12428-AK-0002_29_S1_L005_R2_001.fastq\n",
      "Approx 65% complete for 12428-AK-0002_29_S1_L005_R2_001.fastq\n",
      "Approx 70% complete for 12428-AK-0002_29_S1_L005_R2_001.fastq\n",
      "Approx 75% complete for 12428-AK-0002_29_S1_L005_R2_001.fastq\n",
      "Approx 80% complete for 12428-AK-0002_29_S1_L005_R2_001.fastq\n",
      "Approx 85% complete for 12428-AK-0002_29_S1_L005_R2_001.fastq\n",
      "Approx 90% complete for 12428-AK-0002_29_S1_L005_R2_001.fastq\n",
      "Approx 95% complete for 12428-AK-0002_29_S1_L005_R2_001.fastq\n"
     ]
    },
    {
     "name": "stdout",
     "output_type": "stream",
     "text": [
      "Analysis complete for 12428-AK-0002_29_S1_L005_R2_001.fastq\n"
     ]
    },
    {
     "name": "stderr",
     "output_type": "stream",
     "text": [
      "Started analysis of 12428-AK-0002_30_S1_L005_R1_001.fastq\n",
      "Approx 5% complete for 12428-AK-0002_30_S1_L005_R1_001.fastq\n",
      "Approx 10% complete for 12428-AK-0002_30_S1_L005_R1_001.fastq\n",
      "Approx 15% complete for 12428-AK-0002_30_S1_L005_R1_001.fastq\n",
      "Approx 20% complete for 12428-AK-0002_30_S1_L005_R1_001.fastq\n",
      "Approx 25% complete for 12428-AK-0002_30_S1_L005_R1_001.fastq\n",
      "Approx 30% complete for 12428-AK-0002_30_S1_L005_R1_001.fastq\n",
      "Approx 35% complete for 12428-AK-0002_30_S1_L005_R1_001.fastq\n",
      "Approx 40% complete for 12428-AK-0002_30_S1_L005_R1_001.fastq\n",
      "Approx 45% complete for 12428-AK-0002_30_S1_L005_R1_001.fastq\n",
      "Approx 50% complete for 12428-AK-0002_30_S1_L005_R1_001.fastq\n",
      "Approx 55% complete for 12428-AK-0002_30_S1_L005_R1_001.fastq\n",
      "Approx 60% complete for 12428-AK-0002_30_S1_L005_R1_001.fastq\n",
      "Approx 65% complete for 12428-AK-0002_30_S1_L005_R1_001.fastq\n",
      "Approx 70% complete for 12428-AK-0002_30_S1_L005_R1_001.fastq\n",
      "Approx 75% complete for 12428-AK-0002_30_S1_L005_R1_001.fastq\n",
      "Approx 80% complete for 12428-AK-0002_30_S1_L005_R1_001.fastq\n",
      "Approx 85% complete for 12428-AK-0002_30_S1_L005_R1_001.fastq\n",
      "Approx 90% complete for 12428-AK-0002_30_S1_L005_R1_001.fastq\n",
      "Approx 95% complete for 12428-AK-0002_30_S1_L005_R1_001.fastq\n"
     ]
    },
    {
     "name": "stdout",
     "output_type": "stream",
     "text": [
      "Analysis complete for 12428-AK-0002_30_S1_L005_R1_001.fastq\n"
     ]
    },
    {
     "name": "stderr",
     "output_type": "stream",
     "text": [
      "Started analysis of 12428-AK-0002_30_S1_L005_R2_001.fastq\n",
      "Approx 5% complete for 12428-AK-0002_30_S1_L005_R2_001.fastq\n",
      "Approx 10% complete for 12428-AK-0002_30_S1_L005_R2_001.fastq\n",
      "Approx 15% complete for 12428-AK-0002_30_S1_L005_R2_001.fastq\n",
      "Approx 20% complete for 12428-AK-0002_30_S1_L005_R2_001.fastq\n",
      "Approx 25% complete for 12428-AK-0002_30_S1_L005_R2_001.fastq\n",
      "Approx 30% complete for 12428-AK-0002_30_S1_L005_R2_001.fastq\n",
      "Approx 35% complete for 12428-AK-0002_30_S1_L005_R2_001.fastq\n",
      "Approx 40% complete for 12428-AK-0002_30_S1_L005_R2_001.fastq\n",
      "Approx 45% complete for 12428-AK-0002_30_S1_L005_R2_001.fastq\n",
      "Approx 50% complete for 12428-AK-0002_30_S1_L005_R2_001.fastq\n",
      "Approx 55% complete for 12428-AK-0002_30_S1_L005_R2_001.fastq\n",
      "Approx 60% complete for 12428-AK-0002_30_S1_L005_R2_001.fastq\n",
      "Approx 65% complete for 12428-AK-0002_30_S1_L005_R2_001.fastq\n",
      "Approx 70% complete for 12428-AK-0002_30_S1_L005_R2_001.fastq\n",
      "Approx 75% complete for 12428-AK-0002_30_S1_L005_R2_001.fastq\n",
      "Approx 80% complete for 12428-AK-0002_30_S1_L005_R2_001.fastq\n",
      "Approx 85% complete for 12428-AK-0002_30_S1_L005_R2_001.fastq\n",
      "Approx 90% complete for 12428-AK-0002_30_S1_L005_R2_001.fastq\n",
      "Approx 95% complete for 12428-AK-0002_30_S1_L005_R2_001.fastq\n"
     ]
    },
    {
     "name": "stdout",
     "output_type": "stream",
     "text": [
      "Analysis complete for 12428-AK-0002_30_S1_L005_R2_001.fastq\n"
     ]
    },
    {
     "data": {
      "text/plain": [
       "CompletedProcess(args=['/nobackup/l3_ferrell_lab/ABE/PRA_larry/Juypterenv/FastQC/fastqc /nobackup/l3_ferrell_lab/ABE/PRA_larry/fastq_files/*.fastq '], returncode=0)"
      ]
     },
     "execution_count": 6,
     "metadata": {},
     "output_type": "execute_result"
    }
   ],
   "source": [
    "# Run QC on Fastq files and check'em Not working \n",
    "data_directory = '/nobackup/l3_ferrell_lab/ABE/PRA_larry/fastq_files'\n",
    "subprocess.run([f'/nobackup/l3_ferrell_lab/ABE/PRA_larry/Juypterenv/FastQC/fastqc {data_directory}/*.fastq '], shell=True)"
   ]
  },
  {
   "cell_type": "code",
   "execution_count": 2,
   "metadata": {},
   "outputs": [],
   "source": [
    "# Define functions to wrangle Fastq files to include one sequence per line/row\n",
    "\n",
    "def extract_and_save_sequences(file_path, output_directory, N_READS=1):\n",
    "    '''\n",
    "    Extract sequences from a FASTQ file, filter barcodes using regex, count unique barcodes,\n",
    "    and save them to a CSV file.\n",
    "\n",
    "    Parameters:\n",
    "    - file_path (str): The path to the FASTQ file.\n",
    "    - output_directory (str): The directory where the CSV file will be saved.\n",
    "    - N_READS (int): The minimum count of reads for a barcode to be included (default is 1).\n",
    "    '''\n",
    "    sequences = []\n",
    "    barcodes = []\n",
    "\n",
    "    barcode_pattern = '[ATCG]{4}TG[ATCG]{4}CA[ATCG]{4}AC[ATCG]{4}GA[ATCG]{4}GT[ATCG]{4}AG[ATCG]{4}'\n",
    "\n",
    "    with open(file_path, 'r') as f:\n",
    "        lines = f.readlines()\n",
    "\n",
    "        # Extract the original file name without the extension\n",
    "        file_name = file_path.split('/')[-1].split('.')[0]\n",
    "\n",
    "        # Loop through every 4 lines (header, sequence, separator, quality)\n",
    "        for i in range(0, len(lines), 4):\n",
    "            sequence = lines[i + 1].strip()  # Extract the sequence line\n",
    "            match = re.search(barcode_pattern, sequence)\n",
    "\n",
    "            if match:\n",
    "                barcode = match.group(0)\n",
    "                sequences.append(sequence)\n",
    "                barcodes.append(barcode)\n",
    "\n",
    "    # Count unique barcodes\n",
    "    barcode_counts = Counter(barcodes)\n",
    "\n",
    "    # Filter by the minimum count (N_READS)\n",
    "    filtered_barcodes = {barcode: count for barcode, count in barcode_counts.items() if count >= N_READS}\n",
    "\n",
    "    # Create a CSV file with barcodes and counts\n",
    "    output_file_name = f'Library_{file_name}_barcodes.csv'\n",
    "    output_file_path = os.path.join(output_directory, output_file_name)\n",
    "\n",
    "    with open(output_file_path, 'w', newline='') as csvfile:\n",
    "        csv_writer = csv.writer(csvfile)\n",
    "        csv_writer.writerow(['Barcode', 'Count'])  # Header\n",
    "        csv_writer.writerows(filtered_barcodes.items())\n",
    "\n",
    "    print(f'Filtered and counted barcodes saved to: {output_file_path}')\n",
    "\n",
    "\n",
    "\n",
    "def process_all_fastq_files(input_directory, output_directory, N_READS=1):\n",
    "    '''\n",
    "    Process all FASTQ files in the specified directory.\n",
    "\n",
    "    Parameters:\n",
    "    - input_directory (str): The path to the directory containing FASTQ files.\n",
    "    - output_directory (str): The directory where the CSV files will be saved.\n",
    "    - N_READS (int): The minimum count of reads for a barcode to be included (default is 1).\n",
    "    '''\n",
    "    for filename in os.listdir(input_directory):\n",
    "        if filename.endswith('.fastq'):\n",
    "            file_path = os.path.join(input_directory, filename)\n",
    "            print(f'Processing file: {file_path}')\n",
    "            extract_and_save_sequences(file_path, output_directory, N_READS)\n",
    "            "
   ]
  },
  {
   "cell_type": "code",
   "execution_count": 3,
   "metadata": {},
   "outputs": [
    {
     "name": "stdout",
     "output_type": "stream",
     "text": [
      "Processing file: /nobackup/l3_ferrell_lab/ABE/PRA_larry/fastq_files/12428-AK-0002_29_S1_L005_R1_001.fastq\n",
      "Filtered and counted barcodes saved to: /nobackup/l3_ferrell_lab/ABE/PRA_larry/fastq_files/Library_12428-AK-0002_29_S1_L005_R1_001_barcodes.csv\n",
      "Processing file: /nobackup/l3_ferrell_lab/ABE/PRA_larry/fastq_files/12428-AK-0002_29_S1_L005_R2_001.fastq\n",
      "Filtered and counted barcodes saved to: /nobackup/l3_ferrell_lab/ABE/PRA_larry/fastq_files/Library_12428-AK-0002_29_S1_L005_R2_001_barcodes.csv\n",
      "Processing file: /nobackup/l3_ferrell_lab/ABE/PRA_larry/fastq_files/12428-AK-0002_30_S1_L005_R1_001.fastq\n",
      "Filtered and counted barcodes saved to: /nobackup/l3_ferrell_lab/ABE/PRA_larry/fastq_files/Library_12428-AK-0002_30_S1_L005_R1_001_barcodes.csv\n",
      "Processing file: /nobackup/l3_ferrell_lab/ABE/PRA_larry/fastq_files/12428-AK-0002_30_S1_L005_R2_001.fastq\n",
      "Filtered and counted barcodes saved to: /nobackup/l3_ferrell_lab/ABE/PRA_larry/fastq_files/Library_12428-AK-0002_30_S1_L005_R2_001_barcodes.csv\n",
      "Processing file: /nobackup/l3_ferrell_lab/ABE/PRA_larry/fastq_files/12428-AK-0002_15_S1_L005_R1_001.fastq\n",
      "Filtered and counted barcodes saved to: /nobackup/l3_ferrell_lab/ABE/PRA_larry/fastq_files/Library_12428-AK-0002_15_S1_L005_R1_001_barcodes.csv\n",
      "Processing file: /nobackup/l3_ferrell_lab/ABE/PRA_larry/fastq_files/12428-AK-0002_15_S1_L005_R2_001.fastq\n",
      "Filtered and counted barcodes saved to: /nobackup/l3_ferrell_lab/ABE/PRA_larry/fastq_files/Library_12428-AK-0002_15_S1_L005_R2_001_barcodes.csv\n",
      "Processing file: /nobackup/l3_ferrell_lab/ABE/PRA_larry/fastq_files/12428-AK-0002_16_S1_L005_R1_001.fastq\n",
      "Filtered and counted barcodes saved to: /nobackup/l3_ferrell_lab/ABE/PRA_larry/fastq_files/Library_12428-AK-0002_16_S1_L005_R1_001_barcodes.csv\n",
      "Processing file: /nobackup/l3_ferrell_lab/ABE/PRA_larry/fastq_files/12428-AK-0002_16_S1_L005_R2_001.fastq\n",
      "Filtered and counted barcodes saved to: /nobackup/l3_ferrell_lab/ABE/PRA_larry/fastq_files/Library_12428-AK-0002_16_S1_L005_R2_001_barcodes.csv\n",
      "Processing file: /nobackup/l3_ferrell_lab/ABE/PRA_larry/fastq_files/12428-AK-0002_17_S1_L005_R1_001.fastq\n",
      "Filtered and counted barcodes saved to: /nobackup/l3_ferrell_lab/ABE/PRA_larry/fastq_files/Library_12428-AK-0002_17_S1_L005_R1_001_barcodes.csv\n",
      "Processing file: /nobackup/l3_ferrell_lab/ABE/PRA_larry/fastq_files/12428-AK-0002_17_S1_L005_R2_001.fastq\n",
      "Filtered and counted barcodes saved to: /nobackup/l3_ferrell_lab/ABE/PRA_larry/fastq_files/Library_12428-AK-0002_17_S1_L005_R2_001_barcodes.csv\n",
      "Processing file: /nobackup/l3_ferrell_lab/ABE/PRA_larry/fastq_files/12428-AK-0002_18_S1_L005_R1_001.fastq\n",
      "Filtered and counted barcodes saved to: /nobackup/l3_ferrell_lab/ABE/PRA_larry/fastq_files/Library_12428-AK-0002_18_S1_L005_R1_001_barcodes.csv\n",
      "Processing file: /nobackup/l3_ferrell_lab/ABE/PRA_larry/fastq_files/12428-AK-0002_18_S1_L005_R2_001.fastq\n",
      "Filtered and counted barcodes saved to: /nobackup/l3_ferrell_lab/ABE/PRA_larry/fastq_files/Library_12428-AK-0002_18_S1_L005_R2_001_barcodes.csv\n",
      "Processing file: /nobackup/l3_ferrell_lab/ABE/PRA_larry/fastq_files/12428-AK-0002_19_S1_L005_R1_001.fastq\n",
      "Filtered and counted barcodes saved to: /nobackup/l3_ferrell_lab/ABE/PRA_larry/fastq_files/Library_12428-AK-0002_19_S1_L005_R1_001_barcodes.csv\n",
      "Processing file: /nobackup/l3_ferrell_lab/ABE/PRA_larry/fastq_files/12428-AK-0002_19_S1_L005_R2_001.fastq\n",
      "Filtered and counted barcodes saved to: /nobackup/l3_ferrell_lab/ABE/PRA_larry/fastq_files/Library_12428-AK-0002_19_S1_L005_R2_001_barcodes.csv\n",
      "Processing file: /nobackup/l3_ferrell_lab/ABE/PRA_larry/fastq_files/12428-AK-0002_20_S1_L005_R1_001.fastq\n",
      "Filtered and counted barcodes saved to: /nobackup/l3_ferrell_lab/ABE/PRA_larry/fastq_files/Library_12428-AK-0002_20_S1_L005_R1_001_barcodes.csv\n",
      "Processing file: /nobackup/l3_ferrell_lab/ABE/PRA_larry/fastq_files/12428-AK-0002_20_S1_L005_R2_001.fastq\n",
      "Filtered and counted barcodes saved to: /nobackup/l3_ferrell_lab/ABE/PRA_larry/fastq_files/Library_12428-AK-0002_20_S1_L005_R2_001_barcodes.csv\n",
      "Processing file: /nobackup/l3_ferrell_lab/ABE/PRA_larry/fastq_files/12428-AK-0002_21_S1_L005_R1_001.fastq\n",
      "Filtered and counted barcodes saved to: /nobackup/l3_ferrell_lab/ABE/PRA_larry/fastq_files/Library_12428-AK-0002_21_S1_L005_R1_001_barcodes.csv\n",
      "Processing file: /nobackup/l3_ferrell_lab/ABE/PRA_larry/fastq_files/12428-AK-0002_21_S1_L005_R2_001.fastq\n",
      "Filtered and counted barcodes saved to: /nobackup/l3_ferrell_lab/ABE/PRA_larry/fastq_files/Library_12428-AK-0002_21_S1_L005_R2_001_barcodes.csv\n",
      "Processing file: /nobackup/l3_ferrell_lab/ABE/PRA_larry/fastq_files/12428-AK-0002_22_S1_L005_R1_001.fastq\n",
      "Filtered and counted barcodes saved to: /nobackup/l3_ferrell_lab/ABE/PRA_larry/fastq_files/Library_12428-AK-0002_22_S1_L005_R1_001_barcodes.csv\n",
      "Processing file: /nobackup/l3_ferrell_lab/ABE/PRA_larry/fastq_files/12428-AK-0002_22_S1_L005_R2_001.fastq\n",
      "Filtered and counted barcodes saved to: /nobackup/l3_ferrell_lab/ABE/PRA_larry/fastq_files/Library_12428-AK-0002_22_S1_L005_R2_001_barcodes.csv\n",
      "Processing file: /nobackup/l3_ferrell_lab/ABE/PRA_larry/fastq_files/12428-AK-0002_23_S1_L005_R1_001.fastq\n",
      "Filtered and counted barcodes saved to: /nobackup/l3_ferrell_lab/ABE/PRA_larry/fastq_files/Library_12428-AK-0002_23_S1_L005_R1_001_barcodes.csv\n",
      "Processing file: /nobackup/l3_ferrell_lab/ABE/PRA_larry/fastq_files/12428-AK-0002_23_S1_L005_R2_001.fastq\n",
      "Filtered and counted barcodes saved to: /nobackup/l3_ferrell_lab/ABE/PRA_larry/fastq_files/Library_12428-AK-0002_23_S1_L005_R2_001_barcodes.csv\n",
      "Processing file: /nobackup/l3_ferrell_lab/ABE/PRA_larry/fastq_files/12428-AK-0002_24_S1_L005_R1_001.fastq\n",
      "Filtered and counted barcodes saved to: /nobackup/l3_ferrell_lab/ABE/PRA_larry/fastq_files/Library_12428-AK-0002_24_S1_L005_R1_001_barcodes.csv\n",
      "Processing file: /nobackup/l3_ferrell_lab/ABE/PRA_larry/fastq_files/12428-AK-0002_24_S1_L005_R2_001.fastq\n",
      "Filtered and counted barcodes saved to: /nobackup/l3_ferrell_lab/ABE/PRA_larry/fastq_files/Library_12428-AK-0002_24_S1_L005_R2_001_barcodes.csv\n",
      "Processing file: /nobackup/l3_ferrell_lab/ABE/PRA_larry/fastq_files/12428-AK-0002_25_S1_L005_R1_001.fastq\n",
      "Filtered and counted barcodes saved to: /nobackup/l3_ferrell_lab/ABE/PRA_larry/fastq_files/Library_12428-AK-0002_25_S1_L005_R1_001_barcodes.csv\n",
      "Processing file: /nobackup/l3_ferrell_lab/ABE/PRA_larry/fastq_files/12428-AK-0002_25_S1_L005_R2_001.fastq\n",
      "Filtered and counted barcodes saved to: /nobackup/l3_ferrell_lab/ABE/PRA_larry/fastq_files/Library_12428-AK-0002_25_S1_L005_R2_001_barcodes.csv\n",
      "Processing file: /nobackup/l3_ferrell_lab/ABE/PRA_larry/fastq_files/12428-AK-0002_26_S1_L005_R1_001.fastq\n",
      "Filtered and counted barcodes saved to: /nobackup/l3_ferrell_lab/ABE/PRA_larry/fastq_files/Library_12428-AK-0002_26_S1_L005_R1_001_barcodes.csv\n",
      "Processing file: /nobackup/l3_ferrell_lab/ABE/PRA_larry/fastq_files/12428-AK-0002_26_S1_L005_R2_001.fastq\n",
      "Filtered and counted barcodes saved to: /nobackup/l3_ferrell_lab/ABE/PRA_larry/fastq_files/Library_12428-AK-0002_26_S1_L005_R2_001_barcodes.csv\n",
      "Processing file: /nobackup/l3_ferrell_lab/ABE/PRA_larry/fastq_files/12428-AK-0002_27_S1_L005_R1_001.fastq\n",
      "Filtered and counted barcodes saved to: /nobackup/l3_ferrell_lab/ABE/PRA_larry/fastq_files/Library_12428-AK-0002_27_S1_L005_R1_001_barcodes.csv\n",
      "Processing file: /nobackup/l3_ferrell_lab/ABE/PRA_larry/fastq_files/12428-AK-0002_27_S1_L005_R2_001.fastq\n",
      "Filtered and counted barcodes saved to: /nobackup/l3_ferrell_lab/ABE/PRA_larry/fastq_files/Library_12428-AK-0002_27_S1_L005_R2_001_barcodes.csv\n",
      "Processing file: /nobackup/l3_ferrell_lab/ABE/PRA_larry/fastq_files/12428-AK-0002_28_S1_L005_R1_001.fastq\n",
      "Filtered and counted barcodes saved to: /nobackup/l3_ferrell_lab/ABE/PRA_larry/fastq_files/Library_12428-AK-0002_28_S1_L005_R1_001_barcodes.csv\n",
      "Processing file: /nobackup/l3_ferrell_lab/ABE/PRA_larry/fastq_files/12428-AK-0002_28_S1_L005_R2_001.fastq\n",
      "Filtered and counted barcodes saved to: /nobackup/l3_ferrell_lab/ABE/PRA_larry/fastq_files/Library_12428-AK-0002_28_S1_L005_R2_001_barcodes.csv\n",
      "Processing file: /nobackup/l3_ferrell_lab/ABE/PRA_larry/fastq_files/12428-AK-0002_01_S1_L005_R1_001.fastq\n",
      "Filtered and counted barcodes saved to: /nobackup/l3_ferrell_lab/ABE/PRA_larry/fastq_files/Library_12428-AK-0002_01_S1_L005_R1_001_barcodes.csv\n",
      "Processing file: /nobackup/l3_ferrell_lab/ABE/PRA_larry/fastq_files/12428-AK-0002_01_S1_L005_R2_001.fastq\n"
     ]
    },
    {
     "name": "stdout",
     "output_type": "stream",
     "text": [
      "Filtered and counted barcodes saved to: /nobackup/l3_ferrell_lab/ABE/PRA_larry/fastq_files/Library_12428-AK-0002_01_S1_L005_R2_001_barcodes.csv\n",
      "Processing file: /nobackup/l3_ferrell_lab/ABE/PRA_larry/fastq_files/12428-AK-0002_02_S1_L005_R1_001.fastq\n",
      "Filtered and counted barcodes saved to: /nobackup/l3_ferrell_lab/ABE/PRA_larry/fastq_files/Library_12428-AK-0002_02_S1_L005_R1_001_barcodes.csv\n",
      "Processing file: /nobackup/l3_ferrell_lab/ABE/PRA_larry/fastq_files/12428-AK-0002_02_S1_L005_R2_001.fastq\n",
      "Filtered and counted barcodes saved to: /nobackup/l3_ferrell_lab/ABE/PRA_larry/fastq_files/Library_12428-AK-0002_02_S1_L005_R2_001_barcodes.csv\n",
      "Processing file: /nobackup/l3_ferrell_lab/ABE/PRA_larry/fastq_files/12428-AK-0002_03_S1_L005_R1_001.fastq\n",
      "Filtered and counted barcodes saved to: /nobackup/l3_ferrell_lab/ABE/PRA_larry/fastq_files/Library_12428-AK-0002_03_S1_L005_R1_001_barcodes.csv\n",
      "Processing file: /nobackup/l3_ferrell_lab/ABE/PRA_larry/fastq_files/12428-AK-0002_03_S1_L005_R2_001.fastq\n",
      "Filtered and counted barcodes saved to: /nobackup/l3_ferrell_lab/ABE/PRA_larry/fastq_files/Library_12428-AK-0002_03_S1_L005_R2_001_barcodes.csv\n",
      "Processing file: /nobackup/l3_ferrell_lab/ABE/PRA_larry/fastq_files/12428-AK-0002_04_S1_L005_R1_001.fastq\n",
      "Filtered and counted barcodes saved to: /nobackup/l3_ferrell_lab/ABE/PRA_larry/fastq_files/Library_12428-AK-0002_04_S1_L005_R1_001_barcodes.csv\n",
      "Processing file: /nobackup/l3_ferrell_lab/ABE/PRA_larry/fastq_files/12428-AK-0002_04_S1_L005_R2_001.fastq\n",
      "Filtered and counted barcodes saved to: /nobackup/l3_ferrell_lab/ABE/PRA_larry/fastq_files/Library_12428-AK-0002_04_S1_L005_R2_001_barcodes.csv\n",
      "Processing file: /nobackup/l3_ferrell_lab/ABE/PRA_larry/fastq_files/12428-AK-0002_05_S1_L005_R1_001.fastq\n",
      "Filtered and counted barcodes saved to: /nobackup/l3_ferrell_lab/ABE/PRA_larry/fastq_files/Library_12428-AK-0002_05_S1_L005_R1_001_barcodes.csv\n",
      "Processing file: /nobackup/l3_ferrell_lab/ABE/PRA_larry/fastq_files/12428-AK-0002_05_S1_L005_R2_001.fastq\n",
      "Filtered and counted barcodes saved to: /nobackup/l3_ferrell_lab/ABE/PRA_larry/fastq_files/Library_12428-AK-0002_05_S1_L005_R2_001_barcodes.csv\n",
      "Processing file: /nobackup/l3_ferrell_lab/ABE/PRA_larry/fastq_files/12428-AK-0002_06_S1_L005_R1_001.fastq\n",
      "Filtered and counted barcodes saved to: /nobackup/l3_ferrell_lab/ABE/PRA_larry/fastq_files/Library_12428-AK-0002_06_S1_L005_R1_001_barcodes.csv\n",
      "Processing file: /nobackup/l3_ferrell_lab/ABE/PRA_larry/fastq_files/12428-AK-0002_06_S1_L005_R2_001.fastq\n",
      "Filtered and counted barcodes saved to: /nobackup/l3_ferrell_lab/ABE/PRA_larry/fastq_files/Library_12428-AK-0002_06_S1_L005_R2_001_barcodes.csv\n",
      "Processing file: /nobackup/l3_ferrell_lab/ABE/PRA_larry/fastq_files/12428-AK-0002_07_S1_L005_R1_001.fastq\n",
      "Filtered and counted barcodes saved to: /nobackup/l3_ferrell_lab/ABE/PRA_larry/fastq_files/Library_12428-AK-0002_07_S1_L005_R1_001_barcodes.csv\n",
      "Processing file: /nobackup/l3_ferrell_lab/ABE/PRA_larry/fastq_files/12428-AK-0002_07_S1_L005_R2_001.fastq\n",
      "Filtered and counted barcodes saved to: /nobackup/l3_ferrell_lab/ABE/PRA_larry/fastq_files/Library_12428-AK-0002_07_S1_L005_R2_001_barcodes.csv\n",
      "Processing file: /nobackup/l3_ferrell_lab/ABE/PRA_larry/fastq_files/12428-AK-0002_08_S1_L005_R1_001.fastq\n",
      "Filtered and counted barcodes saved to: /nobackup/l3_ferrell_lab/ABE/PRA_larry/fastq_files/Library_12428-AK-0002_08_S1_L005_R1_001_barcodes.csv\n",
      "Processing file: /nobackup/l3_ferrell_lab/ABE/PRA_larry/fastq_files/12428-AK-0002_08_S1_L005_R2_001.fastq\n",
      "Filtered and counted barcodes saved to: /nobackup/l3_ferrell_lab/ABE/PRA_larry/fastq_files/Library_12428-AK-0002_08_S1_L005_R2_001_barcodes.csv\n",
      "Processing file: /nobackup/l3_ferrell_lab/ABE/PRA_larry/fastq_files/12428-AK-0002_09_S1_L005_R1_001.fastq\n",
      "Filtered and counted barcodes saved to: /nobackup/l3_ferrell_lab/ABE/PRA_larry/fastq_files/Library_12428-AK-0002_09_S1_L005_R1_001_barcodes.csv\n",
      "Processing file: /nobackup/l3_ferrell_lab/ABE/PRA_larry/fastq_files/12428-AK-0002_09_S1_L005_R2_001.fastq\n",
      "Filtered and counted barcodes saved to: /nobackup/l3_ferrell_lab/ABE/PRA_larry/fastq_files/Library_12428-AK-0002_09_S1_L005_R2_001_barcodes.csv\n",
      "Processing file: /nobackup/l3_ferrell_lab/ABE/PRA_larry/fastq_files/12428-AK-0002_10_S1_L005_R1_001.fastq\n",
      "Filtered and counted barcodes saved to: /nobackup/l3_ferrell_lab/ABE/PRA_larry/fastq_files/Library_12428-AK-0002_10_S1_L005_R1_001_barcodes.csv\n",
      "Processing file: /nobackup/l3_ferrell_lab/ABE/PRA_larry/fastq_files/12428-AK-0002_10_S1_L005_R2_001.fastq\n",
      "Filtered and counted barcodes saved to: /nobackup/l3_ferrell_lab/ABE/PRA_larry/fastq_files/Library_12428-AK-0002_10_S1_L005_R2_001_barcodes.csv\n",
      "Processing file: /nobackup/l3_ferrell_lab/ABE/PRA_larry/fastq_files/12428-AK-0002_11_S1_L005_R1_001.fastq\n",
      "Filtered and counted barcodes saved to: /nobackup/l3_ferrell_lab/ABE/PRA_larry/fastq_files/Library_12428-AK-0002_11_S1_L005_R1_001_barcodes.csv\n",
      "Processing file: /nobackup/l3_ferrell_lab/ABE/PRA_larry/fastq_files/12428-AK-0002_11_S1_L005_R2_001.fastq\n",
      "Filtered and counted barcodes saved to: /nobackup/l3_ferrell_lab/ABE/PRA_larry/fastq_files/Library_12428-AK-0002_11_S1_L005_R2_001_barcodes.csv\n",
      "Processing file: /nobackup/l3_ferrell_lab/ABE/PRA_larry/fastq_files/12428-AK-0002_12_S1_L005_R1_001.fastq\n",
      "Filtered and counted barcodes saved to: /nobackup/l3_ferrell_lab/ABE/PRA_larry/fastq_files/Library_12428-AK-0002_12_S1_L005_R1_001_barcodes.csv\n",
      "Processing file: /nobackup/l3_ferrell_lab/ABE/PRA_larry/fastq_files/12428-AK-0002_12_S1_L005_R2_001.fastq\n",
      "Filtered and counted barcodes saved to: /nobackup/l3_ferrell_lab/ABE/PRA_larry/fastq_files/Library_12428-AK-0002_12_S1_L005_R2_001_barcodes.csv\n",
      "Processing file: /nobackup/l3_ferrell_lab/ABE/PRA_larry/fastq_files/12428-AK-0002_13_S1_L005_R1_001.fastq\n",
      "Filtered and counted barcodes saved to: /nobackup/l3_ferrell_lab/ABE/PRA_larry/fastq_files/Library_12428-AK-0002_13_S1_L005_R1_001_barcodes.csv\n",
      "Processing file: /nobackup/l3_ferrell_lab/ABE/PRA_larry/fastq_files/12428-AK-0002_13_S1_L005_R2_001.fastq\n",
      "Filtered and counted barcodes saved to: /nobackup/l3_ferrell_lab/ABE/PRA_larry/fastq_files/Library_12428-AK-0002_13_S1_L005_R2_001_barcodes.csv\n",
      "Processing file: /nobackup/l3_ferrell_lab/ABE/PRA_larry/fastq_files/12428-AK-0002_14_S1_L005_R1_001.fastq\n",
      "Filtered and counted barcodes saved to: /nobackup/l3_ferrell_lab/ABE/PRA_larry/fastq_files/Library_12428-AK-0002_14_S1_L005_R1_001_barcodes.csv\n",
      "Processing file: /nobackup/l3_ferrell_lab/ABE/PRA_larry/fastq_files/12428-AK-0002_14_S1_L005_R2_001.fastq\n",
      "Filtered and counted barcodes saved to: /nobackup/l3_ferrell_lab/ABE/PRA_larry/fastq_files/Library_12428-AK-0002_14_S1_L005_R2_001_barcodes.csv\n"
     ]
    }
   ],
   "source": [
    "# Execute functions on fastq directory\n",
    "data_directory = '/nobackup/l3_ferrell_lab/ABE/PRA_larry/fastq_files'\n",
    "input_directory = data_directory\n",
    "output_directory = data_directory\n",
    "process_all_fastq_files(input_directory, output_directory, N_READS=5)"
   ]
  },
  {
   "cell_type": "code",
   "execution_count": 4,
   "metadata": {},
   "outputs": [
    {
     "name": "stdout",
     "output_type": "stream",
     "text": [
      "Processing CSV file: /nobackup/l3_ferrell_lab/ABE/PRA_larry/fastq_files/Library_12428-AK-0002_29_S1_L005_R1_001_barcodes.csv\n",
      "Final clustered whitelist saved to: /nobackup/l3_ferrell_lab/ABE/PRA_larry/fastq_files/Library_12428-AK-0002_29_S1_L005_R1_001_barcodes_whitelist.csv\n",
      "Processing CSV file: /nobackup/l3_ferrell_lab/ABE/PRA_larry/fastq_files/Library_12428-AK-0002_29_S1_L005_R2_001_barcodes.csv\n",
      "Final clustered whitelist saved to: /nobackup/l3_ferrell_lab/ABE/PRA_larry/fastq_files/Library_12428-AK-0002_29_S1_L005_R2_001_barcodes_whitelist.csv\n",
      "Processing CSV file: /nobackup/l3_ferrell_lab/ABE/PRA_larry/fastq_files/Library_12428-AK-0002_30_S1_L005_R1_001_barcodes.csv\n",
      "Final clustered whitelist saved to: /nobackup/l3_ferrell_lab/ABE/PRA_larry/fastq_files/Library_12428-AK-0002_30_S1_L005_R1_001_barcodes_whitelist.csv\n",
      "Processing CSV file: /nobackup/l3_ferrell_lab/ABE/PRA_larry/fastq_files/Library_12428-AK-0002_30_S1_L005_R2_001_barcodes.csv\n",
      "Final clustered whitelist saved to: /nobackup/l3_ferrell_lab/ABE/PRA_larry/fastq_files/Library_12428-AK-0002_30_S1_L005_R2_001_barcodes_whitelist.csv\n",
      "Processing CSV file: /nobackup/l3_ferrell_lab/ABE/PRA_larry/fastq_files/Library_12428-AK-0002_15_S1_L005_R1_001_barcodes.csv\n",
      "Final clustered whitelist saved to: /nobackup/l3_ferrell_lab/ABE/PRA_larry/fastq_files/Library_12428-AK-0002_15_S1_L005_R1_001_barcodes_whitelist.csv\n",
      "Processing CSV file: /nobackup/l3_ferrell_lab/ABE/PRA_larry/fastq_files/Library_12428-AK-0002_15_S1_L005_R2_001_barcodes.csv\n",
      "Final clustered whitelist saved to: /nobackup/l3_ferrell_lab/ABE/PRA_larry/fastq_files/Library_12428-AK-0002_15_S1_L005_R2_001_barcodes_whitelist.csv\n",
      "Processing CSV file: /nobackup/l3_ferrell_lab/ABE/PRA_larry/fastq_files/Library_12428-AK-0002_16_S1_L005_R1_001_barcodes.csv\n",
      "Final clustered whitelist saved to: /nobackup/l3_ferrell_lab/ABE/PRA_larry/fastq_files/Library_12428-AK-0002_16_S1_L005_R1_001_barcodes_whitelist.csv\n",
      "Processing CSV file: /nobackup/l3_ferrell_lab/ABE/PRA_larry/fastq_files/Library_12428-AK-0002_16_S1_L005_R2_001_barcodes.csv\n",
      "Final clustered whitelist saved to: /nobackup/l3_ferrell_lab/ABE/PRA_larry/fastq_files/Library_12428-AK-0002_16_S1_L005_R2_001_barcodes_whitelist.csv\n",
      "Processing CSV file: /nobackup/l3_ferrell_lab/ABE/PRA_larry/fastq_files/Library_12428-AK-0002_17_S1_L005_R1_001_barcodes.csv\n",
      "Final clustered whitelist saved to: /nobackup/l3_ferrell_lab/ABE/PRA_larry/fastq_files/Library_12428-AK-0002_17_S1_L005_R1_001_barcodes_whitelist.csv\n",
      "Processing CSV file: /nobackup/l3_ferrell_lab/ABE/PRA_larry/fastq_files/Library_12428-AK-0002_17_S1_L005_R2_001_barcodes.csv\n",
      "Final clustered whitelist saved to: /nobackup/l3_ferrell_lab/ABE/PRA_larry/fastq_files/Library_12428-AK-0002_17_S1_L005_R2_001_barcodes_whitelist.csv\n",
      "Processing CSV file: /nobackup/l3_ferrell_lab/ABE/PRA_larry/fastq_files/Library_12428-AK-0002_18_S1_L005_R1_001_barcodes.csv\n",
      "Final clustered whitelist saved to: /nobackup/l3_ferrell_lab/ABE/PRA_larry/fastq_files/Library_12428-AK-0002_18_S1_L005_R1_001_barcodes_whitelist.csv\n",
      "Processing CSV file: /nobackup/l3_ferrell_lab/ABE/PRA_larry/fastq_files/Library_12428-AK-0002_18_S1_L005_R2_001_barcodes.csv\n",
      "Final clustered whitelist saved to: /nobackup/l3_ferrell_lab/ABE/PRA_larry/fastq_files/Library_12428-AK-0002_18_S1_L005_R2_001_barcodes_whitelist.csv\n",
      "Processing CSV file: /nobackup/l3_ferrell_lab/ABE/PRA_larry/fastq_files/Library_12428-AK-0002_19_S1_L005_R1_001_barcodes.csv\n",
      "Final clustered whitelist saved to: /nobackup/l3_ferrell_lab/ABE/PRA_larry/fastq_files/Library_12428-AK-0002_19_S1_L005_R1_001_barcodes_whitelist.csv\n",
      "Processing CSV file: /nobackup/l3_ferrell_lab/ABE/PRA_larry/fastq_files/Library_12428-AK-0002_19_S1_L005_R2_001_barcodes.csv\n",
      "Final clustered whitelist saved to: /nobackup/l3_ferrell_lab/ABE/PRA_larry/fastq_files/Library_12428-AK-0002_19_S1_L005_R2_001_barcodes_whitelist.csv\n",
      "Processing CSV file: /nobackup/l3_ferrell_lab/ABE/PRA_larry/fastq_files/Library_12428-AK-0002_20_S1_L005_R1_001_barcodes.csv\n",
      "Final clustered whitelist saved to: /nobackup/l3_ferrell_lab/ABE/PRA_larry/fastq_files/Library_12428-AK-0002_20_S1_L005_R1_001_barcodes_whitelist.csv\n",
      "Processing CSV file: /nobackup/l3_ferrell_lab/ABE/PRA_larry/fastq_files/Library_12428-AK-0002_20_S1_L005_R2_001_barcodes.csv\n",
      "Final clustered whitelist saved to: /nobackup/l3_ferrell_lab/ABE/PRA_larry/fastq_files/Library_12428-AK-0002_20_S1_L005_R2_001_barcodes_whitelist.csv\n",
      "Processing CSV file: /nobackup/l3_ferrell_lab/ABE/PRA_larry/fastq_files/Library_12428-AK-0002_21_S1_L005_R1_001_barcodes.csv\n",
      "Final clustered whitelist saved to: /nobackup/l3_ferrell_lab/ABE/PRA_larry/fastq_files/Library_12428-AK-0002_21_S1_L005_R1_001_barcodes_whitelist.csv\n",
      "Processing CSV file: /nobackup/l3_ferrell_lab/ABE/PRA_larry/fastq_files/Library_12428-AK-0002_21_S1_L005_R2_001_barcodes.csv\n",
      "Final clustered whitelist saved to: /nobackup/l3_ferrell_lab/ABE/PRA_larry/fastq_files/Library_12428-AK-0002_21_S1_L005_R2_001_barcodes_whitelist.csv\n",
      "Processing CSV file: /nobackup/l3_ferrell_lab/ABE/PRA_larry/fastq_files/Library_12428-AK-0002_22_S1_L005_R1_001_barcodes.csv\n",
      "Final clustered whitelist saved to: /nobackup/l3_ferrell_lab/ABE/PRA_larry/fastq_files/Library_12428-AK-0002_22_S1_L005_R1_001_barcodes_whitelist.csv\n",
      "Processing CSV file: /nobackup/l3_ferrell_lab/ABE/PRA_larry/fastq_files/Library_12428-AK-0002_22_S1_L005_R2_001_barcodes.csv\n",
      "Final clustered whitelist saved to: /nobackup/l3_ferrell_lab/ABE/PRA_larry/fastq_files/Library_12428-AK-0002_22_S1_L005_R2_001_barcodes_whitelist.csv\n",
      "Processing CSV file: /nobackup/l3_ferrell_lab/ABE/PRA_larry/fastq_files/Library_12428-AK-0002_23_S1_L005_R1_001_barcodes.csv\n",
      "Final clustered whitelist saved to: /nobackup/l3_ferrell_lab/ABE/PRA_larry/fastq_files/Library_12428-AK-0002_23_S1_L005_R1_001_barcodes_whitelist.csv\n",
      "Processing CSV file: /nobackup/l3_ferrell_lab/ABE/PRA_larry/fastq_files/Library_12428-AK-0002_23_S1_L005_R2_001_barcodes.csv\n",
      "Final clustered whitelist saved to: /nobackup/l3_ferrell_lab/ABE/PRA_larry/fastq_files/Library_12428-AK-0002_23_S1_L005_R2_001_barcodes_whitelist.csv\n",
      "Processing CSV file: /nobackup/l3_ferrell_lab/ABE/PRA_larry/fastq_files/Library_12428-AK-0002_24_S1_L005_R1_001_barcodes.csv\n",
      "Final clustered whitelist saved to: /nobackup/l3_ferrell_lab/ABE/PRA_larry/fastq_files/Library_12428-AK-0002_24_S1_L005_R1_001_barcodes_whitelist.csv\n",
      "Processing CSV file: /nobackup/l3_ferrell_lab/ABE/PRA_larry/fastq_files/Library_12428-AK-0002_24_S1_L005_R2_001_barcodes.csv\n",
      "Final clustered whitelist saved to: /nobackup/l3_ferrell_lab/ABE/PRA_larry/fastq_files/Library_12428-AK-0002_24_S1_L005_R2_001_barcodes_whitelist.csv\n",
      "Processing CSV file: /nobackup/l3_ferrell_lab/ABE/PRA_larry/fastq_files/Library_12428-AK-0002_25_S1_L005_R1_001_barcodes.csv\n",
      "Final clustered whitelist saved to: /nobackup/l3_ferrell_lab/ABE/PRA_larry/fastq_files/Library_12428-AK-0002_25_S1_L005_R1_001_barcodes_whitelist.csv\n",
      "Processing CSV file: /nobackup/l3_ferrell_lab/ABE/PRA_larry/fastq_files/Library_12428-AK-0002_25_S1_L005_R2_001_barcodes.csv\n",
      "Final clustered whitelist saved to: /nobackup/l3_ferrell_lab/ABE/PRA_larry/fastq_files/Library_12428-AK-0002_25_S1_L005_R2_001_barcodes_whitelist.csv\n",
      "Processing CSV file: /nobackup/l3_ferrell_lab/ABE/PRA_larry/fastq_files/Library_12428-AK-0002_26_S1_L005_R1_001_barcodes.csv\n",
      "Final clustered whitelist saved to: /nobackup/l3_ferrell_lab/ABE/PRA_larry/fastq_files/Library_12428-AK-0002_26_S1_L005_R1_001_barcodes_whitelist.csv\n",
      "Processing CSV file: /nobackup/l3_ferrell_lab/ABE/PRA_larry/fastq_files/Library_12428-AK-0002_26_S1_L005_R2_001_barcodes.csv\n",
      "Final clustered whitelist saved to: /nobackup/l3_ferrell_lab/ABE/PRA_larry/fastq_files/Library_12428-AK-0002_26_S1_L005_R2_001_barcodes_whitelist.csv\n",
      "Processing CSV file: /nobackup/l3_ferrell_lab/ABE/PRA_larry/fastq_files/Library_12428-AK-0002_27_S1_L005_R1_001_barcodes.csv\n",
      "Final clustered whitelist saved to: /nobackup/l3_ferrell_lab/ABE/PRA_larry/fastq_files/Library_12428-AK-0002_27_S1_L005_R1_001_barcodes_whitelist.csv\n",
      "Processing CSV file: /nobackup/l3_ferrell_lab/ABE/PRA_larry/fastq_files/Library_12428-AK-0002_27_S1_L005_R2_001_barcodes.csv\n",
      "Final clustered whitelist saved to: /nobackup/l3_ferrell_lab/ABE/PRA_larry/fastq_files/Library_12428-AK-0002_27_S1_L005_R2_001_barcodes_whitelist.csv\n",
      "Processing CSV file: /nobackup/l3_ferrell_lab/ABE/PRA_larry/fastq_files/Library_12428-AK-0002_28_S1_L005_R1_001_barcodes.csv\n"
     ]
    },
    {
     "name": "stdout",
     "output_type": "stream",
     "text": [
      "Final clustered whitelist saved to: /nobackup/l3_ferrell_lab/ABE/PRA_larry/fastq_files/Library_12428-AK-0002_28_S1_L005_R1_001_barcodes_whitelist.csv\n",
      "Processing CSV file: /nobackup/l3_ferrell_lab/ABE/PRA_larry/fastq_files/Library_12428-AK-0002_28_S1_L005_R2_001_barcodes.csv\n",
      "Final clustered whitelist saved to: /nobackup/l3_ferrell_lab/ABE/PRA_larry/fastq_files/Library_12428-AK-0002_28_S1_L005_R2_001_barcodes_whitelist.csv\n",
      "Processing CSV file: /nobackup/l3_ferrell_lab/ABE/PRA_larry/fastq_files/Library_12428-AK-0002_01_S1_L005_R1_001_barcodes.csv\n",
      "Final clustered whitelist saved to: /nobackup/l3_ferrell_lab/ABE/PRA_larry/fastq_files/Library_12428-AK-0002_01_S1_L005_R1_001_barcodes_whitelist.csv\n",
      "Processing CSV file: /nobackup/l3_ferrell_lab/ABE/PRA_larry/fastq_files/Library_12428-AK-0002_01_S1_L005_R2_001_barcodes.csv\n",
      "Final clustered whitelist saved to: /nobackup/l3_ferrell_lab/ABE/PRA_larry/fastq_files/Library_12428-AK-0002_01_S1_L005_R2_001_barcodes_whitelist.csv\n",
      "Processing CSV file: /nobackup/l3_ferrell_lab/ABE/PRA_larry/fastq_files/Library_12428-AK-0002_02_S1_L005_R1_001_barcodes.csv\n",
      "Final clustered whitelist saved to: /nobackup/l3_ferrell_lab/ABE/PRA_larry/fastq_files/Library_12428-AK-0002_02_S1_L005_R1_001_barcodes_whitelist.csv\n",
      "Processing CSV file: /nobackup/l3_ferrell_lab/ABE/PRA_larry/fastq_files/Library_12428-AK-0002_02_S1_L005_R2_001_barcodes.csv\n",
      "Final clustered whitelist saved to: /nobackup/l3_ferrell_lab/ABE/PRA_larry/fastq_files/Library_12428-AK-0002_02_S1_L005_R2_001_barcodes_whitelist.csv\n",
      "Processing CSV file: /nobackup/l3_ferrell_lab/ABE/PRA_larry/fastq_files/Library_12428-AK-0002_03_S1_L005_R1_001_barcodes.csv\n",
      "Final clustered whitelist saved to: /nobackup/l3_ferrell_lab/ABE/PRA_larry/fastq_files/Library_12428-AK-0002_03_S1_L005_R1_001_barcodes_whitelist.csv\n",
      "Processing CSV file: /nobackup/l3_ferrell_lab/ABE/PRA_larry/fastq_files/Library_12428-AK-0002_03_S1_L005_R2_001_barcodes.csv\n",
      "Final clustered whitelist saved to: /nobackup/l3_ferrell_lab/ABE/PRA_larry/fastq_files/Library_12428-AK-0002_03_S1_L005_R2_001_barcodes_whitelist.csv\n",
      "Processing CSV file: /nobackup/l3_ferrell_lab/ABE/PRA_larry/fastq_files/Library_12428-AK-0002_04_S1_L005_R1_001_barcodes.csv\n",
      "Final clustered whitelist saved to: /nobackup/l3_ferrell_lab/ABE/PRA_larry/fastq_files/Library_12428-AK-0002_04_S1_L005_R1_001_barcodes_whitelist.csv\n",
      "Processing CSV file: /nobackup/l3_ferrell_lab/ABE/PRA_larry/fastq_files/Library_12428-AK-0002_04_S1_L005_R2_001_barcodes.csv\n",
      "Final clustered whitelist saved to: /nobackup/l3_ferrell_lab/ABE/PRA_larry/fastq_files/Library_12428-AK-0002_04_S1_L005_R2_001_barcodes_whitelist.csv\n",
      "Processing CSV file: /nobackup/l3_ferrell_lab/ABE/PRA_larry/fastq_files/Library_12428-AK-0002_05_S1_L005_R1_001_barcodes.csv\n",
      "Final clustered whitelist saved to: /nobackup/l3_ferrell_lab/ABE/PRA_larry/fastq_files/Library_12428-AK-0002_05_S1_L005_R1_001_barcodes_whitelist.csv\n",
      "Processing CSV file: /nobackup/l3_ferrell_lab/ABE/PRA_larry/fastq_files/Library_12428-AK-0002_05_S1_L005_R2_001_barcodes.csv\n",
      "Final clustered whitelist saved to: /nobackup/l3_ferrell_lab/ABE/PRA_larry/fastq_files/Library_12428-AK-0002_05_S1_L005_R2_001_barcodes_whitelist.csv\n",
      "Processing CSV file: /nobackup/l3_ferrell_lab/ABE/PRA_larry/fastq_files/Library_12428-AK-0002_06_S1_L005_R1_001_barcodes.csv\n",
      "Final clustered whitelist saved to: /nobackup/l3_ferrell_lab/ABE/PRA_larry/fastq_files/Library_12428-AK-0002_06_S1_L005_R1_001_barcodes_whitelist.csv\n",
      "Processing CSV file: /nobackup/l3_ferrell_lab/ABE/PRA_larry/fastq_files/Library_12428-AK-0002_06_S1_L005_R2_001_barcodes.csv\n",
      "Final clustered whitelist saved to: /nobackup/l3_ferrell_lab/ABE/PRA_larry/fastq_files/Library_12428-AK-0002_06_S1_L005_R2_001_barcodes_whitelist.csv\n",
      "Processing CSV file: /nobackup/l3_ferrell_lab/ABE/PRA_larry/fastq_files/Library_12428-AK-0002_07_S1_L005_R1_001_barcodes.csv\n",
      "Final clustered whitelist saved to: /nobackup/l3_ferrell_lab/ABE/PRA_larry/fastq_files/Library_12428-AK-0002_07_S1_L005_R1_001_barcodes_whitelist.csv\n",
      "Processing CSV file: /nobackup/l3_ferrell_lab/ABE/PRA_larry/fastq_files/Library_12428-AK-0002_07_S1_L005_R2_001_barcodes.csv\n",
      "Final clustered whitelist saved to: /nobackup/l3_ferrell_lab/ABE/PRA_larry/fastq_files/Library_12428-AK-0002_07_S1_L005_R2_001_barcodes_whitelist.csv\n",
      "Processing CSV file: /nobackup/l3_ferrell_lab/ABE/PRA_larry/fastq_files/Library_12428-AK-0002_08_S1_L005_R1_001_barcodes.csv\n",
      "Final clustered whitelist saved to: /nobackup/l3_ferrell_lab/ABE/PRA_larry/fastq_files/Library_12428-AK-0002_08_S1_L005_R1_001_barcodes_whitelist.csv\n",
      "Processing CSV file: /nobackup/l3_ferrell_lab/ABE/PRA_larry/fastq_files/Library_12428-AK-0002_08_S1_L005_R2_001_barcodes.csv\n",
      "Final clustered whitelist saved to: /nobackup/l3_ferrell_lab/ABE/PRA_larry/fastq_files/Library_12428-AK-0002_08_S1_L005_R2_001_barcodes_whitelist.csv\n",
      "Processing CSV file: /nobackup/l3_ferrell_lab/ABE/PRA_larry/fastq_files/Library_12428-AK-0002_09_S1_L005_R1_001_barcodes.csv\n",
      "Final clustered whitelist saved to: /nobackup/l3_ferrell_lab/ABE/PRA_larry/fastq_files/Library_12428-AK-0002_09_S1_L005_R1_001_barcodes_whitelist.csv\n",
      "Processing CSV file: /nobackup/l3_ferrell_lab/ABE/PRA_larry/fastq_files/Library_12428-AK-0002_09_S1_L005_R2_001_barcodes.csv\n",
      "Final clustered whitelist saved to: /nobackup/l3_ferrell_lab/ABE/PRA_larry/fastq_files/Library_12428-AK-0002_09_S1_L005_R2_001_barcodes_whitelist.csv\n",
      "Processing CSV file: /nobackup/l3_ferrell_lab/ABE/PRA_larry/fastq_files/Library_12428-AK-0002_10_S1_L005_R1_001_barcodes.csv\n",
      "Final clustered whitelist saved to: /nobackup/l3_ferrell_lab/ABE/PRA_larry/fastq_files/Library_12428-AK-0002_10_S1_L005_R1_001_barcodes_whitelist.csv\n",
      "Processing CSV file: /nobackup/l3_ferrell_lab/ABE/PRA_larry/fastq_files/Library_12428-AK-0002_10_S1_L005_R2_001_barcodes.csv\n",
      "Final clustered whitelist saved to: /nobackup/l3_ferrell_lab/ABE/PRA_larry/fastq_files/Library_12428-AK-0002_10_S1_L005_R2_001_barcodes_whitelist.csv\n",
      "Processing CSV file: /nobackup/l3_ferrell_lab/ABE/PRA_larry/fastq_files/Library_12428-AK-0002_11_S1_L005_R1_001_barcodes.csv\n",
      "Final clustered whitelist saved to: /nobackup/l3_ferrell_lab/ABE/PRA_larry/fastq_files/Library_12428-AK-0002_11_S1_L005_R1_001_barcodes_whitelist.csv\n",
      "Processing CSV file: /nobackup/l3_ferrell_lab/ABE/PRA_larry/fastq_files/Library_12428-AK-0002_11_S1_L005_R2_001_barcodes.csv\n",
      "Final clustered whitelist saved to: /nobackup/l3_ferrell_lab/ABE/PRA_larry/fastq_files/Library_12428-AK-0002_11_S1_L005_R2_001_barcodes_whitelist.csv\n",
      "Processing CSV file: /nobackup/l3_ferrell_lab/ABE/PRA_larry/fastq_files/Library_12428-AK-0002_12_S1_L005_R1_001_barcodes.csv\n",
      "Final clustered whitelist saved to: /nobackup/l3_ferrell_lab/ABE/PRA_larry/fastq_files/Library_12428-AK-0002_12_S1_L005_R1_001_barcodes_whitelist.csv\n",
      "Processing CSV file: /nobackup/l3_ferrell_lab/ABE/PRA_larry/fastq_files/Library_12428-AK-0002_12_S1_L005_R2_001_barcodes.csv\n",
      "Final clustered whitelist saved to: /nobackup/l3_ferrell_lab/ABE/PRA_larry/fastq_files/Library_12428-AK-0002_12_S1_L005_R2_001_barcodes_whitelist.csv\n",
      "Processing CSV file: /nobackup/l3_ferrell_lab/ABE/PRA_larry/fastq_files/Library_12428-AK-0002_13_S1_L005_R1_001_barcodes.csv\n",
      "Final clustered whitelist saved to: /nobackup/l3_ferrell_lab/ABE/PRA_larry/fastq_files/Library_12428-AK-0002_13_S1_L005_R1_001_barcodes_whitelist.csv\n",
      "Processing CSV file: /nobackup/l3_ferrell_lab/ABE/PRA_larry/fastq_files/Library_12428-AK-0002_13_S1_L005_R2_001_barcodes.csv\n",
      "Final clustered whitelist saved to: /nobackup/l3_ferrell_lab/ABE/PRA_larry/fastq_files/Library_12428-AK-0002_13_S1_L005_R2_001_barcodes_whitelist.csv\n",
      "Processing CSV file: /nobackup/l3_ferrell_lab/ABE/PRA_larry/fastq_files/Library_12428-AK-0002_14_S1_L005_R1_001_barcodes.csv\n",
      "Final clustered whitelist saved to: /nobackup/l3_ferrell_lab/ABE/PRA_larry/fastq_files/Library_12428-AK-0002_14_S1_L005_R1_001_barcodes_whitelist.csv\n",
      "Processing CSV file: /nobackup/l3_ferrell_lab/ABE/PRA_larry/fastq_files/Library_12428-AK-0002_14_S1_L005_R2_001_barcodes.csv\n",
      "Final clustered whitelist saved to: /nobackup/l3_ferrell_lab/ABE/PRA_larry/fastq_files/Library_12428-AK-0002_14_S1_L005_R2_001_barcodes_whitelist.csv\n"
     ]
    }
   ],
   "source": [
    "# Collpase barcodes and generate a whitelist for each fastq file in directory\n",
    "\n",
    "def process_csv_files(input_directory, output_directory, threshold=5):\n",
    "    '''\n",
    "    Process all CSV files in the specified directory.\n",
    "\n",
    "    Parameters:\n",
    "    - input_directory (str): The path to the directory containing CSV files.\n",
    "    - output_directory (str): The directory where the output CSV files will be saved.\n",
    "    - threshold (int): The clustering threshold (default is 5).\n",
    "    '''\n",
    "    for filename in os.listdir(input_directory):\n",
    "        if filename.endswith('.csv'):\n",
    "            csv_path = os.path.join(input_directory, filename)\n",
    "            print(f'Processing CSV file: {csv_path}')\n",
    "\n",
    "            # Read CSV file and extract barcodes and counts\n",
    "            cbFinal = dict()\n",
    "            with open(csv_path, 'r') as csvfile:\n",
    "                reader = csv.reader(csvfile)\n",
    "                next(reader)  # Skip header\n",
    "                for row in reader:\n",
    "                    barcode, count = row\n",
    "                    barcode = barcode.encode('utf-8')\n",
    "                    count = int(count)\n",
    "\n",
    "                    if barcode not in cbFinal:\n",
    "                        cbFinal[barcode] = 0\n",
    "\n",
    "                    cbFinal[barcode] += count\n",
    "\n",
    "            # Perform clustering\n",
    "            uc = nk.UMIClusterer()\n",
    "            CBclusters = uc(cbFinal, threshold=threshold)\n",
    "\n",
    "            # Create the final dictionary\n",
    "            cbFinalClustered = dict()\n",
    "            for cluster in CBclusters:\n",
    "                cbFinalClustered[cluster[0]] = sum(cbFinal[barcode] for barcode in cluster)\n",
    "\n",
    "            # Save the final clustered dictionary to a CSV file with the original CSV file name and 'whitelist'\n",
    "            csv_file_name = os.path.splitext(filename)[0]  # Extract CSV file name without extension\n",
    "            output_file_name = f'{csv_file_name}_whitelist.csv'\n",
    "            output_file_path = os.path.join(output_directory, output_file_name)\n",
    "\n",
    "            with open(output_file_path, 'w', newline='') as csvfile:\n",
    "                csv_writer = csv.writer(csvfile)\n",
    "                csv_writer.writerow(['Barcode', 'Count'])  # Header\n",
    "                for barcode, count in cbFinalClustered.items():\n",
    "                    barcode_str = barcode.decode('utf-8')  # Decode barcode from bytes to string\n",
    "                    csv_writer.writerow([barcode_str, count])\n",
    "\n",
    "            print(f'Final clustered whitelist saved to: {output_file_path}')\n",
    "\n",
    "\n",
    "\n",
    "process_csv_files(input_directory, output_directory, threshold = 5)\n"
   ]
  },
  {
   "cell_type": "code",
   "execution_count": null,
   "metadata": {},
   "outputs": [],
   "source": [
    "# Filtering between the replicates to get reproducable whitelists via hamming distance. \n",
    "# These are for the dupilcates of each sample: \n",
    "\n",
    "def hamming_distance(bc1, bc2):\n",
    "    '''\n",
    "    Calculate the Hamming distance between two sequences.\n",
    "\n",
    "    Parameters:\n",
    "    - bc1 (str): First sequence.\n",
    "    - bc2 (str): Second sequence.\n",
    "\n",
    "    Returns:\n",
    "    - int: The Hamming distance between bc1 and bc2.\n",
    "    '''\n",
    "    # Ensure that the sequences are of equal length\n",
    "    if len(bc1) != len(bc2):\n",
    "        raise ValueError('Sequences must be of equal length for Hamming distance calculation.')\n",
    "\n",
    "    # Calculate Hamming distance\n",
    "    distance = np.sum([x1 != x2 for x1, x2 in zip(bc1, bc2)])\n",
    "\n",
    "    return distance\n",
    "\n",
    "def collapse_and_save(input_csv1, input_csv2, output_csv, HD):\n",
    "    '''\n",
    "    Collapse barcodes between datasets and within a dataset based on Hamming distance.\n",
    "\n",
    "    Parameters:\n",
    "    - input_csv1 (str): Path to the first input CSV file.\n",
    "    - input_csv2 (str): Path to the second input CSV file.\n",
    "    - output_csv (str): Path to the output CSV file.\n",
    "    - HD (int): Hamming distance threshold.\n",
    "\n",
    "    Returns:\n",
    "    - pd.DataFrame: DataFrame containing the final collapsed barcodes.\n",
    "    '''\n",
    "    # Load input CSV files\n",
    "    df1 = pd.read_csv(input_csv1)\n",
    "    df2 = pd.read_csv(input_csv2)\n",
    "\n",
    "    # Extract barcodes from DataFrames\n",
    "    all_bcs_rep1 = sorted(df1['Barcode'])\n",
    "    all_bcs_rep2 = sorted(df2['Barcode'])\n",
    "\n",
    "    # Step 1: Collapse between datasets\n",
    "    bc_map = {}\n",
    "    for i, bc1 in enumerate(all_bcs_rep1):\n",
    "        if i > 0 and i % 500 == 0:\n",
    "            print(f'Mapped {i} out of {len(all_bcs_rep1)} barcodes')\n",
    "\n",
    "        mapped = False\n",
    "        for bc2 in all_bcs_rep2:\n",
    "            if hamming_distance(bc1, bc2) <= HD:\n",
    "                mapped = True\n",
    "                bc_map[bc1] = bc2\n",
    "                break\n",
    "\n",
    "        if not mapped:\n",
    "            bc_map[bc1] = bc1\n",
    "\n",
    "    print(f'\\nCollapsed between datasets: {len(bc_map)} barcodes')\n",
    "\n",
    "    # Step 2: Collapse within a dataset\n",
    "    for i, bc1 in enumerate(bc_map):\n",
    "        if i > 0 and i % 500 == 0:\n",
    "            print(f'Mapped {i} out of {len(bc_map)} barcodes')\n",
    "\n",
    "        mapped = False\n",
    "        for bc2 in bc_map:\n",
    "            if hamming_distance(bc1, bc2) <= HD:\n",
    "                mapped = True\n",
    "                bc_map[bc1] = bc2\n",
    "                break\n",
    "\n",
    "        if not mapped:\n",
    "            bc_map[bc1] = bc1\n",
    "\n",
    "    print(f'\\nFinal collapsed barcodes: {len(bc_map)} barcodes')\n",
    "\n",
    "\n",
    "    # Filter df1 by rows that contain barcodes from bc_map\n",
    "    df_filtered = df1[df1['Barcode'].isin(bc_map.keys())]\n",
    "\n",
    "    # Save the filtered DataFrame to an output CSV file\n",
    "    df_filtered.to_csv(output_csv, sep='\\t', index=False)\n",
    "\n",
    "    return df_filtered\n",
    "\n",
    "# # Example usage:\n",
    "# input_csv1 = os.path.join(data_directory, 'Library_Test_R2_barcodes_whitelist.csv')\n",
    "# input_csv2 = os.path.join(data_directory, 'Library_Test_R1_barcodes_whitelist.csv')\n",
    "# output_csv = os.path.join(data_directory, 'whitelist_merged.csv')\n",
    "# HD = 1 # Set your Hamming distance threshold\n",
    "\n",
    "# result_dataframe = collapse_and_save(input_csv1, input_csv2, output_csv, HD)"
   ]
  },
  {
   "cell_type": "code",
   "execution_count": null,
   "metadata": {},
   "outputs": [],
   "source": [
    "def collapse_and_save_directory(input_directory, output_directory, HD):\n",
    "    '''\n",
    "    Collapse barcodes between datasets and within a dataset based on Hamming distance for all pairs of CSV files in a directory.\n",
    "\n",
    "    Parameters:\n",
    "    - input_directory (str): Path to the input directory containing pairs of CSV files.\n",
    "    - output_directory (str): Path to the output directory for saving collapsed CSV files.\n",
    "    - HD (int): Hamming distance threshold.\n",
    "\n",
    "    Returns:\n",
    "    - List of pd.DataFrame: List of DataFrames containing the final collapsed barcodes for each pair.\n",
    "    '''\n",
    "    result_dataframes = []\n",
    "\n",
    "    # List all files in the input directory\n",
    "    files = os.listdir(input_directory)\n",
    "\n",
    "    # Iterate through each file in the directory\n",
    "    for file in files:\n",
    "        # Check if the file has 'R1' in its name\n",
    "        if file.endswith('.csv') and 'duplicate_1' and 'whitelist' in file:\n",
    "            # Generate the corresponding file name for 'R2'\n",
    "            file_R2 = file.replace('duplicate_1', 'duplicate_2')\n",
    "\n",
    "            # Form the full paths for both R1 and R2 files\n",
    "            input_csv1 = os.path.join(input_directory, file)\n",
    "            input_csv2 = os.path.join(input_directory, file_R2)\n",
    "\n",
    "            # Extract the library name (assuming it is common between R1 and R2)\n",
    "            library_name = file.replace('_duplicate_1_', '_').replace('_duplicate_2_', '_').split('.csv')[0]\n",
    "            print(library_name)\n",
    "            # Form the output CSV file path\n",
    "            output_csv = os.path.join(output_directory, f'{library_name}_merged.csv')\n",
    "\n",
    "            # Perform barcode collapsing for the current pair\n",
    "            collapse_and_save(input_csv1, input_csv2, output_csv, HD)\n",
    "\n",
    "            # # Append the resulting DataFrame to the list\n",
    "            # result_dataframes.append(df_filtered)\n",
    "\n",
    "            # # Save the individual CSV file for the current pair\n",
    "            # individual_output_csv = os.path.join(output_directory, f'whitelist_{library_name}_individual.csv')\n",
    "            # df_filtered.to_csv(individual_output_csv, sep='\\t', index=False)\n",
    "\n",
    "    # return result_dataframes\n",
    "\n",
    "# Example usage:\n",
    "input_directory = data_directory\n",
    "output_directory = data_directory\n",
    "HD = 5  # Set your Hamming distance threshold\n",
    "\n",
    "result_dataframes = collapse_and_save_directory(input_directory, output_directory, HD)\n"
   ]
  }
 ],
 "metadata": {
  "kernelspec": {
   "display_name": "Python (Juypterenv)",
   "language": "python",
   "name": "juypterenv"
  },
  "language_info": {
   "codemirror_mode": {
    "name": "ipython",
    "version": 3
   },
   "file_extension": ".py",
   "mimetype": "text/x-python",
   "name": "python",
   "nbconvert_exporter": "python",
   "pygments_lexer": "ipython3",
   "version": "3.10.4"
  }
 },
 "nbformat": 4,
 "nbformat_minor": 2
}
